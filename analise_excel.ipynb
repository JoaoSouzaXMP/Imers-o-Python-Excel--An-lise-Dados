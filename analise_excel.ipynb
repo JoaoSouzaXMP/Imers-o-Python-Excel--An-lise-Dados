{
 "cells": [
  {
   "cell_type": "markdown",
   "id": "b5d23c64-cdcd-4c3e-ac29-1ed608b8121f",
   "metadata": {},
   "source": [
    "# Imersão Python Do Excel à Análise de Dados"
   ]
  },
  {
   "cell_type": "markdown",
   "id": "7614aa09",
   "metadata": {},
   "source": [
    "### Analise utilizando tabela local do Excel"
   ]
  },
  {
   "cell_type": "markdown",
   "id": "ae54bfbd",
   "metadata": {},
   "source": [
    "Imports"
   ]
  },
  {
   "cell_type": "code",
   "execution_count": 1,
   "id": "3f0cb329-a139-4dc6-92b2-d3b334814cb3",
   "metadata": {},
   "outputs": [],
   "source": [
    "import pandas as pd\n",
    "import plotly.express as px"
   ]
  },
  {
   "cell_type": "markdown",
   "id": "36987424",
   "metadata": {},
   "source": [
    "Codigo"
   ]
  },
  {
   "cell_type": "code",
   "execution_count": 2,
   "id": "350495f7-2ed5-412d-83b0-9ee306126e2d",
   "metadata": {},
   "outputs": [
    {
     "data": {
      "text/html": [
       "<div>\n",
       "<style scoped>\n",
       "    .dataframe tbody tr th:only-of-type {\n",
       "        vertical-align: middle;\n",
       "    }\n",
       "\n",
       "    .dataframe tbody tr th {\n",
       "        vertical-align: top;\n",
       "    }\n",
       "\n",
       "    .dataframe thead th {\n",
       "        text-align: right;\n",
       "    }\n",
       "</style>\n",
       "<table border=\"1\" class=\"dataframe\">\n",
       "  <thead>\n",
       "    <tr style=\"text-align: right;\">\n",
       "      <th></th>\n",
       "      <th>Ativo</th>\n",
       "      <th>Data</th>\n",
       "      <th>Último (R$)</th>\n",
       "      <th>Var. Dia (%)</th>\n",
       "      <th>Var. Sem. (%)</th>\n",
       "      <th>Var. Mês (%)</th>\n",
       "      <th>Var. Ano (%)</th>\n",
       "      <th>Var. 12M (%)</th>\n",
       "      <th>Val. Mín</th>\n",
       "      <th>Val. Máx</th>\n",
       "      <th>Volume</th>\n",
       "      <th>Variação %</th>\n",
       "      <th>Valor Inicial R$</th>\n",
       "      <th>Quantidade de ações</th>\n",
       "      <th>Variação $</th>\n",
       "      <th>Resultado</th>\n",
       "      <th>Nome Empresa</th>\n",
       "      <th>Segmento</th>\n",
       "      <th>Idade</th>\n",
       "      <th>CAT_Idade</th>\n",
       "    </tr>\n",
       "  </thead>\n",
       "  <tbody>\n",
       "    <tr>\n",
       "      <th>0</th>\n",
       "      <td>USIM5</td>\n",
       "      <td>2024-01-26</td>\n",
       "      <td>9.50</td>\n",
       "      <td>5.20</td>\n",
       "      <td>11.76</td>\n",
       "      <td>2.26</td>\n",
       "      <td>2.26</td>\n",
       "      <td>15.97</td>\n",
       "      <td>9.18</td>\n",
       "      <td>9.56</td>\n",
       "      <td>319,16 M</td>\n",
       "      <td>0.0520</td>\n",
       "      <td>9.030418</td>\n",
       "      <td>515117391</td>\n",
       "      <td>2.418897e+08</td>\n",
       "      <td>Subiu</td>\n",
       "      <td>Usiminas</td>\n",
       "      <td>Siderurgia</td>\n",
       "      <td>60</td>\n",
       "      <td>Entre 50 e 100</td>\n",
       "    </tr>\n",
       "    <tr>\n",
       "      <th>1</th>\n",
       "      <td>CMIN3</td>\n",
       "      <td>2024-01-26</td>\n",
       "      <td>6.82</td>\n",
       "      <td>2.40</td>\n",
       "      <td>2.40</td>\n",
       "      <td>-12.11</td>\n",
       "      <td>-12.11</td>\n",
       "      <td>50.56</td>\n",
       "      <td>6.66</td>\n",
       "      <td>6.86</td>\n",
       "      <td>32,65 M</td>\n",
       "      <td>0.0240</td>\n",
       "      <td>6.660156</td>\n",
       "      <td>1110559345</td>\n",
       "      <td>1.775160e+08</td>\n",
       "      <td>Subiu</td>\n",
       "      <td>CSN Mineração</td>\n",
       "      <td>Mineração</td>\n",
       "      <td>8</td>\n",
       "      <td>Menos de 50 Anos</td>\n",
       "    </tr>\n",
       "    <tr>\n",
       "      <th>2</th>\n",
       "      <td>PETR3</td>\n",
       "      <td>2024-01-26</td>\n",
       "      <td>41.96</td>\n",
       "      <td>2.19</td>\n",
       "      <td>7.73</td>\n",
       "      <td>7.64</td>\n",
       "      <td>7.64</td>\n",
       "      <td>77.55</td>\n",
       "      <td>40.81</td>\n",
       "      <td>42.34</td>\n",
       "      <td>436,69 M</td>\n",
       "      <td>0.0219</td>\n",
       "      <td>41.060769</td>\n",
       "      <td>2379877655</td>\n",
       "      <td>2.140059e+09</td>\n",
       "      <td>Subiu</td>\n",
       "      <td>Petrobras</td>\n",
       "      <td>Energia / Petróleo</td>\n",
       "      <td>68</td>\n",
       "      <td>Entre 50 e 100</td>\n",
       "    </tr>\n",
       "    <tr>\n",
       "      <th>3</th>\n",
       "      <td>SUZB3</td>\n",
       "      <td>2024-01-26</td>\n",
       "      <td>52.91</td>\n",
       "      <td>2.04</td>\n",
       "      <td>2.14</td>\n",
       "      <td>-4.89</td>\n",
       "      <td>-4.89</td>\n",
       "      <td>18.85</td>\n",
       "      <td>51.89</td>\n",
       "      <td>53.17</td>\n",
       "      <td>162,55 M</td>\n",
       "      <td>0.0204</td>\n",
       "      <td>51.852215</td>\n",
       "      <td>683452836</td>\n",
       "      <td>7.229463e+08</td>\n",
       "      <td>Subiu</td>\n",
       "      <td>Suzano</td>\n",
       "      <td>Papel e Celulose</td>\n",
       "      <td>98</td>\n",
       "      <td>Entre 50 e 100</td>\n",
       "    </tr>\n",
       "    <tr>\n",
       "      <th>4</th>\n",
       "      <td>CPFE3</td>\n",
       "      <td>2024-01-26</td>\n",
       "      <td>37.10</td>\n",
       "      <td>2.03</td>\n",
       "      <td>2.49</td>\n",
       "      <td>-3.66</td>\n",
       "      <td>-3.66</td>\n",
       "      <td>20.70</td>\n",
       "      <td>36.37</td>\n",
       "      <td>37.32</td>\n",
       "      <td>73,42 M</td>\n",
       "      <td>0.0203</td>\n",
       "      <td>36.361854</td>\n",
       "      <td>187732538</td>\n",
       "      <td>1.385740e+08</td>\n",
       "      <td>Subiu</td>\n",
       "      <td>CPFL Energia</td>\n",
       "      <td>Energia Elétrica</td>\n",
       "      <td>108</td>\n",
       "      <td>Mais de 100 anos</td>\n",
       "    </tr>\n",
       "    <tr>\n",
       "      <th>...</th>\n",
       "      <td>...</td>\n",
       "      <td>...</td>\n",
       "      <td>...</td>\n",
       "      <td>...</td>\n",
       "      <td>...</td>\n",
       "      <td>...</td>\n",
       "      <td>...</td>\n",
       "      <td>...</td>\n",
       "      <td>...</td>\n",
       "      <td>...</td>\n",
       "      <td>...</td>\n",
       "      <td>...</td>\n",
       "      <td>...</td>\n",
       "      <td>...</td>\n",
       "      <td>...</td>\n",
       "      <td>...</td>\n",
       "      <td>...</td>\n",
       "      <td>...</td>\n",
       "      <td>...</td>\n",
       "      <td>...</td>\n",
       "    </tr>\n",
       "    <tr>\n",
       "      <th>76</th>\n",
       "      <td>CRFB3</td>\n",
       "      <td>2024-01-26</td>\n",
       "      <td>10.71</td>\n",
       "      <td>-2.45</td>\n",
       "      <td>-9.47</td>\n",
       "      <td>-13.98</td>\n",
       "      <td>-13.98</td>\n",
       "      <td>-32.72</td>\n",
       "      <td>10.70</td>\n",
       "      <td>11.08</td>\n",
       "      <td>38,19 M</td>\n",
       "      <td>-0.0245</td>\n",
       "      <td>10.978985</td>\n",
       "      <td>533990587</td>\n",
       "      <td>-1.436355e+08</td>\n",
       "      <td>Desceu</td>\n",
       "      <td>Carrefour Brasil</td>\n",
       "      <td>Varejo / Supermercados</td>\n",
       "      <td>46</td>\n",
       "      <td>Menos de 50 Anos</td>\n",
       "    </tr>\n",
       "    <tr>\n",
       "      <th>77</th>\n",
       "      <td>BHIA3</td>\n",
       "      <td>2024-01-26</td>\n",
       "      <td>8.70</td>\n",
       "      <td>-2.46</td>\n",
       "      <td>-6.95</td>\n",
       "      <td>-23.55</td>\n",
       "      <td>-23.55</td>\n",
       "      <td>-85.74</td>\n",
       "      <td>8.67</td>\n",
       "      <td>8.95</td>\n",
       "      <td>27,54 M</td>\n",
       "      <td>-0.0246</td>\n",
       "      <td>8.919418</td>\n",
       "      <td>94843047</td>\n",
       "      <td>-2.081024e+07</td>\n",
       "      <td>Desceu</td>\n",
       "      <td>Casas Bahia</td>\n",
       "      <td>Varejo / Eletrodomésticos</td>\n",
       "      <td>98</td>\n",
       "      <td>Entre 50 e 100</td>\n",
       "    </tr>\n",
       "    <tr>\n",
       "      <th>78</th>\n",
       "      <td>RENT3</td>\n",
       "      <td>2024-01-26</td>\n",
       "      <td>56.24</td>\n",
       "      <td>-3.63</td>\n",
       "      <td>-6.41</td>\n",
       "      <td>-11.57</td>\n",
       "      <td>-11.57</td>\n",
       "      <td>-2.77</td>\n",
       "      <td>56.04</td>\n",
       "      <td>58.90</td>\n",
       "      <td>624,74 M</td>\n",
       "      <td>-0.0363</td>\n",
       "      <td>58.358410</td>\n",
       "      <td>853202347</td>\n",
       "      <td>-1.807433e+09</td>\n",
       "      <td>Desceu</td>\n",
       "      <td>Localiza</td>\n",
       "      <td>Locação de Veículos</td>\n",
       "      <td>48</td>\n",
       "      <td>Menos de 50 Anos</td>\n",
       "    </tr>\n",
       "    <tr>\n",
       "      <th>79</th>\n",
       "      <td>CVCB3</td>\n",
       "      <td>2024-01-26</td>\n",
       "      <td>3.07</td>\n",
       "      <td>-4.36</td>\n",
       "      <td>-5.54</td>\n",
       "      <td>-12.29</td>\n",
       "      <td>-12.29</td>\n",
       "      <td>-36.83</td>\n",
       "      <td>3.05</td>\n",
       "      <td>3.23</td>\n",
       "      <td>101,46 M</td>\n",
       "      <td>-0.0436</td>\n",
       "      <td>3.209954</td>\n",
       "      <td>525582771</td>\n",
       "      <td>-7.355741e+07</td>\n",
       "      <td>Desceu</td>\n",
       "      <td>CVC</td>\n",
       "      <td>Turismo</td>\n",
       "      <td>49</td>\n",
       "      <td>Menos de 50 Anos</td>\n",
       "    </tr>\n",
       "    <tr>\n",
       "      <th>80</th>\n",
       "      <td>GOLL4</td>\n",
       "      <td>2024-01-26</td>\n",
       "      <td>5.92</td>\n",
       "      <td>-8.07</td>\n",
       "      <td>-15.91</td>\n",
       "      <td>-34.00</td>\n",
       "      <td>-34.00</td>\n",
       "      <td>-25.44</td>\n",
       "      <td>5.51</td>\n",
       "      <td>6.02</td>\n",
       "      <td>154,36 M</td>\n",
       "      <td>-0.0807</td>\n",
       "      <td>6.439682</td>\n",
       "      <td>198184909</td>\n",
       "      <td>-1.029932e+08</td>\n",
       "      <td>Desceu</td>\n",
       "      <td>GOL</td>\n",
       "      <td>Transporte Aéreo</td>\n",
       "      <td>13</td>\n",
       "      <td>Menos de 50 Anos</td>\n",
       "    </tr>\n",
       "  </tbody>\n",
       "</table>\n",
       "<p>81 rows × 20 columns</p>\n",
       "</div>"
      ],
      "text/plain": [
       "    Ativo       Data  Último (R$)  Var. Dia (%)  Var. Sem. (%)  Var. Mês (%)  \\\n",
       "0   USIM5 2024-01-26         9.50          5.20          11.76          2.26   \n",
       "1   CMIN3 2024-01-26         6.82          2.40           2.40        -12.11   \n",
       "2   PETR3 2024-01-26        41.96          2.19           7.73          7.64   \n",
       "3   SUZB3 2024-01-26        52.91          2.04           2.14         -4.89   \n",
       "4   CPFE3 2024-01-26        37.10          2.03           2.49         -3.66   \n",
       "..    ...        ...          ...           ...            ...           ...   \n",
       "76  CRFB3 2024-01-26        10.71         -2.45          -9.47        -13.98   \n",
       "77  BHIA3 2024-01-26         8.70         -2.46          -6.95        -23.55   \n",
       "78  RENT3 2024-01-26        56.24         -3.63          -6.41        -11.57   \n",
       "79  CVCB3 2024-01-26         3.07         -4.36          -5.54        -12.29   \n",
       "80  GOLL4 2024-01-26         5.92         -8.07         -15.91        -34.00   \n",
       "\n",
       "    Var. Ano (%)  Var. 12M (%)  Val. Mín  Val. Máx    Volume  Variação %  \\\n",
       "0           2.26         15.97      9.18      9.56  319,16 M      0.0520   \n",
       "1         -12.11         50.56      6.66      6.86   32,65 M      0.0240   \n",
       "2           7.64         77.55     40.81     42.34  436,69 M      0.0219   \n",
       "3          -4.89         18.85     51.89     53.17  162,55 M      0.0204   \n",
       "4          -3.66         20.70     36.37     37.32   73,42 M      0.0203   \n",
       "..           ...           ...       ...       ...       ...         ...   \n",
       "76        -13.98        -32.72     10.70     11.08   38,19 M     -0.0245   \n",
       "77        -23.55        -85.74      8.67      8.95   27,54 M     -0.0246   \n",
       "78        -11.57         -2.77     56.04     58.90  624,74 M     -0.0363   \n",
       "79        -12.29        -36.83      3.05      3.23  101,46 M     -0.0436   \n",
       "80        -34.00        -25.44      5.51      6.02  154,36 M     -0.0807   \n",
       "\n",
       "    Valor Inicial R$  Quantidade de ações    Variação $ Resultado  \\\n",
       "0           9.030418            515117391  2.418897e+08     Subiu   \n",
       "1           6.660156           1110559345  1.775160e+08     Subiu   \n",
       "2          41.060769           2379877655  2.140059e+09     Subiu   \n",
       "3          51.852215            683452836  7.229463e+08     Subiu   \n",
       "4          36.361854            187732538  1.385740e+08     Subiu   \n",
       "..               ...                  ...           ...       ...   \n",
       "76         10.978985            533990587 -1.436355e+08    Desceu   \n",
       "77          8.919418             94843047 -2.081024e+07    Desceu   \n",
       "78         58.358410            853202347 -1.807433e+09    Desceu   \n",
       "79          3.209954            525582771 -7.355741e+07    Desceu   \n",
       "80          6.439682            198184909 -1.029932e+08    Desceu   \n",
       "\n",
       "        Nome Empresa                   Segmento  Idade         CAT_Idade  \n",
       "0           Usiminas                 Siderurgia     60    Entre 50 e 100  \n",
       "1      CSN Mineração                  Mineração      8  Menos de 50 Anos  \n",
       "2          Petrobras         Energia / Petróleo     68    Entre 50 e 100  \n",
       "3             Suzano           Papel e Celulose     98    Entre 50 e 100  \n",
       "4       CPFL Energia           Energia Elétrica    108  Mais de 100 anos  \n",
       "..               ...                        ...    ...               ...  \n",
       "76  Carrefour Brasil     Varejo / Supermercados     46  Menos de 50 Anos  \n",
       "77       Casas Bahia  Varejo / Eletrodomésticos     98    Entre 50 e 100  \n",
       "78          Localiza        Locação de Veículos     48  Menos de 50 Anos  \n",
       "79               CVC                    Turismo     49  Menos de 50 Anos  \n",
       "80               GOL           Transporte Aéreo     13  Menos de 50 Anos  \n",
       "\n",
       "[81 rows x 20 columns]"
      ]
     },
     "execution_count": 2,
     "metadata": {},
     "output_type": "execute_result"
    }
   ],
   "source": [
    "df_principal = pd.read_excel('acoes.xlsx', sheet_name='Principal')\n",
    "df_principal"
   ]
  },
  {
   "cell_type": "code",
   "execution_count": 3,
   "id": "a2af3e00",
   "metadata": {},
   "outputs": [
    {
     "data": {
      "text/html": [
       "<div>\n",
       "<style scoped>\n",
       "    .dataframe tbody tr th:only-of-type {\n",
       "        vertical-align: middle;\n",
       "    }\n",
       "\n",
       "    .dataframe tbody tr th {\n",
       "        vertical-align: top;\n",
       "    }\n",
       "\n",
       "    .dataframe thead th {\n",
       "        text-align: right;\n",
       "    }\n",
       "</style>\n",
       "<table border=\"1\" class=\"dataframe\">\n",
       "  <thead>\n",
       "    <tr style=\"text-align: right;\">\n",
       "      <th></th>\n",
       "      <th>Código</th>\n",
       "      <th>Qtde. Teórica</th>\n",
       "    </tr>\n",
       "  </thead>\n",
       "  <tbody>\n",
       "    <tr>\n",
       "      <th>0</th>\n",
       "      <td>RRRP3</td>\n",
       "      <td>2.356656e+08</td>\n",
       "    </tr>\n",
       "    <tr>\n",
       "      <th>1</th>\n",
       "      <td>ALOS3</td>\n",
       "      <td>5.326166e+08</td>\n",
       "    </tr>\n",
       "    <tr>\n",
       "      <th>2</th>\n",
       "      <td>ALPA4</td>\n",
       "      <td>1.767340e+08</td>\n",
       "    </tr>\n",
       "    <tr>\n",
       "      <th>3</th>\n",
       "      <td>ABEV3</td>\n",
       "      <td>4.394246e+09</td>\n",
       "    </tr>\n",
       "    <tr>\n",
       "      <th>4</th>\n",
       "      <td>ARZZ3</td>\n",
       "      <td>6.230589e+07</td>\n",
       "    </tr>\n",
       "    <tr>\n",
       "      <th>...</th>\n",
       "      <td>...</td>\n",
       "      <td>...</td>\n",
       "    </tr>\n",
       "    <tr>\n",
       "      <th>84</th>\n",
       "      <td>VBBR3</td>\n",
       "      <td>1.114413e+09</td>\n",
       "    </tr>\n",
       "    <tr>\n",
       "      <th>85</th>\n",
       "      <td>WEGE3</td>\n",
       "      <td>1.481593e+09</td>\n",
       "    </tr>\n",
       "    <tr>\n",
       "      <th>86</th>\n",
       "      <td>YDUQ3</td>\n",
       "      <td>2.893479e+08</td>\n",
       "    </tr>\n",
       "    <tr>\n",
       "      <th>87</th>\n",
       "      <td>Quantidade Teórica Total</td>\n",
       "      <td>9.637210e+10</td>\n",
       "    </tr>\n",
       "    <tr>\n",
       "      <th>88</th>\n",
       "      <td>Redutor</td>\n",
       "      <td>1.704785e+07</td>\n",
       "    </tr>\n",
       "  </tbody>\n",
       "</table>\n",
       "<p>89 rows × 2 columns</p>\n",
       "</div>"
      ],
      "text/plain": [
       "                      Código  Qtde. Teórica\n",
       "0                      RRRP3   2.356656e+08\n",
       "1                      ALOS3   5.326166e+08\n",
       "2                      ALPA4   1.767340e+08\n",
       "3                      ABEV3   4.394246e+09\n",
       "4                      ARZZ3   6.230589e+07\n",
       "..                       ...            ...\n",
       "84                     VBBR3   1.114413e+09\n",
       "85                     WEGE3   1.481593e+09\n",
       "86                     YDUQ3   2.893479e+08\n",
       "87  Quantidade Teórica Total   9.637210e+10\n",
       "88                   Redutor   1.704785e+07\n",
       "\n",
       "[89 rows x 2 columns]"
      ]
     },
     "execution_count": 3,
     "metadata": {},
     "output_type": "execute_result"
    }
   ],
   "source": [
    "df_total_acoes = pd.read_excel('acoes.xlsx', sheet_name='Total_de_acoes')\n",
    "df_total_acoes"
   ]
  },
  {
   "cell_type": "code",
   "execution_count": 4,
   "id": "77d02ca7",
   "metadata": {},
   "outputs": [
    {
     "data": {
      "text/html": [
       "<div>\n",
       "<style scoped>\n",
       "    .dataframe tbody tr th:only-of-type {\n",
       "        vertical-align: middle;\n",
       "    }\n",
       "\n",
       "    .dataframe tbody tr th {\n",
       "        vertical-align: top;\n",
       "    }\n",
       "\n",
       "    .dataframe thead th {\n",
       "        text-align: right;\n",
       "    }\n",
       "</style>\n",
       "<table border=\"1\" class=\"dataframe\">\n",
       "  <thead>\n",
       "    <tr style=\"text-align: right;\">\n",
       "      <th></th>\n",
       "      <th>Ticker</th>\n",
       "      <th>Nome</th>\n",
       "    </tr>\n",
       "  </thead>\n",
       "  <tbody>\n",
       "    <tr>\n",
       "      <th>0</th>\n",
       "      <td>MGLU3</td>\n",
       "      <td>Magazine Luiza</td>\n",
       "    </tr>\n",
       "    <tr>\n",
       "      <th>1</th>\n",
       "      <td>HAPV3</td>\n",
       "      <td>Hapvida</td>\n",
       "    </tr>\n",
       "    <tr>\n",
       "      <th>2</th>\n",
       "      <td>PETR4</td>\n",
       "      <td>Petrobras</td>\n",
       "    </tr>\n",
       "    <tr>\n",
       "      <th>3</th>\n",
       "      <td>B3SA3</td>\n",
       "      <td>B3</td>\n",
       "    </tr>\n",
       "    <tr>\n",
       "      <th>4</th>\n",
       "      <td>USIM5</td>\n",
       "      <td>Usiminas</td>\n",
       "    </tr>\n",
       "    <tr>\n",
       "      <th>...</th>\n",
       "      <td>...</td>\n",
       "      <td>...</td>\n",
       "    </tr>\n",
       "    <tr>\n",
       "      <th>530</th>\n",
       "      <td>TKNO3</td>\n",
       "      <td>Tekno</td>\n",
       "    </tr>\n",
       "    <tr>\n",
       "      <th>531</th>\n",
       "      <td>COCE6</td>\n",
       "      <td>Coelce</td>\n",
       "    </tr>\n",
       "    <tr>\n",
       "      <th>532</th>\n",
       "      <td>MGEL3</td>\n",
       "      <td>Mangels</td>\n",
       "    </tr>\n",
       "    <tr>\n",
       "      <th>533</th>\n",
       "      <td>CTSA8</td>\n",
       "      <td>Santanense</td>\n",
       "    </tr>\n",
       "    <tr>\n",
       "      <th>534</th>\n",
       "      <td>MMAQ4</td>\n",
       "      <td>Minasmáquinas</td>\n",
       "    </tr>\n",
       "  </tbody>\n",
       "</table>\n",
       "<p>535 rows × 2 columns</p>\n",
       "</div>"
      ],
      "text/plain": [
       "    Ticker            Nome\n",
       "0    MGLU3  Magazine Luiza\n",
       "1    HAPV3         Hapvida\n",
       "2    PETR4       Petrobras\n",
       "3    B3SA3              B3\n",
       "4    USIM5        Usiminas\n",
       "..     ...             ...\n",
       "530  TKNO3           Tekno\n",
       "531  COCE6          Coelce\n",
       "532  MGEL3         Mangels\n",
       "533  CTSA8      Santanense\n",
       "534  MMAQ4   Minasmáquinas\n",
       "\n",
       "[535 rows x 2 columns]"
      ]
     },
     "execution_count": 4,
     "metadata": {},
     "output_type": "execute_result"
    }
   ],
   "source": [
    "df_ticker = pd.read_excel('acoes.xlsx', sheet_name='Ticker')\n",
    "df_ticker"
   ]
  },
  {
   "cell_type": "code",
   "execution_count": 5,
   "id": "394809a6",
   "metadata": {},
   "outputs": [
    {
     "data": {
      "text/html": [
       "<div>\n",
       "<style scoped>\n",
       "    .dataframe tbody tr th:only-of-type {\n",
       "        vertical-align: middle;\n",
       "    }\n",
       "\n",
       "    .dataframe tbody tr th {\n",
       "        vertical-align: top;\n",
       "    }\n",
       "\n",
       "    .dataframe thead th {\n",
       "        text-align: right;\n",
       "    }\n",
       "</style>\n",
       "<table border=\"1\" class=\"dataframe\">\n",
       "  <thead>\n",
       "    <tr style=\"text-align: right;\">\n",
       "      <th></th>\n",
       "      <th>Nome Empresa</th>\n",
       "      <th>Segmento</th>\n",
       "      <th>Idade (anos)</th>\n",
       "    </tr>\n",
       "  </thead>\n",
       "  <tbody>\n",
       "    <tr>\n",
       "      <th>0</th>\n",
       "      <td>Usiminas</td>\n",
       "      <td>Siderurgia</td>\n",
       "      <td>60</td>\n",
       "    </tr>\n",
       "    <tr>\n",
       "      <th>1</th>\n",
       "      <td>CSN Mineração</td>\n",
       "      <td>Mineração</td>\n",
       "      <td>8</td>\n",
       "    </tr>\n",
       "    <tr>\n",
       "      <th>2</th>\n",
       "      <td>Petrobras</td>\n",
       "      <td>Energia / Petróleo</td>\n",
       "      <td>68</td>\n",
       "    </tr>\n",
       "    <tr>\n",
       "      <th>3</th>\n",
       "      <td>Suzano</td>\n",
       "      <td>Papel e Celulose</td>\n",
       "      <td>98</td>\n",
       "    </tr>\n",
       "    <tr>\n",
       "      <th>4</th>\n",
       "      <td>CPFL Energia</td>\n",
       "      <td>Energia Elétrica</td>\n",
       "      <td>108</td>\n",
       "    </tr>\n",
       "    <tr>\n",
       "      <th>...</th>\n",
       "      <td>...</td>\n",
       "      <td>...</td>\n",
       "      <td>...</td>\n",
       "    </tr>\n",
       "    <tr>\n",
       "      <th>74</th>\n",
       "      <td>Carrefour Brasil</td>\n",
       "      <td>Varejo / Supermercados</td>\n",
       "      <td>46</td>\n",
       "    </tr>\n",
       "    <tr>\n",
       "      <th>75</th>\n",
       "      <td>Casas Bahia</td>\n",
       "      <td>Varejo / Eletrodomésticos</td>\n",
       "      <td>98</td>\n",
       "    </tr>\n",
       "    <tr>\n",
       "      <th>76</th>\n",
       "      <td>Localiza</td>\n",
       "      <td>Locação de Veículos</td>\n",
       "      <td>48</td>\n",
       "    </tr>\n",
       "    <tr>\n",
       "      <th>77</th>\n",
       "      <td>CVC</td>\n",
       "      <td>Turismo</td>\n",
       "      <td>49</td>\n",
       "    </tr>\n",
       "    <tr>\n",
       "      <th>78</th>\n",
       "      <td>GOL</td>\n",
       "      <td>Transporte Aéreo</td>\n",
       "      <td>20</td>\n",
       "    </tr>\n",
       "  </tbody>\n",
       "</table>\n",
       "<p>79 rows × 3 columns</p>\n",
       "</div>"
      ],
      "text/plain": [
       "        Nome Empresa                   Segmento  Idade (anos)\n",
       "0           Usiminas                 Siderurgia            60\n",
       "1      CSN Mineração                  Mineração             8\n",
       "2          Petrobras         Energia / Petróleo            68\n",
       "3             Suzano           Papel e Celulose            98\n",
       "4       CPFL Energia           Energia Elétrica           108\n",
       "..               ...                        ...           ...\n",
       "74  Carrefour Brasil     Varejo / Supermercados            46\n",
       "75       Casas Bahia  Varejo / Eletrodomésticos            98\n",
       "76          Localiza        Locação de Veículos            48\n",
       "77               CVC                    Turismo            49\n",
       "78               GOL           Transporte Aéreo            20\n",
       "\n",
       "[79 rows x 3 columns]"
      ]
     },
     "execution_count": 5,
     "metadata": {},
     "output_type": "execute_result"
    }
   ],
   "source": [
    "df_ChatBing = pd.read_excel('acoes.xlsx', sheet_name='Chat Bing')\n",
    "df_ChatBing"
   ]
  },
  {
   "cell_type": "code",
   "execution_count": 6,
   "id": "dfa3e41e",
   "metadata": {},
   "outputs": [
    {
     "data": {
      "text/html": [
       "<div>\n",
       "<style scoped>\n",
       "    .dataframe tbody tr th:only-of-type {\n",
       "        vertical-align: middle;\n",
       "    }\n",
       "\n",
       "    .dataframe tbody tr th {\n",
       "        vertical-align: top;\n",
       "    }\n",
       "\n",
       "    .dataframe thead th {\n",
       "        text-align: right;\n",
       "    }\n",
       "</style>\n",
       "<table border=\"1\" class=\"dataframe\">\n",
       "  <thead>\n",
       "    <tr style=\"text-align: right;\">\n",
       "      <th></th>\n",
       "      <th>Ativo</th>\n",
       "      <th>Data</th>\n",
       "      <th>Último (R$)</th>\n",
       "      <th>Var. Dia (%)</th>\n",
       "    </tr>\n",
       "  </thead>\n",
       "  <tbody>\n",
       "    <tr>\n",
       "      <th>0</th>\n",
       "      <td>USIM5</td>\n",
       "      <td>2024-01-26</td>\n",
       "      <td>9.50</td>\n",
       "      <td>5.20</td>\n",
       "    </tr>\n",
       "    <tr>\n",
       "      <th>1</th>\n",
       "      <td>CMIN3</td>\n",
       "      <td>2024-01-26</td>\n",
       "      <td>6.82</td>\n",
       "      <td>2.40</td>\n",
       "    </tr>\n",
       "    <tr>\n",
       "      <th>2</th>\n",
       "      <td>PETR3</td>\n",
       "      <td>2024-01-26</td>\n",
       "      <td>41.96</td>\n",
       "      <td>2.19</td>\n",
       "    </tr>\n",
       "    <tr>\n",
       "      <th>3</th>\n",
       "      <td>SUZB3</td>\n",
       "      <td>2024-01-26</td>\n",
       "      <td>52.91</td>\n",
       "      <td>2.04</td>\n",
       "    </tr>\n",
       "    <tr>\n",
       "      <th>4</th>\n",
       "      <td>CPFE3</td>\n",
       "      <td>2024-01-26</td>\n",
       "      <td>37.10</td>\n",
       "      <td>2.03</td>\n",
       "    </tr>\n",
       "    <tr>\n",
       "      <th>...</th>\n",
       "      <td>...</td>\n",
       "      <td>...</td>\n",
       "      <td>...</td>\n",
       "      <td>...</td>\n",
       "    </tr>\n",
       "    <tr>\n",
       "      <th>76</th>\n",
       "      <td>CRFB3</td>\n",
       "      <td>2024-01-26</td>\n",
       "      <td>10.71</td>\n",
       "      <td>-2.45</td>\n",
       "    </tr>\n",
       "    <tr>\n",
       "      <th>77</th>\n",
       "      <td>BHIA3</td>\n",
       "      <td>2024-01-26</td>\n",
       "      <td>8.70</td>\n",
       "      <td>-2.46</td>\n",
       "    </tr>\n",
       "    <tr>\n",
       "      <th>78</th>\n",
       "      <td>RENT3</td>\n",
       "      <td>2024-01-26</td>\n",
       "      <td>56.24</td>\n",
       "      <td>-3.63</td>\n",
       "    </tr>\n",
       "    <tr>\n",
       "      <th>79</th>\n",
       "      <td>CVCB3</td>\n",
       "      <td>2024-01-26</td>\n",
       "      <td>3.07</td>\n",
       "      <td>-4.36</td>\n",
       "    </tr>\n",
       "    <tr>\n",
       "      <th>80</th>\n",
       "      <td>GOLL4</td>\n",
       "      <td>2024-01-26</td>\n",
       "      <td>5.92</td>\n",
       "      <td>-8.07</td>\n",
       "    </tr>\n",
       "  </tbody>\n",
       "</table>\n",
       "<p>81 rows × 4 columns</p>\n",
       "</div>"
      ],
      "text/plain": [
       "    Ativo       Data  Último (R$)  Var. Dia (%)\n",
       "0   USIM5 2024-01-26         9.50          5.20\n",
       "1   CMIN3 2024-01-26         6.82          2.40\n",
       "2   PETR3 2024-01-26        41.96          2.19\n",
       "3   SUZB3 2024-01-26        52.91          2.04\n",
       "4   CPFE3 2024-01-26        37.10          2.03\n",
       "..    ...        ...          ...           ...\n",
       "76  CRFB3 2024-01-26        10.71         -2.45\n",
       "77  BHIA3 2024-01-26         8.70         -2.46\n",
       "78  RENT3 2024-01-26        56.24         -3.63\n",
       "79  CVCB3 2024-01-26         3.07         -4.36\n",
       "80  GOLL4 2024-01-26         5.92         -8.07\n",
       "\n",
       "[81 rows x 4 columns]"
      ]
     },
     "execution_count": 6,
     "metadata": {},
     "output_type": "execute_result"
    }
   ],
   "source": [
    "df_principal = df_principal[['Ativo','Data','Último (R$)','Var. Dia (%)']].copy()\n",
    "df_principal"
   ]
  },
  {
   "cell_type": "code",
   "execution_count": 7,
   "id": "e88b884a",
   "metadata": {},
   "outputs": [
    {
     "data": {
      "text/html": [
       "<div>\n",
       "<style scoped>\n",
       "    .dataframe tbody tr th:only-of-type {\n",
       "        vertical-align: middle;\n",
       "    }\n",
       "\n",
       "    .dataframe tbody tr th {\n",
       "        vertical-align: top;\n",
       "    }\n",
       "\n",
       "    .dataframe thead th {\n",
       "        text-align: right;\n",
       "    }\n",
       "</style>\n",
       "<table border=\"1\" class=\"dataframe\">\n",
       "  <thead>\n",
       "    <tr style=\"text-align: right;\">\n",
       "      <th></th>\n",
       "      <th>Ativo</th>\n",
       "      <th>Data</th>\n",
       "      <th>valor_final</th>\n",
       "      <th>var_dia_pct</th>\n",
       "    </tr>\n",
       "  </thead>\n",
       "  <tbody>\n",
       "    <tr>\n",
       "      <th>0</th>\n",
       "      <td>USIM5</td>\n",
       "      <td>2024-01-26</td>\n",
       "      <td>9.50</td>\n",
       "      <td>5.20</td>\n",
       "    </tr>\n",
       "    <tr>\n",
       "      <th>1</th>\n",
       "      <td>CMIN3</td>\n",
       "      <td>2024-01-26</td>\n",
       "      <td>6.82</td>\n",
       "      <td>2.40</td>\n",
       "    </tr>\n",
       "    <tr>\n",
       "      <th>2</th>\n",
       "      <td>PETR3</td>\n",
       "      <td>2024-01-26</td>\n",
       "      <td>41.96</td>\n",
       "      <td>2.19</td>\n",
       "    </tr>\n",
       "    <tr>\n",
       "      <th>3</th>\n",
       "      <td>SUZB3</td>\n",
       "      <td>2024-01-26</td>\n",
       "      <td>52.91</td>\n",
       "      <td>2.04</td>\n",
       "    </tr>\n",
       "    <tr>\n",
       "      <th>4</th>\n",
       "      <td>CPFE3</td>\n",
       "      <td>2024-01-26</td>\n",
       "      <td>37.10</td>\n",
       "      <td>2.03</td>\n",
       "    </tr>\n",
       "    <tr>\n",
       "      <th>...</th>\n",
       "      <td>...</td>\n",
       "      <td>...</td>\n",
       "      <td>...</td>\n",
       "      <td>...</td>\n",
       "    </tr>\n",
       "    <tr>\n",
       "      <th>76</th>\n",
       "      <td>CRFB3</td>\n",
       "      <td>2024-01-26</td>\n",
       "      <td>10.71</td>\n",
       "      <td>-2.45</td>\n",
       "    </tr>\n",
       "    <tr>\n",
       "      <th>77</th>\n",
       "      <td>BHIA3</td>\n",
       "      <td>2024-01-26</td>\n",
       "      <td>8.70</td>\n",
       "      <td>-2.46</td>\n",
       "    </tr>\n",
       "    <tr>\n",
       "      <th>78</th>\n",
       "      <td>RENT3</td>\n",
       "      <td>2024-01-26</td>\n",
       "      <td>56.24</td>\n",
       "      <td>-3.63</td>\n",
       "    </tr>\n",
       "    <tr>\n",
       "      <th>79</th>\n",
       "      <td>CVCB3</td>\n",
       "      <td>2024-01-26</td>\n",
       "      <td>3.07</td>\n",
       "      <td>-4.36</td>\n",
       "    </tr>\n",
       "    <tr>\n",
       "      <th>80</th>\n",
       "      <td>GOLL4</td>\n",
       "      <td>2024-01-26</td>\n",
       "      <td>5.92</td>\n",
       "      <td>-8.07</td>\n",
       "    </tr>\n",
       "  </tbody>\n",
       "</table>\n",
       "<p>81 rows × 4 columns</p>\n",
       "</div>"
      ],
      "text/plain": [
       "    Ativo       Data  valor_final  var_dia_pct\n",
       "0   USIM5 2024-01-26         9.50         5.20\n",
       "1   CMIN3 2024-01-26         6.82         2.40\n",
       "2   PETR3 2024-01-26        41.96         2.19\n",
       "3   SUZB3 2024-01-26        52.91         2.04\n",
       "4   CPFE3 2024-01-26        37.10         2.03\n",
       "..    ...        ...          ...          ...\n",
       "76  CRFB3 2024-01-26        10.71        -2.45\n",
       "77  BHIA3 2024-01-26         8.70        -2.46\n",
       "78  RENT3 2024-01-26        56.24        -3.63\n",
       "79  CVCB3 2024-01-26         3.07        -4.36\n",
       "80  GOLL4 2024-01-26         5.92        -8.07\n",
       "\n",
       "[81 rows x 4 columns]"
      ]
     },
     "execution_count": 7,
     "metadata": {},
     "output_type": "execute_result"
    }
   ],
   "source": [
    "df_principal = df_principal.rename(columns={'Último (R$)':'valor_final','Var. Dia (%)':'var_dia_pct'}).copy()\n",
    "df_principal"
   ]
  },
  {
   "cell_type": "code",
   "execution_count": 8,
   "id": "abce883a",
   "metadata": {},
   "outputs": [
    {
     "data": {
      "text/html": [
       "<div>\n",
       "<style scoped>\n",
       "    .dataframe tbody tr th:only-of-type {\n",
       "        vertical-align: middle;\n",
       "    }\n",
       "\n",
       "    .dataframe tbody tr th {\n",
       "        vertical-align: top;\n",
       "    }\n",
       "\n",
       "    .dataframe thead th {\n",
       "        text-align: right;\n",
       "    }\n",
       "</style>\n",
       "<table border=\"1\" class=\"dataframe\">\n",
       "  <thead>\n",
       "    <tr style=\"text-align: right;\">\n",
       "      <th></th>\n",
       "      <th>Ativo</th>\n",
       "      <th>Data</th>\n",
       "      <th>valor_final</th>\n",
       "      <th>var_dia_pct</th>\n",
       "      <th>Var_pct</th>\n",
       "      <th>Var_inicial</th>\n",
       "    </tr>\n",
       "  </thead>\n",
       "  <tbody>\n",
       "    <tr>\n",
       "      <th>0</th>\n",
       "      <td>USIM5</td>\n",
       "      <td>2024-01-26</td>\n",
       "      <td>9.50</td>\n",
       "      <td>5.20</td>\n",
       "      <td>0.0520</td>\n",
       "      <td>9.030418</td>\n",
       "    </tr>\n",
       "    <tr>\n",
       "      <th>1</th>\n",
       "      <td>CMIN3</td>\n",
       "      <td>2024-01-26</td>\n",
       "      <td>6.82</td>\n",
       "      <td>2.40</td>\n",
       "      <td>0.0240</td>\n",
       "      <td>6.660156</td>\n",
       "    </tr>\n",
       "    <tr>\n",
       "      <th>2</th>\n",
       "      <td>PETR3</td>\n",
       "      <td>2024-01-26</td>\n",
       "      <td>41.96</td>\n",
       "      <td>2.19</td>\n",
       "      <td>0.0219</td>\n",
       "      <td>41.060769</td>\n",
       "    </tr>\n",
       "    <tr>\n",
       "      <th>3</th>\n",
       "      <td>SUZB3</td>\n",
       "      <td>2024-01-26</td>\n",
       "      <td>52.91</td>\n",
       "      <td>2.04</td>\n",
       "      <td>0.0204</td>\n",
       "      <td>51.852215</td>\n",
       "    </tr>\n",
       "    <tr>\n",
       "      <th>4</th>\n",
       "      <td>CPFE3</td>\n",
       "      <td>2024-01-26</td>\n",
       "      <td>37.10</td>\n",
       "      <td>2.03</td>\n",
       "      <td>0.0203</td>\n",
       "      <td>36.361854</td>\n",
       "    </tr>\n",
       "    <tr>\n",
       "      <th>...</th>\n",
       "      <td>...</td>\n",
       "      <td>...</td>\n",
       "      <td>...</td>\n",
       "      <td>...</td>\n",
       "      <td>...</td>\n",
       "      <td>...</td>\n",
       "    </tr>\n",
       "    <tr>\n",
       "      <th>76</th>\n",
       "      <td>CRFB3</td>\n",
       "      <td>2024-01-26</td>\n",
       "      <td>10.71</td>\n",
       "      <td>-2.45</td>\n",
       "      <td>-0.0245</td>\n",
       "      <td>10.978985</td>\n",
       "    </tr>\n",
       "    <tr>\n",
       "      <th>77</th>\n",
       "      <td>BHIA3</td>\n",
       "      <td>2024-01-26</td>\n",
       "      <td>8.70</td>\n",
       "      <td>-2.46</td>\n",
       "      <td>-0.0246</td>\n",
       "      <td>8.919418</td>\n",
       "    </tr>\n",
       "    <tr>\n",
       "      <th>78</th>\n",
       "      <td>RENT3</td>\n",
       "      <td>2024-01-26</td>\n",
       "      <td>56.24</td>\n",
       "      <td>-3.63</td>\n",
       "      <td>-0.0363</td>\n",
       "      <td>58.358410</td>\n",
       "    </tr>\n",
       "    <tr>\n",
       "      <th>79</th>\n",
       "      <td>CVCB3</td>\n",
       "      <td>2024-01-26</td>\n",
       "      <td>3.07</td>\n",
       "      <td>-4.36</td>\n",
       "      <td>-0.0436</td>\n",
       "      <td>3.209954</td>\n",
       "    </tr>\n",
       "    <tr>\n",
       "      <th>80</th>\n",
       "      <td>GOLL4</td>\n",
       "      <td>2024-01-26</td>\n",
       "      <td>5.92</td>\n",
       "      <td>-8.07</td>\n",
       "      <td>-0.0807</td>\n",
       "      <td>6.439682</td>\n",
       "    </tr>\n",
       "  </tbody>\n",
       "</table>\n",
       "<p>81 rows × 6 columns</p>\n",
       "</div>"
      ],
      "text/plain": [
       "    Ativo       Data  valor_final  var_dia_pct  Var_pct  Var_inicial\n",
       "0   USIM5 2024-01-26         9.50         5.20   0.0520     9.030418\n",
       "1   CMIN3 2024-01-26         6.82         2.40   0.0240     6.660156\n",
       "2   PETR3 2024-01-26        41.96         2.19   0.0219    41.060769\n",
       "3   SUZB3 2024-01-26        52.91         2.04   0.0204    51.852215\n",
       "4   CPFE3 2024-01-26        37.10         2.03   0.0203    36.361854\n",
       "..    ...        ...          ...          ...      ...          ...\n",
       "76  CRFB3 2024-01-26        10.71        -2.45  -0.0245    10.978985\n",
       "77  BHIA3 2024-01-26         8.70        -2.46  -0.0246     8.919418\n",
       "78  RENT3 2024-01-26        56.24        -3.63  -0.0363    58.358410\n",
       "79  CVCB3 2024-01-26         3.07        -4.36  -0.0436     3.209954\n",
       "80  GOLL4 2024-01-26         5.92        -8.07  -0.0807     6.439682\n",
       "\n",
       "[81 rows x 6 columns]"
      ]
     },
     "execution_count": 8,
     "metadata": {},
     "output_type": "execute_result"
    }
   ],
   "source": [
    "df_principal['Var_pct'] = df_principal['var_dia_pct'] / 100\n",
    "df_principal['Var_inicial'] = df_principal['valor_final'] / (df_principal['Var_pct'] + 1)\n",
    "df_principal"
   ]
  },
  {
   "cell_type": "code",
   "execution_count": 9,
   "id": "1bb4f5b1",
   "metadata": {},
   "outputs": [
    {
     "data": {
      "text/html": [
       "<div>\n",
       "<style scoped>\n",
       "    .dataframe tbody tr th:only-of-type {\n",
       "        vertical-align: middle;\n",
       "    }\n",
       "\n",
       "    .dataframe tbody tr th {\n",
       "        vertical-align: top;\n",
       "    }\n",
       "\n",
       "    .dataframe thead th {\n",
       "        text-align: right;\n",
       "    }\n",
       "</style>\n",
       "<table border=\"1\" class=\"dataframe\">\n",
       "  <thead>\n",
       "    <tr style=\"text-align: right;\">\n",
       "      <th></th>\n",
       "      <th>Ativo</th>\n",
       "      <th>Data</th>\n",
       "      <th>valor_final</th>\n",
       "      <th>var_dia_pct</th>\n",
       "      <th>Var_pct</th>\n",
       "      <th>Var_inicial</th>\n",
       "      <th>Código</th>\n",
       "      <th>Qtde. Teórica</th>\n",
       "    </tr>\n",
       "  </thead>\n",
       "  <tbody>\n",
       "    <tr>\n",
       "      <th>0</th>\n",
       "      <td>USIM5</td>\n",
       "      <td>2024-01-26</td>\n",
       "      <td>9.50</td>\n",
       "      <td>5.20</td>\n",
       "      <td>0.0520</td>\n",
       "      <td>9.030418</td>\n",
       "      <td>USIM5</td>\n",
       "      <td>5.151174e+08</td>\n",
       "    </tr>\n",
       "    <tr>\n",
       "      <th>1</th>\n",
       "      <td>CMIN3</td>\n",
       "      <td>2024-01-26</td>\n",
       "      <td>6.82</td>\n",
       "      <td>2.40</td>\n",
       "      <td>0.0240</td>\n",
       "      <td>6.660156</td>\n",
       "      <td>CMIN3</td>\n",
       "      <td>1.110559e+09</td>\n",
       "    </tr>\n",
       "    <tr>\n",
       "      <th>2</th>\n",
       "      <td>PETR3</td>\n",
       "      <td>2024-01-26</td>\n",
       "      <td>41.96</td>\n",
       "      <td>2.19</td>\n",
       "      <td>0.0219</td>\n",
       "      <td>41.060769</td>\n",
       "      <td>PETR3</td>\n",
       "      <td>2.379878e+09</td>\n",
       "    </tr>\n",
       "    <tr>\n",
       "      <th>3</th>\n",
       "      <td>SUZB3</td>\n",
       "      <td>2024-01-26</td>\n",
       "      <td>52.91</td>\n",
       "      <td>2.04</td>\n",
       "      <td>0.0204</td>\n",
       "      <td>51.852215</td>\n",
       "      <td>SUZB3</td>\n",
       "      <td>6.834528e+08</td>\n",
       "    </tr>\n",
       "    <tr>\n",
       "      <th>4</th>\n",
       "      <td>CPFE3</td>\n",
       "      <td>2024-01-26</td>\n",
       "      <td>37.10</td>\n",
       "      <td>2.03</td>\n",
       "      <td>0.0203</td>\n",
       "      <td>36.361854</td>\n",
       "      <td>CPFE3</td>\n",
       "      <td>1.877325e+08</td>\n",
       "    </tr>\n",
       "    <tr>\n",
       "      <th>...</th>\n",
       "      <td>...</td>\n",
       "      <td>...</td>\n",
       "      <td>...</td>\n",
       "      <td>...</td>\n",
       "      <td>...</td>\n",
       "      <td>...</td>\n",
       "      <td>...</td>\n",
       "      <td>...</td>\n",
       "    </tr>\n",
       "    <tr>\n",
       "      <th>76</th>\n",
       "      <td>CRFB3</td>\n",
       "      <td>2024-01-26</td>\n",
       "      <td>10.71</td>\n",
       "      <td>-2.45</td>\n",
       "      <td>-0.0245</td>\n",
       "      <td>10.978985</td>\n",
       "      <td>CRFB3</td>\n",
       "      <td>5.339906e+08</td>\n",
       "    </tr>\n",
       "    <tr>\n",
       "      <th>77</th>\n",
       "      <td>BHIA3</td>\n",
       "      <td>2024-01-26</td>\n",
       "      <td>8.70</td>\n",
       "      <td>-2.46</td>\n",
       "      <td>-0.0246</td>\n",
       "      <td>8.919418</td>\n",
       "      <td>BHIA3</td>\n",
       "      <td>9.484305e+07</td>\n",
       "    </tr>\n",
       "    <tr>\n",
       "      <th>78</th>\n",
       "      <td>RENT3</td>\n",
       "      <td>2024-01-26</td>\n",
       "      <td>56.24</td>\n",
       "      <td>-3.63</td>\n",
       "      <td>-0.0363</td>\n",
       "      <td>58.358410</td>\n",
       "      <td>RENT3</td>\n",
       "      <td>8.532023e+08</td>\n",
       "    </tr>\n",
       "    <tr>\n",
       "      <th>79</th>\n",
       "      <td>CVCB3</td>\n",
       "      <td>2024-01-26</td>\n",
       "      <td>3.07</td>\n",
       "      <td>-4.36</td>\n",
       "      <td>-0.0436</td>\n",
       "      <td>3.209954</td>\n",
       "      <td>CVCB3</td>\n",
       "      <td>5.255828e+08</td>\n",
       "    </tr>\n",
       "    <tr>\n",
       "      <th>80</th>\n",
       "      <td>GOLL4</td>\n",
       "      <td>2024-01-26</td>\n",
       "      <td>5.92</td>\n",
       "      <td>-8.07</td>\n",
       "      <td>-0.0807</td>\n",
       "      <td>6.439682</td>\n",
       "      <td>GOLL4</td>\n",
       "      <td>1.981849e+08</td>\n",
       "    </tr>\n",
       "  </tbody>\n",
       "</table>\n",
       "<p>81 rows × 8 columns</p>\n",
       "</div>"
      ],
      "text/plain": [
       "    Ativo       Data  valor_final  var_dia_pct  Var_pct  Var_inicial Código  \\\n",
       "0   USIM5 2024-01-26         9.50         5.20   0.0520     9.030418  USIM5   \n",
       "1   CMIN3 2024-01-26         6.82         2.40   0.0240     6.660156  CMIN3   \n",
       "2   PETR3 2024-01-26        41.96         2.19   0.0219    41.060769  PETR3   \n",
       "3   SUZB3 2024-01-26        52.91         2.04   0.0204    51.852215  SUZB3   \n",
       "4   CPFE3 2024-01-26        37.10         2.03   0.0203    36.361854  CPFE3   \n",
       "..    ...        ...          ...          ...      ...          ...    ...   \n",
       "76  CRFB3 2024-01-26        10.71        -2.45  -0.0245    10.978985  CRFB3   \n",
       "77  BHIA3 2024-01-26         8.70        -2.46  -0.0246     8.919418  BHIA3   \n",
       "78  RENT3 2024-01-26        56.24        -3.63  -0.0363    58.358410  RENT3   \n",
       "79  CVCB3 2024-01-26         3.07        -4.36  -0.0436     3.209954  CVCB3   \n",
       "80  GOLL4 2024-01-26         5.92        -8.07  -0.0807     6.439682  GOLL4   \n",
       "\n",
       "    Qtde. Teórica  \n",
       "0    5.151174e+08  \n",
       "1    1.110559e+09  \n",
       "2    2.379878e+09  \n",
       "3    6.834528e+08  \n",
       "4    1.877325e+08  \n",
       "..            ...  \n",
       "76   5.339906e+08  \n",
       "77   9.484305e+07  \n",
       "78   8.532023e+08  \n",
       "79   5.255828e+08  \n",
       "80   1.981849e+08  \n",
       "\n",
       "[81 rows x 8 columns]"
      ]
     },
     "execution_count": 9,
     "metadata": {},
     "output_type": "execute_result"
    }
   ],
   "source": [
    "df_principal = df_principal.merge(df_total_acoes,left_on='Ativo', right_on='Código', how='left')\n",
    "df_principal"
   ]
  },
  {
   "cell_type": "code",
   "execution_count": 10,
   "id": "2adb54c4",
   "metadata": {},
   "outputs": [
    {
     "data": {
      "text/html": [
       "<div>\n",
       "<style scoped>\n",
       "    .dataframe tbody tr th:only-of-type {\n",
       "        vertical-align: middle;\n",
       "    }\n",
       "\n",
       "    .dataframe tbody tr th {\n",
       "        vertical-align: top;\n",
       "    }\n",
       "\n",
       "    .dataframe thead th {\n",
       "        text-align: right;\n",
       "    }\n",
       "</style>\n",
       "<table border=\"1\" class=\"dataframe\">\n",
       "  <thead>\n",
       "    <tr style=\"text-align: right;\">\n",
       "      <th></th>\n",
       "      <th>Ativo</th>\n",
       "      <th>Data</th>\n",
       "      <th>valor_final</th>\n",
       "      <th>var_dia_pct</th>\n",
       "      <th>Var_pct</th>\n",
       "      <th>Var_inicial</th>\n",
       "      <th>Qtde. Teórica</th>\n",
       "    </tr>\n",
       "  </thead>\n",
       "  <tbody>\n",
       "    <tr>\n",
       "      <th>0</th>\n",
       "      <td>USIM5</td>\n",
       "      <td>2024-01-26</td>\n",
       "      <td>9.50</td>\n",
       "      <td>5.20</td>\n",
       "      <td>0.0520</td>\n",
       "      <td>9.030418</td>\n",
       "      <td>5.151174e+08</td>\n",
       "    </tr>\n",
       "    <tr>\n",
       "      <th>1</th>\n",
       "      <td>CMIN3</td>\n",
       "      <td>2024-01-26</td>\n",
       "      <td>6.82</td>\n",
       "      <td>2.40</td>\n",
       "      <td>0.0240</td>\n",
       "      <td>6.660156</td>\n",
       "      <td>1.110559e+09</td>\n",
       "    </tr>\n",
       "    <tr>\n",
       "      <th>2</th>\n",
       "      <td>PETR3</td>\n",
       "      <td>2024-01-26</td>\n",
       "      <td>41.96</td>\n",
       "      <td>2.19</td>\n",
       "      <td>0.0219</td>\n",
       "      <td>41.060769</td>\n",
       "      <td>2.379878e+09</td>\n",
       "    </tr>\n",
       "    <tr>\n",
       "      <th>3</th>\n",
       "      <td>SUZB3</td>\n",
       "      <td>2024-01-26</td>\n",
       "      <td>52.91</td>\n",
       "      <td>2.04</td>\n",
       "      <td>0.0204</td>\n",
       "      <td>51.852215</td>\n",
       "      <td>6.834528e+08</td>\n",
       "    </tr>\n",
       "    <tr>\n",
       "      <th>4</th>\n",
       "      <td>CPFE3</td>\n",
       "      <td>2024-01-26</td>\n",
       "      <td>37.10</td>\n",
       "      <td>2.03</td>\n",
       "      <td>0.0203</td>\n",
       "      <td>36.361854</td>\n",
       "      <td>1.877325e+08</td>\n",
       "    </tr>\n",
       "    <tr>\n",
       "      <th>...</th>\n",
       "      <td>...</td>\n",
       "      <td>...</td>\n",
       "      <td>...</td>\n",
       "      <td>...</td>\n",
       "      <td>...</td>\n",
       "      <td>...</td>\n",
       "      <td>...</td>\n",
       "    </tr>\n",
       "    <tr>\n",
       "      <th>76</th>\n",
       "      <td>CRFB3</td>\n",
       "      <td>2024-01-26</td>\n",
       "      <td>10.71</td>\n",
       "      <td>-2.45</td>\n",
       "      <td>-0.0245</td>\n",
       "      <td>10.978985</td>\n",
       "      <td>5.339906e+08</td>\n",
       "    </tr>\n",
       "    <tr>\n",
       "      <th>77</th>\n",
       "      <td>BHIA3</td>\n",
       "      <td>2024-01-26</td>\n",
       "      <td>8.70</td>\n",
       "      <td>-2.46</td>\n",
       "      <td>-0.0246</td>\n",
       "      <td>8.919418</td>\n",
       "      <td>9.484305e+07</td>\n",
       "    </tr>\n",
       "    <tr>\n",
       "      <th>78</th>\n",
       "      <td>RENT3</td>\n",
       "      <td>2024-01-26</td>\n",
       "      <td>56.24</td>\n",
       "      <td>-3.63</td>\n",
       "      <td>-0.0363</td>\n",
       "      <td>58.358410</td>\n",
       "      <td>8.532023e+08</td>\n",
       "    </tr>\n",
       "    <tr>\n",
       "      <th>79</th>\n",
       "      <td>CVCB3</td>\n",
       "      <td>2024-01-26</td>\n",
       "      <td>3.07</td>\n",
       "      <td>-4.36</td>\n",
       "      <td>-0.0436</td>\n",
       "      <td>3.209954</td>\n",
       "      <td>5.255828e+08</td>\n",
       "    </tr>\n",
       "    <tr>\n",
       "      <th>80</th>\n",
       "      <td>GOLL4</td>\n",
       "      <td>2024-01-26</td>\n",
       "      <td>5.92</td>\n",
       "      <td>-8.07</td>\n",
       "      <td>-0.0807</td>\n",
       "      <td>6.439682</td>\n",
       "      <td>1.981849e+08</td>\n",
       "    </tr>\n",
       "  </tbody>\n",
       "</table>\n",
       "<p>81 rows × 7 columns</p>\n",
       "</div>"
      ],
      "text/plain": [
       "    Ativo       Data  valor_final  var_dia_pct  Var_pct  Var_inicial  \\\n",
       "0   USIM5 2024-01-26         9.50         5.20   0.0520     9.030418   \n",
       "1   CMIN3 2024-01-26         6.82         2.40   0.0240     6.660156   \n",
       "2   PETR3 2024-01-26        41.96         2.19   0.0219    41.060769   \n",
       "3   SUZB3 2024-01-26        52.91         2.04   0.0204    51.852215   \n",
       "4   CPFE3 2024-01-26        37.10         2.03   0.0203    36.361854   \n",
       "..    ...        ...          ...          ...      ...          ...   \n",
       "76  CRFB3 2024-01-26        10.71        -2.45  -0.0245    10.978985   \n",
       "77  BHIA3 2024-01-26         8.70        -2.46  -0.0246     8.919418   \n",
       "78  RENT3 2024-01-26        56.24        -3.63  -0.0363    58.358410   \n",
       "79  CVCB3 2024-01-26         3.07        -4.36  -0.0436     3.209954   \n",
       "80  GOLL4 2024-01-26         5.92        -8.07  -0.0807     6.439682   \n",
       "\n",
       "    Qtde. Teórica  \n",
       "0    5.151174e+08  \n",
       "1    1.110559e+09  \n",
       "2    2.379878e+09  \n",
       "3    6.834528e+08  \n",
       "4    1.877325e+08  \n",
       "..            ...  \n",
       "76   5.339906e+08  \n",
       "77   9.484305e+07  \n",
       "78   8.532023e+08  \n",
       "79   5.255828e+08  \n",
       "80   1.981849e+08  \n",
       "\n",
       "[81 rows x 7 columns]"
      ]
     },
     "execution_count": 10,
     "metadata": {},
     "output_type": "execute_result"
    }
   ],
   "source": [
    "df_principal = df_principal.drop(columns=['Código'])\n",
    "df_principal"
   ]
  },
  {
   "cell_type": "code",
   "execution_count": 11,
   "id": "441cfb10",
   "metadata": {},
   "outputs": [
    {
     "data": {
      "text/html": [
       "<div>\n",
       "<style scoped>\n",
       "    .dataframe tbody tr th:only-of-type {\n",
       "        vertical-align: middle;\n",
       "    }\n",
       "\n",
       "    .dataframe tbody tr th {\n",
       "        vertical-align: top;\n",
       "    }\n",
       "\n",
       "    .dataframe thead th {\n",
       "        text-align: right;\n",
       "    }\n",
       "</style>\n",
       "<table border=\"1\" class=\"dataframe\">\n",
       "  <thead>\n",
       "    <tr style=\"text-align: right;\">\n",
       "      <th></th>\n",
       "      <th>Ativo</th>\n",
       "      <th>Data</th>\n",
       "      <th>valor_final</th>\n",
       "      <th>var_dia_pct</th>\n",
       "      <th>Var_pct</th>\n",
       "      <th>Var_inicial</th>\n",
       "      <th>Qtde. Teórica</th>\n",
       "      <th>Variacao_rs</th>\n",
       "    </tr>\n",
       "  </thead>\n",
       "  <tbody>\n",
       "    <tr>\n",
       "      <th>0</th>\n",
       "      <td>USIM5</td>\n",
       "      <td>2024-01-26</td>\n",
       "      <td>9.50</td>\n",
       "      <td>5.20</td>\n",
       "      <td>0.0520</td>\n",
       "      <td>9.030418</td>\n",
       "      <td>5.151174e+08</td>\n",
       "      <td>2.418897e+08</td>\n",
       "    </tr>\n",
       "    <tr>\n",
       "      <th>1</th>\n",
       "      <td>CMIN3</td>\n",
       "      <td>2024-01-26</td>\n",
       "      <td>6.82</td>\n",
       "      <td>2.40</td>\n",
       "      <td>0.0240</td>\n",
       "      <td>6.660156</td>\n",
       "      <td>1.110559e+09</td>\n",
       "      <td>1.775160e+08</td>\n",
       "    </tr>\n",
       "    <tr>\n",
       "      <th>2</th>\n",
       "      <td>PETR3</td>\n",
       "      <td>2024-01-26</td>\n",
       "      <td>41.96</td>\n",
       "      <td>2.19</td>\n",
       "      <td>0.0219</td>\n",
       "      <td>41.060769</td>\n",
       "      <td>2.379878e+09</td>\n",
       "      <td>2.140059e+09</td>\n",
       "    </tr>\n",
       "    <tr>\n",
       "      <th>3</th>\n",
       "      <td>SUZB3</td>\n",
       "      <td>2024-01-26</td>\n",
       "      <td>52.91</td>\n",
       "      <td>2.04</td>\n",
       "      <td>0.0204</td>\n",
       "      <td>51.852215</td>\n",
       "      <td>6.834528e+08</td>\n",
       "      <td>7.229463e+08</td>\n",
       "    </tr>\n",
       "    <tr>\n",
       "      <th>4</th>\n",
       "      <td>CPFE3</td>\n",
       "      <td>2024-01-26</td>\n",
       "      <td>37.10</td>\n",
       "      <td>2.03</td>\n",
       "      <td>0.0203</td>\n",
       "      <td>36.361854</td>\n",
       "      <td>1.877325e+08</td>\n",
       "      <td>1.385740e+08</td>\n",
       "    </tr>\n",
       "    <tr>\n",
       "      <th>...</th>\n",
       "      <td>...</td>\n",
       "      <td>...</td>\n",
       "      <td>...</td>\n",
       "      <td>...</td>\n",
       "      <td>...</td>\n",
       "      <td>...</td>\n",
       "      <td>...</td>\n",
       "      <td>...</td>\n",
       "    </tr>\n",
       "    <tr>\n",
       "      <th>76</th>\n",
       "      <td>CRFB3</td>\n",
       "      <td>2024-01-26</td>\n",
       "      <td>10.71</td>\n",
       "      <td>-2.45</td>\n",
       "      <td>-0.0245</td>\n",
       "      <td>10.978985</td>\n",
       "      <td>5.339906e+08</td>\n",
       "      <td>-1.436355e+08</td>\n",
       "    </tr>\n",
       "    <tr>\n",
       "      <th>77</th>\n",
       "      <td>BHIA3</td>\n",
       "      <td>2024-01-26</td>\n",
       "      <td>8.70</td>\n",
       "      <td>-2.46</td>\n",
       "      <td>-0.0246</td>\n",
       "      <td>8.919418</td>\n",
       "      <td>9.484305e+07</td>\n",
       "      <td>-2.081024e+07</td>\n",
       "    </tr>\n",
       "    <tr>\n",
       "      <th>78</th>\n",
       "      <td>RENT3</td>\n",
       "      <td>2024-01-26</td>\n",
       "      <td>56.24</td>\n",
       "      <td>-3.63</td>\n",
       "      <td>-0.0363</td>\n",
       "      <td>58.358410</td>\n",
       "      <td>8.532023e+08</td>\n",
       "      <td>-1.807433e+09</td>\n",
       "    </tr>\n",
       "    <tr>\n",
       "      <th>79</th>\n",
       "      <td>CVCB3</td>\n",
       "      <td>2024-01-26</td>\n",
       "      <td>3.07</td>\n",
       "      <td>-4.36</td>\n",
       "      <td>-0.0436</td>\n",
       "      <td>3.209954</td>\n",
       "      <td>5.255828e+08</td>\n",
       "      <td>-7.355741e+07</td>\n",
       "    </tr>\n",
       "    <tr>\n",
       "      <th>80</th>\n",
       "      <td>GOLL4</td>\n",
       "      <td>2024-01-26</td>\n",
       "      <td>5.92</td>\n",
       "      <td>-8.07</td>\n",
       "      <td>-0.0807</td>\n",
       "      <td>6.439682</td>\n",
       "      <td>1.981849e+08</td>\n",
       "      <td>-1.029932e+08</td>\n",
       "    </tr>\n",
       "  </tbody>\n",
       "</table>\n",
       "<p>81 rows × 8 columns</p>\n",
       "</div>"
      ],
      "text/plain": [
       "    Ativo       Data  valor_final  var_dia_pct  Var_pct  Var_inicial  \\\n",
       "0   USIM5 2024-01-26         9.50         5.20   0.0520     9.030418   \n",
       "1   CMIN3 2024-01-26         6.82         2.40   0.0240     6.660156   \n",
       "2   PETR3 2024-01-26        41.96         2.19   0.0219    41.060769   \n",
       "3   SUZB3 2024-01-26        52.91         2.04   0.0204    51.852215   \n",
       "4   CPFE3 2024-01-26        37.10         2.03   0.0203    36.361854   \n",
       "..    ...        ...          ...          ...      ...          ...   \n",
       "76  CRFB3 2024-01-26        10.71        -2.45  -0.0245    10.978985   \n",
       "77  BHIA3 2024-01-26         8.70        -2.46  -0.0246     8.919418   \n",
       "78  RENT3 2024-01-26        56.24        -3.63  -0.0363    58.358410   \n",
       "79  CVCB3 2024-01-26         3.07        -4.36  -0.0436     3.209954   \n",
       "80  GOLL4 2024-01-26         5.92        -8.07  -0.0807     6.439682   \n",
       "\n",
       "    Qtde. Teórica   Variacao_rs  \n",
       "0    5.151174e+08  2.418897e+08  \n",
       "1    1.110559e+09  1.775160e+08  \n",
       "2    2.379878e+09  2.140059e+09  \n",
       "3    6.834528e+08  7.229463e+08  \n",
       "4    1.877325e+08  1.385740e+08  \n",
       "..            ...           ...  \n",
       "76   5.339906e+08 -1.436355e+08  \n",
       "77   9.484305e+07 -2.081024e+07  \n",
       "78   8.532023e+08 -1.807433e+09  \n",
       "79   5.255828e+08 -7.355741e+07  \n",
       "80   1.981849e+08 -1.029932e+08  \n",
       "\n",
       "[81 rows x 8 columns]"
      ]
     },
     "execution_count": 11,
     "metadata": {},
     "output_type": "execute_result"
    }
   ],
   "source": [
    "df_principal['Variacao_rs'] = (df_principal['valor_final'] - df_principal['Var_inicial']) * df_principal['Qtde. Teórica']\n",
    "df_principal"
   ]
  },
  {
   "cell_type": "code",
   "execution_count": 12,
   "id": "6f0ecee9",
   "metadata": {},
   "outputs": [
    {
     "data": {
      "text/html": [
       "<div>\n",
       "<style scoped>\n",
       "    .dataframe tbody tr th:only-of-type {\n",
       "        vertical-align: middle;\n",
       "    }\n",
       "\n",
       "    .dataframe tbody tr th {\n",
       "        vertical-align: top;\n",
       "    }\n",
       "\n",
       "    .dataframe thead th {\n",
       "        text-align: right;\n",
       "    }\n",
       "</style>\n",
       "<table border=\"1\" class=\"dataframe\">\n",
       "  <thead>\n",
       "    <tr style=\"text-align: right;\">\n",
       "      <th></th>\n",
       "      <th>Ativo</th>\n",
       "      <th>Data</th>\n",
       "      <th>valor_final</th>\n",
       "      <th>var_dia_pct</th>\n",
       "      <th>Var_pct</th>\n",
       "      <th>Var_inicial</th>\n",
       "      <th>Qtde. Teórica</th>\n",
       "      <th>Variacao_rs</th>\n",
       "    </tr>\n",
       "  </thead>\n",
       "  <tbody>\n",
       "    <tr>\n",
       "      <th>0</th>\n",
       "      <td>USIM5</td>\n",
       "      <td>2024-01-26</td>\n",
       "      <td>9.50</td>\n",
       "      <td>5.20</td>\n",
       "      <td>0.05</td>\n",
       "      <td>9.03</td>\n",
       "      <td>515117391</td>\n",
       "      <td>241889725.43</td>\n",
       "    </tr>\n",
       "    <tr>\n",
       "      <th>1</th>\n",
       "      <td>CMIN3</td>\n",
       "      <td>2024-01-26</td>\n",
       "      <td>6.82</td>\n",
       "      <td>2.40</td>\n",
       "      <td>0.02</td>\n",
       "      <td>6.66</td>\n",
       "      <td>1110559345</td>\n",
       "      <td>177515970.30</td>\n",
       "    </tr>\n",
       "    <tr>\n",
       "      <th>2</th>\n",
       "      <td>PETR3</td>\n",
       "      <td>2024-01-26</td>\n",
       "      <td>41.96</td>\n",
       "      <td>2.19</td>\n",
       "      <td>0.02</td>\n",
       "      <td>41.06</td>\n",
       "      <td>-2147483648</td>\n",
       "      <td>2140059393.53</td>\n",
       "    </tr>\n",
       "    <tr>\n",
       "      <th>3</th>\n",
       "      <td>SUZB3</td>\n",
       "      <td>2024-01-26</td>\n",
       "      <td>52.91</td>\n",
       "      <td>2.04</td>\n",
       "      <td>0.02</td>\n",
       "      <td>51.85</td>\n",
       "      <td>683452836</td>\n",
       "      <td>722946282.71</td>\n",
       "    </tr>\n",
       "    <tr>\n",
       "      <th>4</th>\n",
       "      <td>CPFE3</td>\n",
       "      <td>2024-01-26</td>\n",
       "      <td>37.10</td>\n",
       "      <td>2.03</td>\n",
       "      <td>0.02</td>\n",
       "      <td>36.36</td>\n",
       "      <td>187732538</td>\n",
       "      <td>138573955.06</td>\n",
       "    </tr>\n",
       "    <tr>\n",
       "      <th>...</th>\n",
       "      <td>...</td>\n",
       "      <td>...</td>\n",
       "      <td>...</td>\n",
       "      <td>...</td>\n",
       "      <td>...</td>\n",
       "      <td>...</td>\n",
       "      <td>...</td>\n",
       "      <td>...</td>\n",
       "    </tr>\n",
       "    <tr>\n",
       "      <th>76</th>\n",
       "      <td>CRFB3</td>\n",
       "      <td>2024-01-26</td>\n",
       "      <td>10.71</td>\n",
       "      <td>-2.45</td>\n",
       "      <td>-0.02</td>\n",
       "      <td>10.98</td>\n",
       "      <td>533990587</td>\n",
       "      <td>-143635530.57</td>\n",
       "    </tr>\n",
       "    <tr>\n",
       "      <th>77</th>\n",
       "      <td>BHIA3</td>\n",
       "      <td>2024-01-26</td>\n",
       "      <td>8.70</td>\n",
       "      <td>-2.46</td>\n",
       "      <td>-0.02</td>\n",
       "      <td>8.92</td>\n",
       "      <td>94843047</td>\n",
       "      <td>-20810240.84</td>\n",
       "    </tr>\n",
       "    <tr>\n",
       "      <th>78</th>\n",
       "      <td>RENT3</td>\n",
       "      <td>2024-01-26</td>\n",
       "      <td>56.24</td>\n",
       "      <td>-3.63</td>\n",
       "      <td>-0.04</td>\n",
       "      <td>58.36</td>\n",
       "      <td>853202347</td>\n",
       "      <td>-1807432634.46</td>\n",
       "    </tr>\n",
       "    <tr>\n",
       "      <th>79</th>\n",
       "      <td>CVCB3</td>\n",
       "      <td>2024-01-26</td>\n",
       "      <td>3.07</td>\n",
       "      <td>-4.36</td>\n",
       "      <td>-0.04</td>\n",
       "      <td>3.21</td>\n",
       "      <td>525582771</td>\n",
       "      <td>-73557408.06</td>\n",
       "    </tr>\n",
       "    <tr>\n",
       "      <th>80</th>\n",
       "      <td>GOLL4</td>\n",
       "      <td>2024-01-26</td>\n",
       "      <td>5.92</td>\n",
       "      <td>-8.07</td>\n",
       "      <td>-0.08</td>\n",
       "      <td>6.44</td>\n",
       "      <td>198184909</td>\n",
       "      <td>-102993202.62</td>\n",
       "    </tr>\n",
       "  </tbody>\n",
       "</table>\n",
       "<p>81 rows × 8 columns</p>\n",
       "</div>"
      ],
      "text/plain": [
       "    Ativo       Data  valor_final  var_dia_pct  Var_pct  Var_inicial  \\\n",
       "0   USIM5 2024-01-26         9.50         5.20     0.05         9.03   \n",
       "1   CMIN3 2024-01-26         6.82         2.40     0.02         6.66   \n",
       "2   PETR3 2024-01-26        41.96         2.19     0.02        41.06   \n",
       "3   SUZB3 2024-01-26        52.91         2.04     0.02        51.85   \n",
       "4   CPFE3 2024-01-26        37.10         2.03     0.02        36.36   \n",
       "..    ...        ...          ...          ...      ...          ...   \n",
       "76  CRFB3 2024-01-26        10.71        -2.45    -0.02        10.98   \n",
       "77  BHIA3 2024-01-26         8.70        -2.46    -0.02         8.92   \n",
       "78  RENT3 2024-01-26        56.24        -3.63    -0.04        58.36   \n",
       "79  CVCB3 2024-01-26         3.07        -4.36    -0.04         3.21   \n",
       "80  GOLL4 2024-01-26         5.92        -8.07    -0.08         6.44   \n",
       "\n",
       "    Qtde. Teórica    Variacao_rs  \n",
       "0       515117391   241889725.43  \n",
       "1      1110559345   177515970.30  \n",
       "2     -2147483648  2140059393.53  \n",
       "3       683452836   722946282.71  \n",
       "4       187732538   138573955.06  \n",
       "..            ...            ...  \n",
       "76      533990587  -143635530.57  \n",
       "77       94843047   -20810240.84  \n",
       "78      853202347 -1807432634.46  \n",
       "79      525582771   -73557408.06  \n",
       "80      198184909  -102993202.62  \n",
       "\n",
       "[81 rows x 8 columns]"
      ]
     },
     "execution_count": 12,
     "metadata": {},
     "output_type": "execute_result"
    }
   ],
   "source": [
    "pd.options.display.float_format = '{:.2f}'.format\n",
    "df_principal['Qtde. Teórica'] = df_principal['Qtde. Teórica'].astype(int)\n",
    "df_principal"
   ]
  },
  {
   "cell_type": "code",
   "execution_count": 13,
   "id": "aa0cf840",
   "metadata": {},
   "outputs": [
    {
     "data": {
      "text/html": [
       "<div>\n",
       "<style scoped>\n",
       "    .dataframe tbody tr th:only-of-type {\n",
       "        vertical-align: middle;\n",
       "    }\n",
       "\n",
       "    .dataframe tbody tr th {\n",
       "        vertical-align: top;\n",
       "    }\n",
       "\n",
       "    .dataframe thead th {\n",
       "        text-align: right;\n",
       "    }\n",
       "</style>\n",
       "<table border=\"1\" class=\"dataframe\">\n",
       "  <thead>\n",
       "    <tr style=\"text-align: right;\">\n",
       "      <th></th>\n",
       "      <th>Ativo</th>\n",
       "      <th>Data</th>\n",
       "      <th>valor_final</th>\n",
       "      <th>var_dia_pct</th>\n",
       "      <th>Var_pct</th>\n",
       "      <th>Var_inicial</th>\n",
       "      <th>Qtd_teorica</th>\n",
       "      <th>Variacao_rs</th>\n",
       "    </tr>\n",
       "  </thead>\n",
       "  <tbody>\n",
       "    <tr>\n",
       "      <th>0</th>\n",
       "      <td>USIM5</td>\n",
       "      <td>2024-01-26</td>\n",
       "      <td>9.50</td>\n",
       "      <td>5.20</td>\n",
       "      <td>0.05</td>\n",
       "      <td>9.03</td>\n",
       "      <td>515117391</td>\n",
       "      <td>241889725.43</td>\n",
       "    </tr>\n",
       "    <tr>\n",
       "      <th>1</th>\n",
       "      <td>CMIN3</td>\n",
       "      <td>2024-01-26</td>\n",
       "      <td>6.82</td>\n",
       "      <td>2.40</td>\n",
       "      <td>0.02</td>\n",
       "      <td>6.66</td>\n",
       "      <td>1110559345</td>\n",
       "      <td>177515970.30</td>\n",
       "    </tr>\n",
       "    <tr>\n",
       "      <th>2</th>\n",
       "      <td>PETR3</td>\n",
       "      <td>2024-01-26</td>\n",
       "      <td>41.96</td>\n",
       "      <td>2.19</td>\n",
       "      <td>0.02</td>\n",
       "      <td>41.06</td>\n",
       "      <td>-2147483648</td>\n",
       "      <td>2140059393.53</td>\n",
       "    </tr>\n",
       "    <tr>\n",
       "      <th>3</th>\n",
       "      <td>SUZB3</td>\n",
       "      <td>2024-01-26</td>\n",
       "      <td>52.91</td>\n",
       "      <td>2.04</td>\n",
       "      <td>0.02</td>\n",
       "      <td>51.85</td>\n",
       "      <td>683452836</td>\n",
       "      <td>722946282.71</td>\n",
       "    </tr>\n",
       "    <tr>\n",
       "      <th>4</th>\n",
       "      <td>CPFE3</td>\n",
       "      <td>2024-01-26</td>\n",
       "      <td>37.10</td>\n",
       "      <td>2.03</td>\n",
       "      <td>0.02</td>\n",
       "      <td>36.36</td>\n",
       "      <td>187732538</td>\n",
       "      <td>138573955.06</td>\n",
       "    </tr>\n",
       "    <tr>\n",
       "      <th>...</th>\n",
       "      <td>...</td>\n",
       "      <td>...</td>\n",
       "      <td>...</td>\n",
       "      <td>...</td>\n",
       "      <td>...</td>\n",
       "      <td>...</td>\n",
       "      <td>...</td>\n",
       "      <td>...</td>\n",
       "    </tr>\n",
       "    <tr>\n",
       "      <th>76</th>\n",
       "      <td>CRFB3</td>\n",
       "      <td>2024-01-26</td>\n",
       "      <td>10.71</td>\n",
       "      <td>-2.45</td>\n",
       "      <td>-0.02</td>\n",
       "      <td>10.98</td>\n",
       "      <td>533990587</td>\n",
       "      <td>-143635530.57</td>\n",
       "    </tr>\n",
       "    <tr>\n",
       "      <th>77</th>\n",
       "      <td>BHIA3</td>\n",
       "      <td>2024-01-26</td>\n",
       "      <td>8.70</td>\n",
       "      <td>-2.46</td>\n",
       "      <td>-0.02</td>\n",
       "      <td>8.92</td>\n",
       "      <td>94843047</td>\n",
       "      <td>-20810240.84</td>\n",
       "    </tr>\n",
       "    <tr>\n",
       "      <th>78</th>\n",
       "      <td>RENT3</td>\n",
       "      <td>2024-01-26</td>\n",
       "      <td>56.24</td>\n",
       "      <td>-3.63</td>\n",
       "      <td>-0.04</td>\n",
       "      <td>58.36</td>\n",
       "      <td>853202347</td>\n",
       "      <td>-1807432634.46</td>\n",
       "    </tr>\n",
       "    <tr>\n",
       "      <th>79</th>\n",
       "      <td>CVCB3</td>\n",
       "      <td>2024-01-26</td>\n",
       "      <td>3.07</td>\n",
       "      <td>-4.36</td>\n",
       "      <td>-0.04</td>\n",
       "      <td>3.21</td>\n",
       "      <td>525582771</td>\n",
       "      <td>-73557408.06</td>\n",
       "    </tr>\n",
       "    <tr>\n",
       "      <th>80</th>\n",
       "      <td>GOLL4</td>\n",
       "      <td>2024-01-26</td>\n",
       "      <td>5.92</td>\n",
       "      <td>-8.07</td>\n",
       "      <td>-0.08</td>\n",
       "      <td>6.44</td>\n",
       "      <td>198184909</td>\n",
       "      <td>-102993202.62</td>\n",
       "    </tr>\n",
       "  </tbody>\n",
       "</table>\n",
       "<p>81 rows × 8 columns</p>\n",
       "</div>"
      ],
      "text/plain": [
       "    Ativo       Data  valor_final  var_dia_pct  Var_pct  Var_inicial  \\\n",
       "0   USIM5 2024-01-26         9.50         5.20     0.05         9.03   \n",
       "1   CMIN3 2024-01-26         6.82         2.40     0.02         6.66   \n",
       "2   PETR3 2024-01-26        41.96         2.19     0.02        41.06   \n",
       "3   SUZB3 2024-01-26        52.91         2.04     0.02        51.85   \n",
       "4   CPFE3 2024-01-26        37.10         2.03     0.02        36.36   \n",
       "..    ...        ...          ...          ...      ...          ...   \n",
       "76  CRFB3 2024-01-26        10.71        -2.45    -0.02        10.98   \n",
       "77  BHIA3 2024-01-26         8.70        -2.46    -0.02         8.92   \n",
       "78  RENT3 2024-01-26        56.24        -3.63    -0.04        58.36   \n",
       "79  CVCB3 2024-01-26         3.07        -4.36    -0.04         3.21   \n",
       "80  GOLL4 2024-01-26         5.92        -8.07    -0.08         6.44   \n",
       "\n",
       "    Qtd_teorica    Variacao_rs  \n",
       "0     515117391   241889725.43  \n",
       "1    1110559345   177515970.30  \n",
       "2   -2147483648  2140059393.53  \n",
       "3     683452836   722946282.71  \n",
       "4     187732538   138573955.06  \n",
       "..          ...            ...  \n",
       "76    533990587  -143635530.57  \n",
       "77     94843047   -20810240.84  \n",
       "78    853202347 -1807432634.46  \n",
       "79    525582771   -73557408.06  \n",
       "80    198184909  -102993202.62  \n",
       "\n",
       "[81 rows x 8 columns]"
      ]
     },
     "execution_count": 13,
     "metadata": {},
     "output_type": "execute_result"
    }
   ],
   "source": [
    "df_principal = df_principal.rename(columns={'Qtde. Teórica':'Qtd_teorica'}).copy()\n",
    "df_principal"
   ]
  },
  {
   "cell_type": "code",
   "execution_count": 14,
   "id": "96fc3e10",
   "metadata": {},
   "outputs": [
    {
     "data": {
      "text/html": [
       "<div>\n",
       "<style scoped>\n",
       "    .dataframe tbody tr th:only-of-type {\n",
       "        vertical-align: middle;\n",
       "    }\n",
       "\n",
       "    .dataframe tbody tr th {\n",
       "        vertical-align: top;\n",
       "    }\n",
       "\n",
       "    .dataframe thead th {\n",
       "        text-align: right;\n",
       "    }\n",
       "</style>\n",
       "<table border=\"1\" class=\"dataframe\">\n",
       "  <thead>\n",
       "    <tr style=\"text-align: right;\">\n",
       "      <th></th>\n",
       "      <th>Ativo</th>\n",
       "      <th>Data</th>\n",
       "      <th>valor_final</th>\n",
       "      <th>var_dia_pct</th>\n",
       "      <th>Var_pct</th>\n",
       "      <th>Var_inicial</th>\n",
       "      <th>Qtd_teorica</th>\n",
       "      <th>Variacao_rs</th>\n",
       "      <th>Resultado</th>\n",
       "    </tr>\n",
       "  </thead>\n",
       "  <tbody>\n",
       "    <tr>\n",
       "      <th>0</th>\n",
       "      <td>USIM5</td>\n",
       "      <td>2024-01-26</td>\n",
       "      <td>9.50</td>\n",
       "      <td>5.20</td>\n",
       "      <td>0.05</td>\n",
       "      <td>9.03</td>\n",
       "      <td>515117391</td>\n",
       "      <td>241889725.43</td>\n",
       "      <td>Subiu</td>\n",
       "    </tr>\n",
       "    <tr>\n",
       "      <th>1</th>\n",
       "      <td>CMIN3</td>\n",
       "      <td>2024-01-26</td>\n",
       "      <td>6.82</td>\n",
       "      <td>2.40</td>\n",
       "      <td>0.02</td>\n",
       "      <td>6.66</td>\n",
       "      <td>1110559345</td>\n",
       "      <td>177515970.30</td>\n",
       "      <td>Subiu</td>\n",
       "    </tr>\n",
       "    <tr>\n",
       "      <th>2</th>\n",
       "      <td>PETR3</td>\n",
       "      <td>2024-01-26</td>\n",
       "      <td>41.96</td>\n",
       "      <td>2.19</td>\n",
       "      <td>0.02</td>\n",
       "      <td>41.06</td>\n",
       "      <td>-2147483648</td>\n",
       "      <td>2140059393.53</td>\n",
       "      <td>Subiu</td>\n",
       "    </tr>\n",
       "    <tr>\n",
       "      <th>3</th>\n",
       "      <td>SUZB3</td>\n",
       "      <td>2024-01-26</td>\n",
       "      <td>52.91</td>\n",
       "      <td>2.04</td>\n",
       "      <td>0.02</td>\n",
       "      <td>51.85</td>\n",
       "      <td>683452836</td>\n",
       "      <td>722946282.71</td>\n",
       "      <td>Subiu</td>\n",
       "    </tr>\n",
       "    <tr>\n",
       "      <th>4</th>\n",
       "      <td>CPFE3</td>\n",
       "      <td>2024-01-26</td>\n",
       "      <td>37.10</td>\n",
       "      <td>2.03</td>\n",
       "      <td>0.02</td>\n",
       "      <td>36.36</td>\n",
       "      <td>187732538</td>\n",
       "      <td>138573955.06</td>\n",
       "      <td>Subiu</td>\n",
       "    </tr>\n",
       "    <tr>\n",
       "      <th>...</th>\n",
       "      <td>...</td>\n",
       "      <td>...</td>\n",
       "      <td>...</td>\n",
       "      <td>...</td>\n",
       "      <td>...</td>\n",
       "      <td>...</td>\n",
       "      <td>...</td>\n",
       "      <td>...</td>\n",
       "      <td>...</td>\n",
       "    </tr>\n",
       "    <tr>\n",
       "      <th>76</th>\n",
       "      <td>CRFB3</td>\n",
       "      <td>2024-01-26</td>\n",
       "      <td>10.71</td>\n",
       "      <td>-2.45</td>\n",
       "      <td>-0.02</td>\n",
       "      <td>10.98</td>\n",
       "      <td>533990587</td>\n",
       "      <td>-143635530.57</td>\n",
       "      <td>Desceu</td>\n",
       "    </tr>\n",
       "    <tr>\n",
       "      <th>77</th>\n",
       "      <td>BHIA3</td>\n",
       "      <td>2024-01-26</td>\n",
       "      <td>8.70</td>\n",
       "      <td>-2.46</td>\n",
       "      <td>-0.02</td>\n",
       "      <td>8.92</td>\n",
       "      <td>94843047</td>\n",
       "      <td>-20810240.84</td>\n",
       "      <td>Desceu</td>\n",
       "    </tr>\n",
       "    <tr>\n",
       "      <th>78</th>\n",
       "      <td>RENT3</td>\n",
       "      <td>2024-01-26</td>\n",
       "      <td>56.24</td>\n",
       "      <td>-3.63</td>\n",
       "      <td>-0.04</td>\n",
       "      <td>58.36</td>\n",
       "      <td>853202347</td>\n",
       "      <td>-1807432634.46</td>\n",
       "      <td>Desceu</td>\n",
       "    </tr>\n",
       "    <tr>\n",
       "      <th>79</th>\n",
       "      <td>CVCB3</td>\n",
       "      <td>2024-01-26</td>\n",
       "      <td>3.07</td>\n",
       "      <td>-4.36</td>\n",
       "      <td>-0.04</td>\n",
       "      <td>3.21</td>\n",
       "      <td>525582771</td>\n",
       "      <td>-73557408.06</td>\n",
       "      <td>Desceu</td>\n",
       "    </tr>\n",
       "    <tr>\n",
       "      <th>80</th>\n",
       "      <td>GOLL4</td>\n",
       "      <td>2024-01-26</td>\n",
       "      <td>5.92</td>\n",
       "      <td>-8.07</td>\n",
       "      <td>-0.08</td>\n",
       "      <td>6.44</td>\n",
       "      <td>198184909</td>\n",
       "      <td>-102993202.62</td>\n",
       "      <td>Desceu</td>\n",
       "    </tr>\n",
       "  </tbody>\n",
       "</table>\n",
       "<p>81 rows × 9 columns</p>\n",
       "</div>"
      ],
      "text/plain": [
       "    Ativo       Data  valor_final  var_dia_pct  Var_pct  Var_inicial  \\\n",
       "0   USIM5 2024-01-26         9.50         5.20     0.05         9.03   \n",
       "1   CMIN3 2024-01-26         6.82         2.40     0.02         6.66   \n",
       "2   PETR3 2024-01-26        41.96         2.19     0.02        41.06   \n",
       "3   SUZB3 2024-01-26        52.91         2.04     0.02        51.85   \n",
       "4   CPFE3 2024-01-26        37.10         2.03     0.02        36.36   \n",
       "..    ...        ...          ...          ...      ...          ...   \n",
       "76  CRFB3 2024-01-26        10.71        -2.45    -0.02        10.98   \n",
       "77  BHIA3 2024-01-26         8.70        -2.46    -0.02         8.92   \n",
       "78  RENT3 2024-01-26        56.24        -3.63    -0.04        58.36   \n",
       "79  CVCB3 2024-01-26         3.07        -4.36    -0.04         3.21   \n",
       "80  GOLL4 2024-01-26         5.92        -8.07    -0.08         6.44   \n",
       "\n",
       "    Qtd_teorica    Variacao_rs Resultado  \n",
       "0     515117391   241889725.43     Subiu  \n",
       "1    1110559345   177515970.30     Subiu  \n",
       "2   -2147483648  2140059393.53     Subiu  \n",
       "3     683452836   722946282.71     Subiu  \n",
       "4     187732538   138573955.06     Subiu  \n",
       "..          ...            ...       ...  \n",
       "76    533990587  -143635530.57    Desceu  \n",
       "77     94843047   -20810240.84    Desceu  \n",
       "78    853202347 -1807432634.46    Desceu  \n",
       "79    525582771   -73557408.06    Desceu  \n",
       "80    198184909  -102993202.62    Desceu  \n",
       "\n",
       "[81 rows x 9 columns]"
      ]
     },
     "execution_count": 14,
     "metadata": {},
     "output_type": "execute_result"
    }
   ],
   "source": [
    "df_principal['Resultado'] = df_principal['Variacao_rs'].apply(lambda x: 'Subiu' if x > 0 else ('Desceu' if x < 0 else 'Estável'))\n",
    "df_principal"
   ]
  },
  {
   "cell_type": "code",
   "execution_count": 15,
   "id": "41abf5e3",
   "metadata": {},
   "outputs": [
    {
     "data": {
      "text/html": [
       "<div>\n",
       "<style scoped>\n",
       "    .dataframe tbody tr th:only-of-type {\n",
       "        vertical-align: middle;\n",
       "    }\n",
       "\n",
       "    .dataframe tbody tr th {\n",
       "        vertical-align: top;\n",
       "    }\n",
       "\n",
       "    .dataframe thead th {\n",
       "        text-align: right;\n",
       "    }\n",
       "</style>\n",
       "<table border=\"1\" class=\"dataframe\">\n",
       "  <thead>\n",
       "    <tr style=\"text-align: right;\">\n",
       "      <th></th>\n",
       "      <th>Ativo</th>\n",
       "      <th>Data</th>\n",
       "      <th>valor_final</th>\n",
       "      <th>var_dia_pct</th>\n",
       "      <th>Var_pct</th>\n",
       "      <th>Var_inicial</th>\n",
       "      <th>Qtd_teorica</th>\n",
       "      <th>Variacao_rs</th>\n",
       "      <th>Resultado</th>\n",
       "      <th>Nome</th>\n",
       "    </tr>\n",
       "  </thead>\n",
       "  <tbody>\n",
       "    <tr>\n",
       "      <th>0</th>\n",
       "      <td>USIM5</td>\n",
       "      <td>2024-01-26</td>\n",
       "      <td>9.50</td>\n",
       "      <td>5.20</td>\n",
       "      <td>0.05</td>\n",
       "      <td>9.03</td>\n",
       "      <td>515117391</td>\n",
       "      <td>241889725.43</td>\n",
       "      <td>Subiu</td>\n",
       "      <td>Usiminas</td>\n",
       "    </tr>\n",
       "    <tr>\n",
       "      <th>1</th>\n",
       "      <td>CMIN3</td>\n",
       "      <td>2024-01-26</td>\n",
       "      <td>6.82</td>\n",
       "      <td>2.40</td>\n",
       "      <td>0.02</td>\n",
       "      <td>6.66</td>\n",
       "      <td>1110559345</td>\n",
       "      <td>177515970.30</td>\n",
       "      <td>Subiu</td>\n",
       "      <td>CSN Mineração</td>\n",
       "    </tr>\n",
       "    <tr>\n",
       "      <th>2</th>\n",
       "      <td>PETR3</td>\n",
       "      <td>2024-01-26</td>\n",
       "      <td>41.96</td>\n",
       "      <td>2.19</td>\n",
       "      <td>0.02</td>\n",
       "      <td>41.06</td>\n",
       "      <td>-2147483648</td>\n",
       "      <td>2140059393.53</td>\n",
       "      <td>Subiu</td>\n",
       "      <td>Petrobras</td>\n",
       "    </tr>\n",
       "    <tr>\n",
       "      <th>3</th>\n",
       "      <td>SUZB3</td>\n",
       "      <td>2024-01-26</td>\n",
       "      <td>52.91</td>\n",
       "      <td>2.04</td>\n",
       "      <td>0.02</td>\n",
       "      <td>51.85</td>\n",
       "      <td>683452836</td>\n",
       "      <td>722946282.71</td>\n",
       "      <td>Subiu</td>\n",
       "      <td>Suzano</td>\n",
       "    </tr>\n",
       "    <tr>\n",
       "      <th>4</th>\n",
       "      <td>CPFE3</td>\n",
       "      <td>2024-01-26</td>\n",
       "      <td>37.10</td>\n",
       "      <td>2.03</td>\n",
       "      <td>0.02</td>\n",
       "      <td>36.36</td>\n",
       "      <td>187732538</td>\n",
       "      <td>138573955.06</td>\n",
       "      <td>Subiu</td>\n",
       "      <td>CPFL Energia</td>\n",
       "    </tr>\n",
       "    <tr>\n",
       "      <th>...</th>\n",
       "      <td>...</td>\n",
       "      <td>...</td>\n",
       "      <td>...</td>\n",
       "      <td>...</td>\n",
       "      <td>...</td>\n",
       "      <td>...</td>\n",
       "      <td>...</td>\n",
       "      <td>...</td>\n",
       "      <td>...</td>\n",
       "      <td>...</td>\n",
       "    </tr>\n",
       "    <tr>\n",
       "      <th>76</th>\n",
       "      <td>CRFB3</td>\n",
       "      <td>2024-01-26</td>\n",
       "      <td>10.71</td>\n",
       "      <td>-2.45</td>\n",
       "      <td>-0.02</td>\n",
       "      <td>10.98</td>\n",
       "      <td>533990587</td>\n",
       "      <td>-143635530.57</td>\n",
       "      <td>Desceu</td>\n",
       "      <td>Carrefour Brasil</td>\n",
       "    </tr>\n",
       "    <tr>\n",
       "      <th>77</th>\n",
       "      <td>BHIA3</td>\n",
       "      <td>2024-01-26</td>\n",
       "      <td>8.70</td>\n",
       "      <td>-2.46</td>\n",
       "      <td>-0.02</td>\n",
       "      <td>8.92</td>\n",
       "      <td>94843047</td>\n",
       "      <td>-20810240.84</td>\n",
       "      <td>Desceu</td>\n",
       "      <td>Casas Bahia</td>\n",
       "    </tr>\n",
       "    <tr>\n",
       "      <th>78</th>\n",
       "      <td>RENT3</td>\n",
       "      <td>2024-01-26</td>\n",
       "      <td>56.24</td>\n",
       "      <td>-3.63</td>\n",
       "      <td>-0.04</td>\n",
       "      <td>58.36</td>\n",
       "      <td>853202347</td>\n",
       "      <td>-1807432634.46</td>\n",
       "      <td>Desceu</td>\n",
       "      <td>Localiza</td>\n",
       "    </tr>\n",
       "    <tr>\n",
       "      <th>79</th>\n",
       "      <td>CVCB3</td>\n",
       "      <td>2024-01-26</td>\n",
       "      <td>3.07</td>\n",
       "      <td>-4.36</td>\n",
       "      <td>-0.04</td>\n",
       "      <td>3.21</td>\n",
       "      <td>525582771</td>\n",
       "      <td>-73557408.06</td>\n",
       "      <td>Desceu</td>\n",
       "      <td>CVC</td>\n",
       "    </tr>\n",
       "    <tr>\n",
       "      <th>80</th>\n",
       "      <td>GOLL4</td>\n",
       "      <td>2024-01-26</td>\n",
       "      <td>5.92</td>\n",
       "      <td>-8.07</td>\n",
       "      <td>-0.08</td>\n",
       "      <td>6.44</td>\n",
       "      <td>198184909</td>\n",
       "      <td>-102993202.62</td>\n",
       "      <td>Desceu</td>\n",
       "      <td>GOL</td>\n",
       "    </tr>\n",
       "  </tbody>\n",
       "</table>\n",
       "<p>81 rows × 10 columns</p>\n",
       "</div>"
      ],
      "text/plain": [
       "    Ativo       Data  valor_final  var_dia_pct  Var_pct  Var_inicial  \\\n",
       "0   USIM5 2024-01-26         9.50         5.20     0.05         9.03   \n",
       "1   CMIN3 2024-01-26         6.82         2.40     0.02         6.66   \n",
       "2   PETR3 2024-01-26        41.96         2.19     0.02        41.06   \n",
       "3   SUZB3 2024-01-26        52.91         2.04     0.02        51.85   \n",
       "4   CPFE3 2024-01-26        37.10         2.03     0.02        36.36   \n",
       "..    ...        ...          ...          ...      ...          ...   \n",
       "76  CRFB3 2024-01-26        10.71        -2.45    -0.02        10.98   \n",
       "77  BHIA3 2024-01-26         8.70        -2.46    -0.02         8.92   \n",
       "78  RENT3 2024-01-26        56.24        -3.63    -0.04        58.36   \n",
       "79  CVCB3 2024-01-26         3.07        -4.36    -0.04         3.21   \n",
       "80  GOLL4 2024-01-26         5.92        -8.07    -0.08         6.44   \n",
       "\n",
       "    Qtd_teorica    Variacao_rs Resultado              Nome  \n",
       "0     515117391   241889725.43     Subiu          Usiminas  \n",
       "1    1110559345   177515970.30     Subiu     CSN Mineração  \n",
       "2   -2147483648  2140059393.53     Subiu         Petrobras  \n",
       "3     683452836   722946282.71     Subiu            Suzano  \n",
       "4     187732538   138573955.06     Subiu      CPFL Energia  \n",
       "..          ...            ...       ...               ...  \n",
       "76    533990587  -143635530.57    Desceu  Carrefour Brasil  \n",
       "77     94843047   -20810240.84    Desceu       Casas Bahia  \n",
       "78    853202347 -1807432634.46    Desceu          Localiza  \n",
       "79    525582771   -73557408.06    Desceu               CVC  \n",
       "80    198184909  -102993202.62    Desceu               GOL  \n",
       "\n",
       "[81 rows x 10 columns]"
      ]
     },
     "execution_count": 15,
     "metadata": {},
     "output_type": "execute_result"
    }
   ],
   "source": [
    "df_principal = df_principal.merge(df_ticker,left_on='Ativo',right_on='Ticker',how='left')\n",
    "df_principal = df_principal.drop(columns=['Ticker'])\n",
    "df_principal"
   ]
  },
  {
   "cell_type": "code",
   "execution_count": 16,
   "id": "9f61d213",
   "metadata": {},
   "outputs": [
    {
     "data": {
      "text/html": [
       "<div>\n",
       "<style scoped>\n",
       "    .dataframe tbody tr th:only-of-type {\n",
       "        vertical-align: middle;\n",
       "    }\n",
       "\n",
       "    .dataframe tbody tr th {\n",
       "        vertical-align: top;\n",
       "    }\n",
       "\n",
       "    .dataframe thead th {\n",
       "        text-align: right;\n",
       "    }\n",
       "</style>\n",
       "<table border=\"1\" class=\"dataframe\">\n",
       "  <thead>\n",
       "    <tr style=\"text-align: right;\">\n",
       "      <th></th>\n",
       "      <th>Ativo</th>\n",
       "      <th>Data</th>\n",
       "      <th>valor_final</th>\n",
       "      <th>var_dia_pct</th>\n",
       "      <th>Var_pct</th>\n",
       "      <th>Var_inicial</th>\n",
       "      <th>Qtd_teorica</th>\n",
       "      <th>Variacao_rs</th>\n",
       "      <th>Resultado</th>\n",
       "      <th>Nome</th>\n",
       "      <th>Segmento</th>\n",
       "      <th>Idade (anos)</th>\n",
       "    </tr>\n",
       "  </thead>\n",
       "  <tbody>\n",
       "    <tr>\n",
       "      <th>0</th>\n",
       "      <td>USIM5</td>\n",
       "      <td>2024-01-26</td>\n",
       "      <td>9.50</td>\n",
       "      <td>5.20</td>\n",
       "      <td>0.05</td>\n",
       "      <td>9.03</td>\n",
       "      <td>515117391</td>\n",
       "      <td>241889725.43</td>\n",
       "      <td>Subiu</td>\n",
       "      <td>Usiminas</td>\n",
       "      <td>Siderurgia</td>\n",
       "      <td>60</td>\n",
       "    </tr>\n",
       "    <tr>\n",
       "      <th>1</th>\n",
       "      <td>CMIN3</td>\n",
       "      <td>2024-01-26</td>\n",
       "      <td>6.82</td>\n",
       "      <td>2.40</td>\n",
       "      <td>0.02</td>\n",
       "      <td>6.66</td>\n",
       "      <td>1110559345</td>\n",
       "      <td>177515970.30</td>\n",
       "      <td>Subiu</td>\n",
       "      <td>CSN Mineração</td>\n",
       "      <td>Mineração</td>\n",
       "      <td>8</td>\n",
       "    </tr>\n",
       "    <tr>\n",
       "      <th>2</th>\n",
       "      <td>PETR3</td>\n",
       "      <td>2024-01-26</td>\n",
       "      <td>41.96</td>\n",
       "      <td>2.19</td>\n",
       "      <td>0.02</td>\n",
       "      <td>41.06</td>\n",
       "      <td>-2147483648</td>\n",
       "      <td>2140059393.53</td>\n",
       "      <td>Subiu</td>\n",
       "      <td>Petrobras</td>\n",
       "      <td>Energia / Petróleo</td>\n",
       "      <td>68</td>\n",
       "    </tr>\n",
       "    <tr>\n",
       "      <th>3</th>\n",
       "      <td>SUZB3</td>\n",
       "      <td>2024-01-26</td>\n",
       "      <td>52.91</td>\n",
       "      <td>2.04</td>\n",
       "      <td>0.02</td>\n",
       "      <td>51.85</td>\n",
       "      <td>683452836</td>\n",
       "      <td>722946282.71</td>\n",
       "      <td>Subiu</td>\n",
       "      <td>Suzano</td>\n",
       "      <td>Papel e Celulose</td>\n",
       "      <td>98</td>\n",
       "    </tr>\n",
       "    <tr>\n",
       "      <th>4</th>\n",
       "      <td>CPFE3</td>\n",
       "      <td>2024-01-26</td>\n",
       "      <td>37.10</td>\n",
       "      <td>2.03</td>\n",
       "      <td>0.02</td>\n",
       "      <td>36.36</td>\n",
       "      <td>187732538</td>\n",
       "      <td>138573955.06</td>\n",
       "      <td>Subiu</td>\n",
       "      <td>CPFL Energia</td>\n",
       "      <td>Energia Elétrica</td>\n",
       "      <td>108</td>\n",
       "    </tr>\n",
       "    <tr>\n",
       "      <th>...</th>\n",
       "      <td>...</td>\n",
       "      <td>...</td>\n",
       "      <td>...</td>\n",
       "      <td>...</td>\n",
       "      <td>...</td>\n",
       "      <td>...</td>\n",
       "      <td>...</td>\n",
       "      <td>...</td>\n",
       "      <td>...</td>\n",
       "      <td>...</td>\n",
       "      <td>...</td>\n",
       "      <td>...</td>\n",
       "    </tr>\n",
       "    <tr>\n",
       "      <th>78</th>\n",
       "      <td>CRFB3</td>\n",
       "      <td>2024-01-26</td>\n",
       "      <td>10.71</td>\n",
       "      <td>-2.45</td>\n",
       "      <td>-0.02</td>\n",
       "      <td>10.98</td>\n",
       "      <td>533990587</td>\n",
       "      <td>-143635530.57</td>\n",
       "      <td>Desceu</td>\n",
       "      <td>Carrefour Brasil</td>\n",
       "      <td>Varejo / Supermercados</td>\n",
       "      <td>46</td>\n",
       "    </tr>\n",
       "    <tr>\n",
       "      <th>79</th>\n",
       "      <td>BHIA3</td>\n",
       "      <td>2024-01-26</td>\n",
       "      <td>8.70</td>\n",
       "      <td>-2.46</td>\n",
       "      <td>-0.02</td>\n",
       "      <td>8.92</td>\n",
       "      <td>94843047</td>\n",
       "      <td>-20810240.84</td>\n",
       "      <td>Desceu</td>\n",
       "      <td>Casas Bahia</td>\n",
       "      <td>Varejo / Eletrodomésticos</td>\n",
       "      <td>98</td>\n",
       "    </tr>\n",
       "    <tr>\n",
       "      <th>80</th>\n",
       "      <td>RENT3</td>\n",
       "      <td>2024-01-26</td>\n",
       "      <td>56.24</td>\n",
       "      <td>-3.63</td>\n",
       "      <td>-0.04</td>\n",
       "      <td>58.36</td>\n",
       "      <td>853202347</td>\n",
       "      <td>-1807432634.46</td>\n",
       "      <td>Desceu</td>\n",
       "      <td>Localiza</td>\n",
       "      <td>Locação de Veículos</td>\n",
       "      <td>48</td>\n",
       "    </tr>\n",
       "    <tr>\n",
       "      <th>81</th>\n",
       "      <td>CVCB3</td>\n",
       "      <td>2024-01-26</td>\n",
       "      <td>3.07</td>\n",
       "      <td>-4.36</td>\n",
       "      <td>-0.04</td>\n",
       "      <td>3.21</td>\n",
       "      <td>525582771</td>\n",
       "      <td>-73557408.06</td>\n",
       "      <td>Desceu</td>\n",
       "      <td>CVC</td>\n",
       "      <td>Turismo</td>\n",
       "      <td>49</td>\n",
       "    </tr>\n",
       "    <tr>\n",
       "      <th>82</th>\n",
       "      <td>GOLL4</td>\n",
       "      <td>2024-01-26</td>\n",
       "      <td>5.92</td>\n",
       "      <td>-8.07</td>\n",
       "      <td>-0.08</td>\n",
       "      <td>6.44</td>\n",
       "      <td>198184909</td>\n",
       "      <td>-102993202.62</td>\n",
       "      <td>Desceu</td>\n",
       "      <td>GOL</td>\n",
       "      <td>Transporte Aéreo</td>\n",
       "      <td>20</td>\n",
       "    </tr>\n",
       "  </tbody>\n",
       "</table>\n",
       "<p>83 rows × 12 columns</p>\n",
       "</div>"
      ],
      "text/plain": [
       "    Ativo       Data  valor_final  var_dia_pct  Var_pct  Var_inicial  \\\n",
       "0   USIM5 2024-01-26         9.50         5.20     0.05         9.03   \n",
       "1   CMIN3 2024-01-26         6.82         2.40     0.02         6.66   \n",
       "2   PETR3 2024-01-26        41.96         2.19     0.02        41.06   \n",
       "3   SUZB3 2024-01-26        52.91         2.04     0.02        51.85   \n",
       "4   CPFE3 2024-01-26        37.10         2.03     0.02        36.36   \n",
       "..    ...        ...          ...          ...      ...          ...   \n",
       "78  CRFB3 2024-01-26        10.71        -2.45    -0.02        10.98   \n",
       "79  BHIA3 2024-01-26         8.70        -2.46    -0.02         8.92   \n",
       "80  RENT3 2024-01-26        56.24        -3.63    -0.04        58.36   \n",
       "81  CVCB3 2024-01-26         3.07        -4.36    -0.04         3.21   \n",
       "82  GOLL4 2024-01-26         5.92        -8.07    -0.08         6.44   \n",
       "\n",
       "    Qtd_teorica    Variacao_rs Resultado              Nome  \\\n",
       "0     515117391   241889725.43     Subiu          Usiminas   \n",
       "1    1110559345   177515970.30     Subiu     CSN Mineração   \n",
       "2   -2147483648  2140059393.53     Subiu         Petrobras   \n",
       "3     683452836   722946282.71     Subiu            Suzano   \n",
       "4     187732538   138573955.06     Subiu      CPFL Energia   \n",
       "..          ...            ...       ...               ...   \n",
       "78    533990587  -143635530.57    Desceu  Carrefour Brasil   \n",
       "79     94843047   -20810240.84    Desceu       Casas Bahia   \n",
       "80    853202347 -1807432634.46    Desceu          Localiza   \n",
       "81    525582771   -73557408.06    Desceu               CVC   \n",
       "82    198184909  -102993202.62    Desceu               GOL   \n",
       "\n",
       "                     Segmento  Idade (anos)  \n",
       "0                  Siderurgia            60  \n",
       "1                   Mineração             8  \n",
       "2          Energia / Petróleo            68  \n",
       "3            Papel e Celulose            98  \n",
       "4            Energia Elétrica           108  \n",
       "..                        ...           ...  \n",
       "78     Varejo / Supermercados            46  \n",
       "79  Varejo / Eletrodomésticos            98  \n",
       "80        Locação de Veículos            48  \n",
       "81                    Turismo            49  \n",
       "82           Transporte Aéreo            20  \n",
       "\n",
       "[83 rows x 12 columns]"
      ]
     },
     "execution_count": 16,
     "metadata": {},
     "output_type": "execute_result"
    }
   ],
   "source": [
    "df_principal = df_principal.merge(df_ChatBing,left_on='Nome',right_on='Nome Empresa',how='left')\n",
    "df_principal = df_principal.drop(columns=['Nome Empresa'])\n",
    "df_principal"
   ]
  },
  {
   "cell_type": "code",
   "execution_count": 17,
   "id": "21c1db30",
   "metadata": {},
   "outputs": [
    {
     "data": {
      "text/html": [
       "<div>\n",
       "<style scoped>\n",
       "    .dataframe tbody tr th:only-of-type {\n",
       "        vertical-align: middle;\n",
       "    }\n",
       "\n",
       "    .dataframe tbody tr th {\n",
       "        vertical-align: top;\n",
       "    }\n",
       "\n",
       "    .dataframe thead th {\n",
       "        text-align: right;\n",
       "    }\n",
       "</style>\n",
       "<table border=\"1\" class=\"dataframe\">\n",
       "  <thead>\n",
       "    <tr style=\"text-align: right;\">\n",
       "      <th></th>\n",
       "      <th>Ativo</th>\n",
       "      <th>Data</th>\n",
       "      <th>valor_final</th>\n",
       "      <th>var_dia_pct</th>\n",
       "      <th>Var_pct</th>\n",
       "      <th>Var_inicial</th>\n",
       "      <th>Qtd_teorica</th>\n",
       "      <th>Variacao_rs</th>\n",
       "      <th>Resultado</th>\n",
       "      <th>Nome</th>\n",
       "      <th>Segmento</th>\n",
       "      <th>Ano_de_fundacao</th>\n",
       "    </tr>\n",
       "  </thead>\n",
       "  <tbody>\n",
       "    <tr>\n",
       "      <th>0</th>\n",
       "      <td>USIM5</td>\n",
       "      <td>2024-01-26</td>\n",
       "      <td>9.50</td>\n",
       "      <td>5.20</td>\n",
       "      <td>0.05</td>\n",
       "      <td>9.03</td>\n",
       "      <td>515117391</td>\n",
       "      <td>241889725.43</td>\n",
       "      <td>Subiu</td>\n",
       "      <td>Usiminas</td>\n",
       "      <td>Siderurgia</td>\n",
       "      <td>60</td>\n",
       "    </tr>\n",
       "    <tr>\n",
       "      <th>1</th>\n",
       "      <td>CMIN3</td>\n",
       "      <td>2024-01-26</td>\n",
       "      <td>6.82</td>\n",
       "      <td>2.40</td>\n",
       "      <td>0.02</td>\n",
       "      <td>6.66</td>\n",
       "      <td>1110559345</td>\n",
       "      <td>177515970.30</td>\n",
       "      <td>Subiu</td>\n",
       "      <td>CSN Mineração</td>\n",
       "      <td>Mineração</td>\n",
       "      <td>8</td>\n",
       "    </tr>\n",
       "    <tr>\n",
       "      <th>2</th>\n",
       "      <td>PETR3</td>\n",
       "      <td>2024-01-26</td>\n",
       "      <td>41.96</td>\n",
       "      <td>2.19</td>\n",
       "      <td>0.02</td>\n",
       "      <td>41.06</td>\n",
       "      <td>-2147483648</td>\n",
       "      <td>2140059393.53</td>\n",
       "      <td>Subiu</td>\n",
       "      <td>Petrobras</td>\n",
       "      <td>Energia / Petróleo</td>\n",
       "      <td>68</td>\n",
       "    </tr>\n",
       "    <tr>\n",
       "      <th>3</th>\n",
       "      <td>SUZB3</td>\n",
       "      <td>2024-01-26</td>\n",
       "      <td>52.91</td>\n",
       "      <td>2.04</td>\n",
       "      <td>0.02</td>\n",
       "      <td>51.85</td>\n",
       "      <td>683452836</td>\n",
       "      <td>722946282.71</td>\n",
       "      <td>Subiu</td>\n",
       "      <td>Suzano</td>\n",
       "      <td>Papel e Celulose</td>\n",
       "      <td>98</td>\n",
       "    </tr>\n",
       "    <tr>\n",
       "      <th>4</th>\n",
       "      <td>CPFE3</td>\n",
       "      <td>2024-01-26</td>\n",
       "      <td>37.10</td>\n",
       "      <td>2.03</td>\n",
       "      <td>0.02</td>\n",
       "      <td>36.36</td>\n",
       "      <td>187732538</td>\n",
       "      <td>138573955.06</td>\n",
       "      <td>Subiu</td>\n",
       "      <td>CPFL Energia</td>\n",
       "      <td>Energia Elétrica</td>\n",
       "      <td>108</td>\n",
       "    </tr>\n",
       "    <tr>\n",
       "      <th>...</th>\n",
       "      <td>...</td>\n",
       "      <td>...</td>\n",
       "      <td>...</td>\n",
       "      <td>...</td>\n",
       "      <td>...</td>\n",
       "      <td>...</td>\n",
       "      <td>...</td>\n",
       "      <td>...</td>\n",
       "      <td>...</td>\n",
       "      <td>...</td>\n",
       "      <td>...</td>\n",
       "      <td>...</td>\n",
       "    </tr>\n",
       "    <tr>\n",
       "      <th>78</th>\n",
       "      <td>CRFB3</td>\n",
       "      <td>2024-01-26</td>\n",
       "      <td>10.71</td>\n",
       "      <td>-2.45</td>\n",
       "      <td>-0.02</td>\n",
       "      <td>10.98</td>\n",
       "      <td>533990587</td>\n",
       "      <td>-143635530.57</td>\n",
       "      <td>Desceu</td>\n",
       "      <td>Carrefour Brasil</td>\n",
       "      <td>Varejo / Supermercados</td>\n",
       "      <td>46</td>\n",
       "    </tr>\n",
       "    <tr>\n",
       "      <th>79</th>\n",
       "      <td>BHIA3</td>\n",
       "      <td>2024-01-26</td>\n",
       "      <td>8.70</td>\n",
       "      <td>-2.46</td>\n",
       "      <td>-0.02</td>\n",
       "      <td>8.92</td>\n",
       "      <td>94843047</td>\n",
       "      <td>-20810240.84</td>\n",
       "      <td>Desceu</td>\n",
       "      <td>Casas Bahia</td>\n",
       "      <td>Varejo / Eletrodomésticos</td>\n",
       "      <td>98</td>\n",
       "    </tr>\n",
       "    <tr>\n",
       "      <th>80</th>\n",
       "      <td>RENT3</td>\n",
       "      <td>2024-01-26</td>\n",
       "      <td>56.24</td>\n",
       "      <td>-3.63</td>\n",
       "      <td>-0.04</td>\n",
       "      <td>58.36</td>\n",
       "      <td>853202347</td>\n",
       "      <td>-1807432634.46</td>\n",
       "      <td>Desceu</td>\n",
       "      <td>Localiza</td>\n",
       "      <td>Locação de Veículos</td>\n",
       "      <td>48</td>\n",
       "    </tr>\n",
       "    <tr>\n",
       "      <th>81</th>\n",
       "      <td>CVCB3</td>\n",
       "      <td>2024-01-26</td>\n",
       "      <td>3.07</td>\n",
       "      <td>-4.36</td>\n",
       "      <td>-0.04</td>\n",
       "      <td>3.21</td>\n",
       "      <td>525582771</td>\n",
       "      <td>-73557408.06</td>\n",
       "      <td>Desceu</td>\n",
       "      <td>CVC</td>\n",
       "      <td>Turismo</td>\n",
       "      <td>49</td>\n",
       "    </tr>\n",
       "    <tr>\n",
       "      <th>82</th>\n",
       "      <td>GOLL4</td>\n",
       "      <td>2024-01-26</td>\n",
       "      <td>5.92</td>\n",
       "      <td>-8.07</td>\n",
       "      <td>-0.08</td>\n",
       "      <td>6.44</td>\n",
       "      <td>198184909</td>\n",
       "      <td>-102993202.62</td>\n",
       "      <td>Desceu</td>\n",
       "      <td>GOL</td>\n",
       "      <td>Transporte Aéreo</td>\n",
       "      <td>20</td>\n",
       "    </tr>\n",
       "  </tbody>\n",
       "</table>\n",
       "<p>83 rows × 12 columns</p>\n",
       "</div>"
      ],
      "text/plain": [
       "    Ativo       Data  valor_final  var_dia_pct  Var_pct  Var_inicial  \\\n",
       "0   USIM5 2024-01-26         9.50         5.20     0.05         9.03   \n",
       "1   CMIN3 2024-01-26         6.82         2.40     0.02         6.66   \n",
       "2   PETR3 2024-01-26        41.96         2.19     0.02        41.06   \n",
       "3   SUZB3 2024-01-26        52.91         2.04     0.02        51.85   \n",
       "4   CPFE3 2024-01-26        37.10         2.03     0.02        36.36   \n",
       "..    ...        ...          ...          ...      ...          ...   \n",
       "78  CRFB3 2024-01-26        10.71        -2.45    -0.02        10.98   \n",
       "79  BHIA3 2024-01-26         8.70        -2.46    -0.02         8.92   \n",
       "80  RENT3 2024-01-26        56.24        -3.63    -0.04        58.36   \n",
       "81  CVCB3 2024-01-26         3.07        -4.36    -0.04         3.21   \n",
       "82  GOLL4 2024-01-26         5.92        -8.07    -0.08         6.44   \n",
       "\n",
       "    Qtd_teorica    Variacao_rs Resultado              Nome  \\\n",
       "0     515117391   241889725.43     Subiu          Usiminas   \n",
       "1    1110559345   177515970.30     Subiu     CSN Mineração   \n",
       "2   -2147483648  2140059393.53     Subiu         Petrobras   \n",
       "3     683452836   722946282.71     Subiu            Suzano   \n",
       "4     187732538   138573955.06     Subiu      CPFL Energia   \n",
       "..          ...            ...       ...               ...   \n",
       "78    533990587  -143635530.57    Desceu  Carrefour Brasil   \n",
       "79     94843047   -20810240.84    Desceu       Casas Bahia   \n",
       "80    853202347 -1807432634.46    Desceu          Localiza   \n",
       "81    525582771   -73557408.06    Desceu               CVC   \n",
       "82    198184909  -102993202.62    Desceu               GOL   \n",
       "\n",
       "                     Segmento  Ano_de_fundacao  \n",
       "0                  Siderurgia               60  \n",
       "1                   Mineração                8  \n",
       "2          Energia / Petróleo               68  \n",
       "3            Papel e Celulose               98  \n",
       "4            Energia Elétrica              108  \n",
       "..                        ...              ...  \n",
       "78     Varejo / Supermercados               46  \n",
       "79  Varejo / Eletrodomésticos               98  \n",
       "80        Locação de Veículos               48  \n",
       "81                    Turismo               49  \n",
       "82           Transporte Aéreo               20  \n",
       "\n",
       "[83 rows x 12 columns]"
      ]
     },
     "execution_count": 17,
     "metadata": {},
     "output_type": "execute_result"
    }
   ],
   "source": [
    "df_principal = df_principal.rename(columns={'Idade (anos)':'Ano_de_fundacao'}).copy()\n",
    "df_principal"
   ]
  },
  {
   "cell_type": "code",
   "execution_count": 18,
   "id": "17c2d256",
   "metadata": {},
   "outputs": [
    {
     "data": {
      "text/html": [
       "<div>\n",
       "<style scoped>\n",
       "    .dataframe tbody tr th:only-of-type {\n",
       "        vertical-align: middle;\n",
       "    }\n",
       "\n",
       "    .dataframe tbody tr th {\n",
       "        vertical-align: top;\n",
       "    }\n",
       "\n",
       "    .dataframe thead th {\n",
       "        text-align: right;\n",
       "    }\n",
       "</style>\n",
       "<table border=\"1\" class=\"dataframe\">\n",
       "  <thead>\n",
       "    <tr style=\"text-align: right;\">\n",
       "      <th></th>\n",
       "      <th>Ativo</th>\n",
       "      <th>Data</th>\n",
       "      <th>valor_final</th>\n",
       "      <th>var_dia_pct</th>\n",
       "      <th>Var_pct</th>\n",
       "      <th>Var_inicial</th>\n",
       "      <th>Qtd_teorica</th>\n",
       "      <th>Variacao_rs</th>\n",
       "      <th>Resultado</th>\n",
       "      <th>Nome</th>\n",
       "      <th>Segmento</th>\n",
       "      <th>Ano_de_fundacao</th>\n",
       "      <th>Cat_idade</th>\n",
       "    </tr>\n",
       "  </thead>\n",
       "  <tbody>\n",
       "    <tr>\n",
       "      <th>0</th>\n",
       "      <td>USIM5</td>\n",
       "      <td>2024-01-26</td>\n",
       "      <td>9.50</td>\n",
       "      <td>5.20</td>\n",
       "      <td>0.05</td>\n",
       "      <td>9.03</td>\n",
       "      <td>515117391</td>\n",
       "      <td>241889725.43</td>\n",
       "      <td>Subiu</td>\n",
       "      <td>Usiminas</td>\n",
       "      <td>Siderurgia</td>\n",
       "      <td>60</td>\n",
       "      <td>Entre 50 e 100</td>\n",
       "    </tr>\n",
       "    <tr>\n",
       "      <th>1</th>\n",
       "      <td>CMIN3</td>\n",
       "      <td>2024-01-26</td>\n",
       "      <td>6.82</td>\n",
       "      <td>2.40</td>\n",
       "      <td>0.02</td>\n",
       "      <td>6.66</td>\n",
       "      <td>1110559345</td>\n",
       "      <td>177515970.30</td>\n",
       "      <td>Subiu</td>\n",
       "      <td>CSN Mineração</td>\n",
       "      <td>Mineração</td>\n",
       "      <td>8</td>\n",
       "      <td>Menos de 50</td>\n",
       "    </tr>\n",
       "    <tr>\n",
       "      <th>2</th>\n",
       "      <td>PETR3</td>\n",
       "      <td>2024-01-26</td>\n",
       "      <td>41.96</td>\n",
       "      <td>2.19</td>\n",
       "      <td>0.02</td>\n",
       "      <td>41.06</td>\n",
       "      <td>-2147483648</td>\n",
       "      <td>2140059393.53</td>\n",
       "      <td>Subiu</td>\n",
       "      <td>Petrobras</td>\n",
       "      <td>Energia / Petróleo</td>\n",
       "      <td>68</td>\n",
       "      <td>Entre 50 e 100</td>\n",
       "    </tr>\n",
       "    <tr>\n",
       "      <th>3</th>\n",
       "      <td>SUZB3</td>\n",
       "      <td>2024-01-26</td>\n",
       "      <td>52.91</td>\n",
       "      <td>2.04</td>\n",
       "      <td>0.02</td>\n",
       "      <td>51.85</td>\n",
       "      <td>683452836</td>\n",
       "      <td>722946282.71</td>\n",
       "      <td>Subiu</td>\n",
       "      <td>Suzano</td>\n",
       "      <td>Papel e Celulose</td>\n",
       "      <td>98</td>\n",
       "      <td>Entre 50 e 100</td>\n",
       "    </tr>\n",
       "    <tr>\n",
       "      <th>4</th>\n",
       "      <td>CPFE3</td>\n",
       "      <td>2024-01-26</td>\n",
       "      <td>37.10</td>\n",
       "      <td>2.03</td>\n",
       "      <td>0.02</td>\n",
       "      <td>36.36</td>\n",
       "      <td>187732538</td>\n",
       "      <td>138573955.06</td>\n",
       "      <td>Subiu</td>\n",
       "      <td>CPFL Energia</td>\n",
       "      <td>Energia Elétrica</td>\n",
       "      <td>108</td>\n",
       "      <td>Mais de 100</td>\n",
       "    </tr>\n",
       "    <tr>\n",
       "      <th>...</th>\n",
       "      <td>...</td>\n",
       "      <td>...</td>\n",
       "      <td>...</td>\n",
       "      <td>...</td>\n",
       "      <td>...</td>\n",
       "      <td>...</td>\n",
       "      <td>...</td>\n",
       "      <td>...</td>\n",
       "      <td>...</td>\n",
       "      <td>...</td>\n",
       "      <td>...</td>\n",
       "      <td>...</td>\n",
       "      <td>...</td>\n",
       "    </tr>\n",
       "    <tr>\n",
       "      <th>78</th>\n",
       "      <td>CRFB3</td>\n",
       "      <td>2024-01-26</td>\n",
       "      <td>10.71</td>\n",
       "      <td>-2.45</td>\n",
       "      <td>-0.02</td>\n",
       "      <td>10.98</td>\n",
       "      <td>533990587</td>\n",
       "      <td>-143635530.57</td>\n",
       "      <td>Desceu</td>\n",
       "      <td>Carrefour Brasil</td>\n",
       "      <td>Varejo / Supermercados</td>\n",
       "      <td>46</td>\n",
       "      <td>Menos de 50</td>\n",
       "    </tr>\n",
       "    <tr>\n",
       "      <th>79</th>\n",
       "      <td>BHIA3</td>\n",
       "      <td>2024-01-26</td>\n",
       "      <td>8.70</td>\n",
       "      <td>-2.46</td>\n",
       "      <td>-0.02</td>\n",
       "      <td>8.92</td>\n",
       "      <td>94843047</td>\n",
       "      <td>-20810240.84</td>\n",
       "      <td>Desceu</td>\n",
       "      <td>Casas Bahia</td>\n",
       "      <td>Varejo / Eletrodomésticos</td>\n",
       "      <td>98</td>\n",
       "      <td>Entre 50 e 100</td>\n",
       "    </tr>\n",
       "    <tr>\n",
       "      <th>80</th>\n",
       "      <td>RENT3</td>\n",
       "      <td>2024-01-26</td>\n",
       "      <td>56.24</td>\n",
       "      <td>-3.63</td>\n",
       "      <td>-0.04</td>\n",
       "      <td>58.36</td>\n",
       "      <td>853202347</td>\n",
       "      <td>-1807432634.46</td>\n",
       "      <td>Desceu</td>\n",
       "      <td>Localiza</td>\n",
       "      <td>Locação de Veículos</td>\n",
       "      <td>48</td>\n",
       "      <td>Menos de 50</td>\n",
       "    </tr>\n",
       "    <tr>\n",
       "      <th>81</th>\n",
       "      <td>CVCB3</td>\n",
       "      <td>2024-01-26</td>\n",
       "      <td>3.07</td>\n",
       "      <td>-4.36</td>\n",
       "      <td>-0.04</td>\n",
       "      <td>3.21</td>\n",
       "      <td>525582771</td>\n",
       "      <td>-73557408.06</td>\n",
       "      <td>Desceu</td>\n",
       "      <td>CVC</td>\n",
       "      <td>Turismo</td>\n",
       "      <td>49</td>\n",
       "      <td>Menos de 50</td>\n",
       "    </tr>\n",
       "    <tr>\n",
       "      <th>82</th>\n",
       "      <td>GOLL4</td>\n",
       "      <td>2024-01-26</td>\n",
       "      <td>5.92</td>\n",
       "      <td>-8.07</td>\n",
       "      <td>-0.08</td>\n",
       "      <td>6.44</td>\n",
       "      <td>198184909</td>\n",
       "      <td>-102993202.62</td>\n",
       "      <td>Desceu</td>\n",
       "      <td>GOL</td>\n",
       "      <td>Transporte Aéreo</td>\n",
       "      <td>20</td>\n",
       "      <td>Menos de 50</td>\n",
       "    </tr>\n",
       "  </tbody>\n",
       "</table>\n",
       "<p>83 rows × 13 columns</p>\n",
       "</div>"
      ],
      "text/plain": [
       "    Ativo       Data  valor_final  var_dia_pct  Var_pct  Var_inicial  \\\n",
       "0   USIM5 2024-01-26         9.50         5.20     0.05         9.03   \n",
       "1   CMIN3 2024-01-26         6.82         2.40     0.02         6.66   \n",
       "2   PETR3 2024-01-26        41.96         2.19     0.02        41.06   \n",
       "3   SUZB3 2024-01-26        52.91         2.04     0.02        51.85   \n",
       "4   CPFE3 2024-01-26        37.10         2.03     0.02        36.36   \n",
       "..    ...        ...          ...          ...      ...          ...   \n",
       "78  CRFB3 2024-01-26        10.71        -2.45    -0.02        10.98   \n",
       "79  BHIA3 2024-01-26         8.70        -2.46    -0.02         8.92   \n",
       "80  RENT3 2024-01-26        56.24        -3.63    -0.04        58.36   \n",
       "81  CVCB3 2024-01-26         3.07        -4.36    -0.04         3.21   \n",
       "82  GOLL4 2024-01-26         5.92        -8.07    -0.08         6.44   \n",
       "\n",
       "    Qtd_teorica    Variacao_rs Resultado              Nome  \\\n",
       "0     515117391   241889725.43     Subiu          Usiminas   \n",
       "1    1110559345   177515970.30     Subiu     CSN Mineração   \n",
       "2   -2147483648  2140059393.53     Subiu         Petrobras   \n",
       "3     683452836   722946282.71     Subiu            Suzano   \n",
       "4     187732538   138573955.06     Subiu      CPFL Energia   \n",
       "..          ...            ...       ...               ...   \n",
       "78    533990587  -143635530.57    Desceu  Carrefour Brasil   \n",
       "79     94843047   -20810240.84    Desceu       Casas Bahia   \n",
       "80    853202347 -1807432634.46    Desceu          Localiza   \n",
       "81    525582771   -73557408.06    Desceu               CVC   \n",
       "82    198184909  -102993202.62    Desceu               GOL   \n",
       "\n",
       "                     Segmento  Ano_de_fundacao       Cat_idade  \n",
       "0                  Siderurgia               60  Entre 50 e 100  \n",
       "1                   Mineração                8     Menos de 50  \n",
       "2          Energia / Petróleo               68  Entre 50 e 100  \n",
       "3            Papel e Celulose               98  Entre 50 e 100  \n",
       "4            Energia Elétrica              108     Mais de 100  \n",
       "..                        ...              ...             ...  \n",
       "78     Varejo / Supermercados               46     Menos de 50  \n",
       "79  Varejo / Eletrodomésticos               98  Entre 50 e 100  \n",
       "80        Locação de Veículos               48     Menos de 50  \n",
       "81                    Turismo               49     Menos de 50  \n",
       "82           Transporte Aéreo               20     Menos de 50  \n",
       "\n",
       "[83 rows x 13 columns]"
      ]
     },
     "execution_count": 18,
     "metadata": {},
     "output_type": "execute_result"
    }
   ],
   "source": [
    "df_principal['Cat_idade'] = df_principal['Ano_de_fundacao'].apply(lambda x: 'Mais de 100' if x > 100 else ('Menos de 50' if x < 50 else 'Entre 50 e 100'))\n",
    "df_principal"
   ]
  },
  {
   "cell_type": "code",
   "execution_count": 19,
   "id": "cf1617e3",
   "metadata": {},
   "outputs": [
    {
     "name": "stdout",
     "output_type": "stream",
     "text": [
      "Maior\tR$ 3,103,136,291.22\n",
      "Menor\tR$ -1,807,432,634.46\n",
      "Media\tR$ 97,162,452.14\n",
      "M. Subiu\tR$ 347,820,930.58\n",
      "M. Desceu\tR$ -186,265,310.46\n"
     ]
    }
   ],
   "source": [
    "maior = df_principal['Variacao_rs'].max()\n",
    "menor = df_principal['Variacao_rs'].min()\n",
    "media = df_principal['Variacao_rs'].mean()\n",
    "media_subiu = df_principal[df_principal['Resultado'] == 'Subiu']['Variacao_rs'].mean()\n",
    "media_desceu = df_principal[df_principal['Resultado'] == 'Desceu']['Variacao_rs'].mean()\n",
    "print(f'Maior\\tR$ {maior:,.2f}')\n",
    "print(f'Menor\\tR$ {menor:,.2f}')\n",
    "print(f'Media\\tR$ {media:,.2f}')\n",
    "print(f'M. Subiu\\tR$ {media_subiu:,.2f}')\n",
    "print(f'M. Desceu\\tR$ {media_desceu:,.2f}')"
   ]
  },
  {
   "cell_type": "code",
   "execution_count": 20,
   "id": "51570a50",
   "metadata": {},
   "outputs": [
    {
     "data": {
      "text/html": [
       "<div>\n",
       "<style scoped>\n",
       "    .dataframe tbody tr th:only-of-type {\n",
       "        vertical-align: middle;\n",
       "    }\n",
       "\n",
       "    .dataframe tbody tr th {\n",
       "        vertical-align: top;\n",
       "    }\n",
       "\n",
       "    .dataframe thead th {\n",
       "        text-align: right;\n",
       "    }\n",
       "</style>\n",
       "<table border=\"1\" class=\"dataframe\">\n",
       "  <thead>\n",
       "    <tr style=\"text-align: right;\">\n",
       "      <th></th>\n",
       "      <th>Ativo</th>\n",
       "      <th>Data</th>\n",
       "      <th>valor_final</th>\n",
       "      <th>var_dia_pct</th>\n",
       "      <th>Var_pct</th>\n",
       "      <th>Var_inicial</th>\n",
       "      <th>Qtd_teorica</th>\n",
       "      <th>Variacao_rs</th>\n",
       "      <th>Resultado</th>\n",
       "      <th>Nome</th>\n",
       "      <th>Segmento</th>\n",
       "      <th>Ano_de_fundacao</th>\n",
       "      <th>Cat_idade</th>\n",
       "    </tr>\n",
       "  </thead>\n",
       "  <tbody>\n",
       "    <tr>\n",
       "      <th>0</th>\n",
       "      <td>USIM5</td>\n",
       "      <td>2024-01-26</td>\n",
       "      <td>9.50</td>\n",
       "      <td>5.20</td>\n",
       "      <td>0.05</td>\n",
       "      <td>9.03</td>\n",
       "      <td>515117391</td>\n",
       "      <td>241889725.43</td>\n",
       "      <td>Subiu</td>\n",
       "      <td>Usiminas</td>\n",
       "      <td>Siderurgia</td>\n",
       "      <td>60</td>\n",
       "      <td>Entre 50 e 100</td>\n",
       "    </tr>\n",
       "    <tr>\n",
       "      <th>1</th>\n",
       "      <td>CMIN3</td>\n",
       "      <td>2024-01-26</td>\n",
       "      <td>6.82</td>\n",
       "      <td>2.40</td>\n",
       "      <td>0.02</td>\n",
       "      <td>6.66</td>\n",
       "      <td>1110559345</td>\n",
       "      <td>177515970.30</td>\n",
       "      <td>Subiu</td>\n",
       "      <td>CSN Mineração</td>\n",
       "      <td>Mineração</td>\n",
       "      <td>8</td>\n",
       "      <td>Menos de 50</td>\n",
       "    </tr>\n",
       "    <tr>\n",
       "      <th>2</th>\n",
       "      <td>PETR3</td>\n",
       "      <td>2024-01-26</td>\n",
       "      <td>41.96</td>\n",
       "      <td>2.19</td>\n",
       "      <td>0.02</td>\n",
       "      <td>41.06</td>\n",
       "      <td>-2147483648</td>\n",
       "      <td>2140059393.53</td>\n",
       "      <td>Subiu</td>\n",
       "      <td>Petrobras</td>\n",
       "      <td>Energia / Petróleo</td>\n",
       "      <td>68</td>\n",
       "      <td>Entre 50 e 100</td>\n",
       "    </tr>\n",
       "    <tr>\n",
       "      <th>3</th>\n",
       "      <td>SUZB3</td>\n",
       "      <td>2024-01-26</td>\n",
       "      <td>52.91</td>\n",
       "      <td>2.04</td>\n",
       "      <td>0.02</td>\n",
       "      <td>51.85</td>\n",
       "      <td>683452836</td>\n",
       "      <td>722946282.71</td>\n",
       "      <td>Subiu</td>\n",
       "      <td>Suzano</td>\n",
       "      <td>Papel e Celulose</td>\n",
       "      <td>98</td>\n",
       "      <td>Entre 50 e 100</td>\n",
       "    </tr>\n",
       "    <tr>\n",
       "      <th>4</th>\n",
       "      <td>CPFE3</td>\n",
       "      <td>2024-01-26</td>\n",
       "      <td>37.10</td>\n",
       "      <td>2.03</td>\n",
       "      <td>0.02</td>\n",
       "      <td>36.36</td>\n",
       "      <td>187732538</td>\n",
       "      <td>138573955.06</td>\n",
       "      <td>Subiu</td>\n",
       "      <td>CPFL Energia</td>\n",
       "      <td>Energia Elétrica</td>\n",
       "      <td>108</td>\n",
       "      <td>Mais de 100</td>\n",
       "    </tr>\n",
       "    <tr>\n",
       "      <th>5</th>\n",
       "      <td>PRIO3</td>\n",
       "      <td>2024-01-26</td>\n",
       "      <td>45.69</td>\n",
       "      <td>1.98</td>\n",
       "      <td>0.02</td>\n",
       "      <td>44.80</td>\n",
       "      <td>800010734</td>\n",
       "      <td>709687498.18</td>\n",
       "      <td>Subiu</td>\n",
       "      <td>PetroRio</td>\n",
       "      <td>Petróleo</td>\n",
       "      <td>7</td>\n",
       "      <td>Menos de 50</td>\n",
       "    </tr>\n",
       "    <tr>\n",
       "      <th>6</th>\n",
       "      <td>PETR4</td>\n",
       "      <td>2024-01-26</td>\n",
       "      <td>39.96</td>\n",
       "      <td>1.73</td>\n",
       "      <td>0.02</td>\n",
       "      <td>39.28</td>\n",
       "      <td>-2147483648</td>\n",
       "      <td>3103136291.22</td>\n",
       "      <td>Subiu</td>\n",
       "      <td>Petrobras</td>\n",
       "      <td>Energia / Petróleo</td>\n",
       "      <td>68</td>\n",
       "      <td>Entre 50 e 100</td>\n",
       "    </tr>\n",
       "    <tr>\n",
       "      <th>8</th>\n",
       "      <td>MULT3</td>\n",
       "      <td>2024-01-26</td>\n",
       "      <td>28.19</td>\n",
       "      <td>1.58</td>\n",
       "      <td>0.02</td>\n",
       "      <td>27.75</td>\n",
       "      <td>268505432</td>\n",
       "      <td>117732680.08</td>\n",
       "      <td>Subiu</td>\n",
       "      <td>Multiplan</td>\n",
       "      <td>Shopping Centers</td>\n",
       "      <td>47</td>\n",
       "      <td>Menos de 50</td>\n",
       "    </tr>\n",
       "    <tr>\n",
       "      <th>9</th>\n",
       "      <td>ITUB4</td>\n",
       "      <td>2024-01-26</td>\n",
       "      <td>32.81</td>\n",
       "      <td>1.48</td>\n",
       "      <td>0.01</td>\n",
       "      <td>32.33</td>\n",
       "      <td>-2147483648</td>\n",
       "      <td>2297591984.33</td>\n",
       "      <td>Subiu</td>\n",
       "      <td>Itaú Unibanco</td>\n",
       "      <td>Serviços Financeiros</td>\n",
       "      <td>97</td>\n",
       "      <td>Entre 50 e 100</td>\n",
       "    </tr>\n",
       "    <tr>\n",
       "      <th>10</th>\n",
       "      <td>RDOR3</td>\n",
       "      <td>2024-01-26</td>\n",
       "      <td>27.56</td>\n",
       "      <td>1.43</td>\n",
       "      <td>0.01</td>\n",
       "      <td>27.17</td>\n",
       "      <td>1168230366</td>\n",
       "      <td>453917907.01</td>\n",
       "      <td>Subiu</td>\n",
       "      <td>Rede DOr</td>\n",
       "      <td>Saúde</td>\n",
       "      <td>11</td>\n",
       "      <td>Menos de 50</td>\n",
       "    </tr>\n",
       "    <tr>\n",
       "      <th>11</th>\n",
       "      <td>BRKM5</td>\n",
       "      <td>2024-01-26</td>\n",
       "      <td>18.55</td>\n",
       "      <td>1.42</td>\n",
       "      <td>0.01</td>\n",
       "      <td>18.29</td>\n",
       "      <td>265877867</td>\n",
       "      <td>69054317.64</td>\n",
       "      <td>Subiu</td>\n",
       "      <td>Braskem</td>\n",
       "      <td>Química</td>\n",
       "      <td>19</td>\n",
       "      <td>Menos de 50</td>\n",
       "    </tr>\n",
       "    <tr>\n",
       "      <th>12</th>\n",
       "      <td>AZUL4</td>\n",
       "      <td>2024-01-26</td>\n",
       "      <td>14.27</td>\n",
       "      <td>1.42</td>\n",
       "      <td>0.01</td>\n",
       "      <td>14.07</td>\n",
       "      <td>327593725</td>\n",
       "      <td>65452205.55</td>\n",
       "      <td>Subiu</td>\n",
       "      <td>Azul</td>\n",
       "      <td>Transporte Aéreo</td>\n",
       "      <td>13</td>\n",
       "      <td>Menos de 50</td>\n",
       "    </tr>\n",
       "    <tr>\n",
       "      <th>13</th>\n",
       "      <td>RRRP3</td>\n",
       "      <td>2024-01-26</td>\n",
       "      <td>28.75</td>\n",
       "      <td>1.41</td>\n",
       "      <td>0.01</td>\n",
       "      <td>28.35</td>\n",
       "      <td>235665566</td>\n",
       "      <td>94204643.35</td>\n",
       "      <td>Subiu</td>\n",
       "      <td>3R Petroleum</td>\n",
       "      <td>Petróleo</td>\n",
       "      <td>4</td>\n",
       "      <td>Menos de 50</td>\n",
       "    </tr>\n",
       "    <tr>\n",
       "      <th>14</th>\n",
       "      <td>EQTL3</td>\n",
       "      <td>2024-01-26</td>\n",
       "      <td>35.32</td>\n",
       "      <td>1.34</td>\n",
       "      <td>0.01</td>\n",
       "      <td>34.85</td>\n",
       "      <td>1095587251</td>\n",
       "      <td>511671895.45</td>\n",
       "      <td>Subiu</td>\n",
       "      <td>Equatorial Energia</td>\n",
       "      <td>Energia Elétrica</td>\n",
       "      <td>23</td>\n",
       "      <td>Menos de 50</td>\n",
       "    </tr>\n",
       "    <tr>\n",
       "      <th>15</th>\n",
       "      <td>CSNA3</td>\n",
       "      <td>2024-01-26</td>\n",
       "      <td>18.16</td>\n",
       "      <td>1.33</td>\n",
       "      <td>0.01</td>\n",
       "      <td>17.92</td>\n",
       "      <td>600865451</td>\n",
       "      <td>143220991.46</td>\n",
       "      <td>Subiu</td>\n",
       "      <td>Siderúrgica Nacional</td>\n",
       "      <td>Siderurgia</td>\n",
       "      <td>80</td>\n",
       "      <td>Entre 50 e 100</td>\n",
       "    </tr>\n",
       "    <tr>\n",
       "      <th>16</th>\n",
       "      <td>YDUQ3</td>\n",
       "      <td>2024-01-26</td>\n",
       "      <td>19.77</td>\n",
       "      <td>1.28</td>\n",
       "      <td>0.01</td>\n",
       "      <td>19.52</td>\n",
       "      <td>289347914</td>\n",
       "      <td>72295838.99</td>\n",
       "      <td>Subiu</td>\n",
       "      <td>YDUQS</td>\n",
       "      <td>Educação</td>\n",
       "      <td>53</td>\n",
       "      <td>Entre 50 e 100</td>\n",
       "    </tr>\n",
       "    <tr>\n",
       "      <th>17</th>\n",
       "      <td>UGPA3</td>\n",
       "      <td>2024-01-26</td>\n",
       "      <td>28.31</td>\n",
       "      <td>1.28</td>\n",
       "      <td>0.01</td>\n",
       "      <td>27.95</td>\n",
       "      <td>1086411192</td>\n",
       "      <td>388705223.96</td>\n",
       "      <td>Subiu</td>\n",
       "      <td>Ultrapar</td>\n",
       "      <td>Combustíveis</td>\n",
       "      <td>84</td>\n",
       "      <td>Entre 50 e 100</td>\n",
       "    </tr>\n",
       "    <tr>\n",
       "      <th>18</th>\n",
       "      <td>MRVE3</td>\n",
       "      <td>2024-01-26</td>\n",
       "      <td>8.08</td>\n",
       "      <td>1.25</td>\n",
       "      <td>0.01</td>\n",
       "      <td>7.98</td>\n",
       "      <td>376187582</td>\n",
       "      <td>37525872.38</td>\n",
       "      <td>Subiu</td>\n",
       "      <td>MRV</td>\n",
       "      <td>Construção Civil</td>\n",
       "      <td>42</td>\n",
       "      <td>Menos de 50</td>\n",
       "    </tr>\n",
       "    <tr>\n",
       "      <th>19</th>\n",
       "      <td>ARZZ3</td>\n",
       "      <td>2024-01-26</td>\n",
       "      <td>57.91</td>\n",
       "      <td>1.15</td>\n",
       "      <td>0.01</td>\n",
       "      <td>57.25</td>\n",
       "      <td>62305891</td>\n",
       "      <td>41021792.09</td>\n",
       "      <td>Subiu</td>\n",
       "      <td>Arezzo</td>\n",
       "      <td>Moda / Varejo</td>\n",
       "      <td>50</td>\n",
       "      <td>Entre 50 e 100</td>\n",
       "    </tr>\n",
       "    <tr>\n",
       "      <th>20</th>\n",
       "      <td>BBDC4</td>\n",
       "      <td>2024-01-26</td>\n",
       "      <td>15.52</td>\n",
       "      <td>1.04</td>\n",
       "      <td>0.01</td>\n",
       "      <td>15.36</td>\n",
       "      <td>-2147483648</td>\n",
       "      <td>822148336.41</td>\n",
       "      <td>Subiu</td>\n",
       "      <td>Banco Bradesco</td>\n",
       "      <td>Serviços Financeiros</td>\n",
       "      <td>79</td>\n",
       "      <td>Entre 50 e 100</td>\n",
       "    </tr>\n",
       "    <tr>\n",
       "      <th>21</th>\n",
       "      <td>BEEF3</td>\n",
       "      <td>2024-01-26</td>\n",
       "      <td>7.19</td>\n",
       "      <td>0.98</td>\n",
       "      <td>0.01</td>\n",
       "      <td>7.12</td>\n",
       "      <td>261036182</td>\n",
       "      <td>18214628.10</td>\n",
       "      <td>Subiu</td>\n",
       "      <td>Minerva</td>\n",
       "      <td>Alimentos / Agronegócio</td>\n",
       "      <td>30</td>\n",
       "      <td>Menos de 50</td>\n",
       "    </tr>\n",
       "    <tr>\n",
       "      <th>22</th>\n",
       "      <td>PCAR3</td>\n",
       "      <td>2024-01-26</td>\n",
       "      <td>4.14</td>\n",
       "      <td>0.97</td>\n",
       "      <td>0.01</td>\n",
       "      <td>4.10</td>\n",
       "      <td>159430826</td>\n",
       "      <td>6340916.22</td>\n",
       "      <td>Subiu</td>\n",
       "      <td>Grupo Pão de Açúcar</td>\n",
       "      <td>Varejo</td>\n",
       "      <td>73</td>\n",
       "      <td>Entre 50 e 100</td>\n",
       "    </tr>\n",
       "    <tr>\n",
       "      <th>23</th>\n",
       "      <td>BRFS3</td>\n",
       "      <td>2024-01-26</td>\n",
       "      <td>14.61</td>\n",
       "      <td>0.96</td>\n",
       "      <td>0.01</td>\n",
       "      <td>14.47</td>\n",
       "      <td>1677525446</td>\n",
       "      <td>233045769.57</td>\n",
       "      <td>Subiu</td>\n",
       "      <td>BRF</td>\n",
       "      <td>Alimentos / Agronegócio</td>\n",
       "      <td>84</td>\n",
       "      <td>Entre 50 e 100</td>\n",
       "    </tr>\n",
       "    <tr>\n",
       "      <th>24</th>\n",
       "      <td>VIVT3</td>\n",
       "      <td>2024-01-26</td>\n",
       "      <td>51.20</td>\n",
       "      <td>0.88</td>\n",
       "      <td>0.01</td>\n",
       "      <td>50.75</td>\n",
       "      <td>423091712</td>\n",
       "      <td>188965307.06</td>\n",
       "      <td>Subiu</td>\n",
       "      <td>Vivo</td>\n",
       "      <td>Telecomunicações</td>\n",
       "      <td>23</td>\n",
       "      <td>Menos de 50</td>\n",
       "    </tr>\n",
       "    <tr>\n",
       "      <th>25</th>\n",
       "      <td>RAIL3</td>\n",
       "      <td>2024-01-26</td>\n",
       "      <td>22.64</td>\n",
       "      <td>0.84</td>\n",
       "      <td>0.01</td>\n",
       "      <td>22.45</td>\n",
       "      <td>1218352541</td>\n",
       "      <td>229771333.63</td>\n",
       "      <td>Subiu</td>\n",
       "      <td>Rumo</td>\n",
       "      <td>Logística / Transporte</td>\n",
       "      <td>6</td>\n",
       "      <td>Menos de 50</td>\n",
       "    </tr>\n",
       "    <tr>\n",
       "      <th>26</th>\n",
       "      <td>CIEL3</td>\n",
       "      <td>2024-01-26</td>\n",
       "      <td>4.90</td>\n",
       "      <td>0.82</td>\n",
       "      <td>0.01</td>\n",
       "      <td>4.86</td>\n",
       "      <td>1095462329</td>\n",
       "      <td>43657683.38</td>\n",
       "      <td>Subiu</td>\n",
       "      <td>Cielo</td>\n",
       "      <td>Meios de Pagamento</td>\n",
       "      <td>23</td>\n",
       "      <td>Menos de 50</td>\n",
       "    </tr>\n",
       "    <tr>\n",
       "      <th>27</th>\n",
       "      <td>DXCO3</td>\n",
       "      <td>2024-01-26</td>\n",
       "      <td>7.81</td>\n",
       "      <td>0.77</td>\n",
       "      <td>0.01</td>\n",
       "      <td>7.75</td>\n",
       "      <td>302768240</td>\n",
       "      <td>18068446.61</td>\n",
       "      <td>Subiu</td>\n",
       "      <td>Dexco</td>\n",
       "      <td>Energia Elétrica</td>\n",
       "      <td>3</td>\n",
       "      <td>Menos de 50</td>\n",
       "    </tr>\n",
       "    <tr>\n",
       "      <th>28</th>\n",
       "      <td>TIMS3</td>\n",
       "      <td>2024-01-26</td>\n",
       "      <td>17.52</td>\n",
       "      <td>0.74</td>\n",
       "      <td>0.01</td>\n",
       "      <td>17.39</td>\n",
       "      <td>807896814</td>\n",
       "      <td>103972807.37</td>\n",
       "      <td>Subiu</td>\n",
       "      <td>TIM</td>\n",
       "      <td>Telecomunicações</td>\n",
       "      <td>25</td>\n",
       "      <td>Menos de 50</td>\n",
       "    </tr>\n",
       "    <tr>\n",
       "      <th>29</th>\n",
       "      <td>BRAP4</td>\n",
       "      <td>2024-01-26</td>\n",
       "      <td>23.22</td>\n",
       "      <td>0.73</td>\n",
       "      <td>0.01</td>\n",
       "      <td>23.05</td>\n",
       "      <td>251003438</td>\n",
       "      <td>42238249.54</td>\n",
       "      <td>Subiu</td>\n",
       "      <td>Bradespar</td>\n",
       "      <td>Investimentos</td>\n",
       "      <td>20</td>\n",
       "      <td>Menos de 50</td>\n",
       "    </tr>\n",
       "    <tr>\n",
       "      <th>30</th>\n",
       "      <td>LWSA3</td>\n",
       "      <td>2024-01-26</td>\n",
       "      <td>5.55</td>\n",
       "      <td>0.72</td>\n",
       "      <td>0.01</td>\n",
       "      <td>5.51</td>\n",
       "      <td>393173139</td>\n",
       "      <td>15598886.65</td>\n",
       "      <td>Subiu</td>\n",
       "      <td>Locaweb</td>\n",
       "      <td>Tecnologia / Internet</td>\n",
       "      <td>24</td>\n",
       "      <td>Menos de 50</td>\n",
       "    </tr>\n",
       "    <tr>\n",
       "      <th>31</th>\n",
       "      <td>RECV3</td>\n",
       "      <td>2024-01-26</td>\n",
       "      <td>23.83</td>\n",
       "      <td>0.71</td>\n",
       "      <td>0.01</td>\n",
       "      <td>23.66</td>\n",
       "      <td>275005663</td>\n",
       "      <td>46201006.00</td>\n",
       "      <td>Subiu</td>\n",
       "      <td>PetroRecôncavo</td>\n",
       "      <td>Petróleo</td>\n",
       "      <td>7</td>\n",
       "      <td>Menos de 50</td>\n",
       "    </tr>\n",
       "    <tr>\n",
       "      <th>32</th>\n",
       "      <td>ITSA4</td>\n",
       "      <td>2024-01-26</td>\n",
       "      <td>10.01</td>\n",
       "      <td>0.70</td>\n",
       "      <td>0.01</td>\n",
       "      <td>9.94</td>\n",
       "      <td>-2147483648</td>\n",
       "      <td>373853994.88</td>\n",
       "      <td>Subiu</td>\n",
       "      <td>Itaúsa</td>\n",
       "      <td>Investimentos</td>\n",
       "      <td>56</td>\n",
       "      <td>Entre 50 e 100</td>\n",
       "    </tr>\n",
       "    <tr>\n",
       "      <th>33</th>\n",
       "      <td>BBAS3</td>\n",
       "      <td>2024-01-26</td>\n",
       "      <td>56.97</td>\n",
       "      <td>0.68</td>\n",
       "      <td>0.01</td>\n",
       "      <td>56.59</td>\n",
       "      <td>1420949112</td>\n",
       "      <td>546752087.99</td>\n",
       "      <td>Subiu</td>\n",
       "      <td>Banco do Brasil</td>\n",
       "      <td>Serviços Financeiros</td>\n",
       "      <td>213</td>\n",
       "      <td>Mais de 100</td>\n",
       "    </tr>\n",
       "    <tr>\n",
       "      <th>34</th>\n",
       "      <td>RADL3</td>\n",
       "      <td>2024-01-26</td>\n",
       "      <td>26.16</td>\n",
       "      <td>0.61</td>\n",
       "      <td>0.01</td>\n",
       "      <td>26.00</td>\n",
       "      <td>1275798515</td>\n",
       "      <td>202352473.74</td>\n",
       "      <td>Subiu</td>\n",
       "      <td>RaiaDrogasil</td>\n",
       "      <td>Saúde / Varejo</td>\n",
       "      <td>118</td>\n",
       "      <td>Mais de 100</td>\n",
       "    </tr>\n",
       "    <tr>\n",
       "      <th>35</th>\n",
       "      <td>GOAU4</td>\n",
       "      <td>2024-01-26</td>\n",
       "      <td>10.08</td>\n",
       "      <td>0.59</td>\n",
       "      <td>0.01</td>\n",
       "      <td>10.02</td>\n",
       "      <td>660411219</td>\n",
       "      <td>39045606.94</td>\n",
       "      <td>Subiu</td>\n",
       "      <td>Metalúrgica Gerdau</td>\n",
       "      <td>Siderurgia</td>\n",
       "      <td>120</td>\n",
       "      <td>Mais de 100</td>\n",
       "    </tr>\n",
       "    <tr>\n",
       "      <th>36</th>\n",
       "      <td>CSAN3</td>\n",
       "      <td>2024-01-26</td>\n",
       "      <td>18.57</td>\n",
       "      <td>0.59</td>\n",
       "      <td>0.01</td>\n",
       "      <td>18.46</td>\n",
       "      <td>1168097881</td>\n",
       "      <td>127229653.18</td>\n",
       "      <td>Subiu</td>\n",
       "      <td>Cosan</td>\n",
       "      <td>Energia / Agronegócio</td>\n",
       "      <td>24</td>\n",
       "      <td>Menos de 50</td>\n",
       "    </tr>\n",
       "    <tr>\n",
       "      <th>37</th>\n",
       "      <td>JBSS3</td>\n",
       "      <td>2024-01-26</td>\n",
       "      <td>24.34</td>\n",
       "      <td>0.57</td>\n",
       "      <td>0.01</td>\n",
       "      <td>24.20</td>\n",
       "      <td>1134986472</td>\n",
       "      <td>156573285.43</td>\n",
       "      <td>Subiu</td>\n",
       "      <td>JBS</td>\n",
       "      <td>Alimentos / Agronegócio</td>\n",
       "      <td>68</td>\n",
       "      <td>Entre 50 e 100</td>\n",
       "    </tr>\n",
       "    <tr>\n",
       "      <th>38</th>\n",
       "      <td>MGLU3</td>\n",
       "      <td>2024-01-26</td>\n",
       "      <td>2.08</td>\n",
       "      <td>0.48</td>\n",
       "      <td>0.00</td>\n",
       "      <td>2.07</td>\n",
       "      <td>-2147483648</td>\n",
       "      <td>28493619.27</td>\n",
       "      <td>Subiu</td>\n",
       "      <td>Magazine Luiza</td>\n",
       "      <td>Varejo / Tecnologia</td>\n",
       "      <td>64</td>\n",
       "      <td>Entre 50 e 100</td>\n",
       "    </tr>\n",
       "    <tr>\n",
       "      <th>39</th>\n",
       "      <td>BBDC3</td>\n",
       "      <td>2024-01-26</td>\n",
       "      <td>13.75</td>\n",
       "      <td>0.36</td>\n",
       "      <td>0.00</td>\n",
       "      <td>13.70</td>\n",
       "      <td>1500728902</td>\n",
       "      <td>74019610.05</td>\n",
       "      <td>Subiu</td>\n",
       "      <td>Banco Bradesco</td>\n",
       "      <td>Serviços Financeiros</td>\n",
       "      <td>79</td>\n",
       "      <td>Entre 50 e 100</td>\n",
       "    </tr>\n",
       "    <tr>\n",
       "      <th>40</th>\n",
       "      <td>GGBR4</td>\n",
       "      <td>2024-01-26</td>\n",
       "      <td>21.84</td>\n",
       "      <td>0.27</td>\n",
       "      <td>0.00</td>\n",
       "      <td>21.78</td>\n",
       "      <td>1118525506</td>\n",
       "      <td>65779607.10</td>\n",
       "      <td>Subiu</td>\n",
       "      <td>Gerdau</td>\n",
       "      <td>Siderurgia</td>\n",
       "      <td>120</td>\n",
       "      <td>Mais de 100</td>\n",
       "    </tr>\n",
       "    <tr>\n",
       "      <th>41</th>\n",
       "      <td>RAIZ4</td>\n",
       "      <td>2024-01-26</td>\n",
       "      <td>3.74</td>\n",
       "      <td>0.26</td>\n",
       "      <td>0.00</td>\n",
       "      <td>3.73</td>\n",
       "      <td>1193047233</td>\n",
       "      <td>11571106.42</td>\n",
       "      <td>Subiu</td>\n",
       "      <td>Raízen</td>\n",
       "      <td>Energia / Agronegócio</td>\n",
       "      <td>10</td>\n",
       "      <td>Menos de 50</td>\n",
       "    </tr>\n",
       "    <tr>\n",
       "      <th>42</th>\n",
       "      <td>CPLE6</td>\n",
       "      <td>2024-01-26</td>\n",
       "      <td>10.07</td>\n",
       "      <td>0.19</td>\n",
       "      <td>0.00</td>\n",
       "      <td>10.05</td>\n",
       "      <td>1679335290</td>\n",
       "      <td>32069789.50</td>\n",
       "      <td>Subiu</td>\n",
       "      <td>Copel</td>\n",
       "      <td>Energia Elétrica</td>\n",
       "      <td>66</td>\n",
       "      <td>Entre 50 e 100</td>\n",
       "    </tr>\n",
       "    <tr>\n",
       "      <th>43</th>\n",
       "      <td>VAMO3</td>\n",
       "      <td>2024-01-26</td>\n",
       "      <td>8.18</td>\n",
       "      <td>0.12</td>\n",
       "      <td>0.00</td>\n",
       "      <td>8.17</td>\n",
       "      <td>421383330</td>\n",
       "      <td>4131341.16</td>\n",
       "      <td>Subiu</td>\n",
       "      <td>Grupo Vamos</td>\n",
       "      <td>Logística / Transporte</td>\n",
       "      <td>5</td>\n",
       "      <td>Menos de 50</td>\n",
       "    </tr>\n",
       "  </tbody>\n",
       "</table>\n",
       "</div>"
      ],
      "text/plain": [
       "    Ativo       Data  valor_final  var_dia_pct  Var_pct  Var_inicial  \\\n",
       "0   USIM5 2024-01-26         9.50         5.20     0.05         9.03   \n",
       "1   CMIN3 2024-01-26         6.82         2.40     0.02         6.66   \n",
       "2   PETR3 2024-01-26        41.96         2.19     0.02        41.06   \n",
       "3   SUZB3 2024-01-26        52.91         2.04     0.02        51.85   \n",
       "4   CPFE3 2024-01-26        37.10         2.03     0.02        36.36   \n",
       "5   PRIO3 2024-01-26        45.69         1.98     0.02        44.80   \n",
       "6   PETR4 2024-01-26        39.96         1.73     0.02        39.28   \n",
       "8   MULT3 2024-01-26        28.19         1.58     0.02        27.75   \n",
       "9   ITUB4 2024-01-26        32.81         1.48     0.01        32.33   \n",
       "10  RDOR3 2024-01-26        27.56         1.43     0.01        27.17   \n",
       "11  BRKM5 2024-01-26        18.55         1.42     0.01        18.29   \n",
       "12  AZUL4 2024-01-26        14.27         1.42     0.01        14.07   \n",
       "13  RRRP3 2024-01-26        28.75         1.41     0.01        28.35   \n",
       "14  EQTL3 2024-01-26        35.32         1.34     0.01        34.85   \n",
       "15  CSNA3 2024-01-26        18.16         1.33     0.01        17.92   \n",
       "16  YDUQ3 2024-01-26        19.77         1.28     0.01        19.52   \n",
       "17  UGPA3 2024-01-26        28.31         1.28     0.01        27.95   \n",
       "18  MRVE3 2024-01-26         8.08         1.25     0.01         7.98   \n",
       "19  ARZZ3 2024-01-26        57.91         1.15     0.01        57.25   \n",
       "20  BBDC4 2024-01-26        15.52         1.04     0.01        15.36   \n",
       "21  BEEF3 2024-01-26         7.19         0.98     0.01         7.12   \n",
       "22  PCAR3 2024-01-26         4.14         0.97     0.01         4.10   \n",
       "23  BRFS3 2024-01-26        14.61         0.96     0.01        14.47   \n",
       "24  VIVT3 2024-01-26        51.20         0.88     0.01        50.75   \n",
       "25  RAIL3 2024-01-26        22.64         0.84     0.01        22.45   \n",
       "26  CIEL3 2024-01-26         4.90         0.82     0.01         4.86   \n",
       "27  DXCO3 2024-01-26         7.81         0.77     0.01         7.75   \n",
       "28  TIMS3 2024-01-26        17.52         0.74     0.01        17.39   \n",
       "29  BRAP4 2024-01-26        23.22         0.73     0.01        23.05   \n",
       "30  LWSA3 2024-01-26         5.55         0.72     0.01         5.51   \n",
       "31  RECV3 2024-01-26        23.83         0.71     0.01        23.66   \n",
       "32  ITSA4 2024-01-26        10.01         0.70     0.01         9.94   \n",
       "33  BBAS3 2024-01-26        56.97         0.68     0.01        56.59   \n",
       "34  RADL3 2024-01-26        26.16         0.61     0.01        26.00   \n",
       "35  GOAU4 2024-01-26        10.08         0.59     0.01        10.02   \n",
       "36  CSAN3 2024-01-26        18.57         0.59     0.01        18.46   \n",
       "37  JBSS3 2024-01-26        24.34         0.57     0.01        24.20   \n",
       "38  MGLU3 2024-01-26         2.08         0.48     0.00         2.07   \n",
       "39  BBDC3 2024-01-26        13.75         0.36     0.00        13.70   \n",
       "40  GGBR4 2024-01-26        21.84         0.27     0.00        21.78   \n",
       "41  RAIZ4 2024-01-26         3.74         0.26     0.00         3.73   \n",
       "42  CPLE6 2024-01-26        10.07         0.19     0.00        10.05   \n",
       "43  VAMO3 2024-01-26         8.18         0.12     0.00         8.17   \n",
       "\n",
       "    Qtd_teorica   Variacao_rs Resultado                  Nome  \\\n",
       "0     515117391  241889725.43     Subiu              Usiminas   \n",
       "1    1110559345  177515970.30     Subiu         CSN Mineração   \n",
       "2   -2147483648 2140059393.53     Subiu             Petrobras   \n",
       "3     683452836  722946282.71     Subiu                Suzano   \n",
       "4     187732538  138573955.06     Subiu          CPFL Energia   \n",
       "5     800010734  709687498.18     Subiu              PetroRio   \n",
       "6   -2147483648 3103136291.22     Subiu             Petrobras   \n",
       "8     268505432  117732680.08     Subiu             Multiplan   \n",
       "9   -2147483648 2297591984.33     Subiu         Itaú Unibanco   \n",
       "10   1168230366  453917907.01     Subiu              Rede DOr   \n",
       "11    265877867   69054317.64     Subiu               Braskem   \n",
       "12    327593725   65452205.55     Subiu                  Azul   \n",
       "13    235665566   94204643.35     Subiu          3R Petroleum   \n",
       "14   1095587251  511671895.45     Subiu    Equatorial Energia   \n",
       "15    600865451  143220991.46     Subiu  Siderúrgica Nacional   \n",
       "16    289347914   72295838.99     Subiu                 YDUQS   \n",
       "17   1086411192  388705223.96     Subiu              Ultrapar   \n",
       "18    376187582   37525872.38     Subiu                   MRV   \n",
       "19     62305891   41021792.09     Subiu                Arezzo   \n",
       "20  -2147483648  822148336.41     Subiu        Banco Bradesco   \n",
       "21    261036182   18214628.10     Subiu               Minerva   \n",
       "22    159430826    6340916.22     Subiu   Grupo Pão de Açúcar   \n",
       "23   1677525446  233045769.57     Subiu                   BRF   \n",
       "24    423091712  188965307.06     Subiu                  Vivo   \n",
       "25   1218352541  229771333.63     Subiu                  Rumo   \n",
       "26   1095462329   43657683.38     Subiu                 Cielo   \n",
       "27    302768240   18068446.61     Subiu                 Dexco   \n",
       "28    807896814  103972807.37     Subiu                   TIM   \n",
       "29    251003438   42238249.54     Subiu             Bradespar   \n",
       "30    393173139   15598886.65     Subiu               Locaweb   \n",
       "31    275005663   46201006.00     Subiu        PetroRecôncavo   \n",
       "32  -2147483648  373853994.88     Subiu                Itaúsa   \n",
       "33   1420949112  546752087.99     Subiu       Banco do Brasil   \n",
       "34   1275798515  202352473.74     Subiu          RaiaDrogasil   \n",
       "35    660411219   39045606.94     Subiu    Metalúrgica Gerdau   \n",
       "36   1168097881  127229653.18     Subiu                 Cosan   \n",
       "37   1134986472  156573285.43     Subiu                   JBS   \n",
       "38  -2147483648   28493619.27     Subiu        Magazine Luiza   \n",
       "39   1500728902   74019610.05     Subiu        Banco Bradesco   \n",
       "40   1118525506   65779607.10     Subiu                Gerdau   \n",
       "41   1193047233   11571106.42     Subiu                Raízen   \n",
       "42   1679335290   32069789.50     Subiu                 Copel   \n",
       "43    421383330    4131341.16     Subiu           Grupo Vamos   \n",
       "\n",
       "                   Segmento  Ano_de_fundacao       Cat_idade  \n",
       "0                Siderurgia               60  Entre 50 e 100  \n",
       "1                 Mineração                8     Menos de 50  \n",
       "2        Energia / Petróleo               68  Entre 50 e 100  \n",
       "3          Papel e Celulose               98  Entre 50 e 100  \n",
       "4          Energia Elétrica              108     Mais de 100  \n",
       "5                  Petróleo                7     Menos de 50  \n",
       "6        Energia / Petróleo               68  Entre 50 e 100  \n",
       "8          Shopping Centers               47     Menos de 50  \n",
       "9      Serviços Financeiros               97  Entre 50 e 100  \n",
       "10                    Saúde               11     Menos de 50  \n",
       "11                  Química               19     Menos de 50  \n",
       "12         Transporte Aéreo               13     Menos de 50  \n",
       "13                 Petróleo                4     Menos de 50  \n",
       "14         Energia Elétrica               23     Menos de 50  \n",
       "15               Siderurgia               80  Entre 50 e 100  \n",
       "16                 Educação               53  Entre 50 e 100  \n",
       "17             Combustíveis               84  Entre 50 e 100  \n",
       "18         Construção Civil               42     Menos de 50  \n",
       "19            Moda / Varejo               50  Entre 50 e 100  \n",
       "20     Serviços Financeiros               79  Entre 50 e 100  \n",
       "21  Alimentos / Agronegócio               30     Menos de 50  \n",
       "22                   Varejo               73  Entre 50 e 100  \n",
       "23  Alimentos / Agronegócio               84  Entre 50 e 100  \n",
       "24         Telecomunicações               23     Menos de 50  \n",
       "25   Logística / Transporte                6     Menos de 50  \n",
       "26       Meios de Pagamento               23     Menos de 50  \n",
       "27         Energia Elétrica                3     Menos de 50  \n",
       "28         Telecomunicações               25     Menos de 50  \n",
       "29            Investimentos               20     Menos de 50  \n",
       "30    Tecnologia / Internet               24     Menos de 50  \n",
       "31                 Petróleo                7     Menos de 50  \n",
       "32            Investimentos               56  Entre 50 e 100  \n",
       "33     Serviços Financeiros              213     Mais de 100  \n",
       "34           Saúde / Varejo              118     Mais de 100  \n",
       "35               Siderurgia              120     Mais de 100  \n",
       "36    Energia / Agronegócio               24     Menos de 50  \n",
       "37  Alimentos / Agronegócio               68  Entre 50 e 100  \n",
       "38      Varejo / Tecnologia               64  Entre 50 e 100  \n",
       "39     Serviços Financeiros               79  Entre 50 e 100  \n",
       "40               Siderurgia              120     Mais de 100  \n",
       "41    Energia / Agronegócio               10     Menos de 50  \n",
       "42         Energia Elétrica               66  Entre 50 e 100  \n",
       "43   Logística / Transporte                5     Menos de 50  "
      ]
     },
     "execution_count": 20,
     "metadata": {},
     "output_type": "execute_result"
    }
   ],
   "source": [
    "df_principal_subiu = df_principal[df_principal['Resultado'] == 'Subiu']\n",
    "df_principal_subiu"
   ]
  },
  {
   "cell_type": "code",
   "execution_count": 21,
   "id": "dde3d804",
   "metadata": {},
   "outputs": [
    {
     "data": {
      "text/html": [
       "<div>\n",
       "<style scoped>\n",
       "    .dataframe tbody tr th:only-of-type {\n",
       "        vertical-align: middle;\n",
       "    }\n",
       "\n",
       "    .dataframe tbody tr th {\n",
       "        vertical-align: top;\n",
       "    }\n",
       "\n",
       "    .dataframe thead th {\n",
       "        text-align: right;\n",
       "    }\n",
       "</style>\n",
       "<table border=\"1\" class=\"dataframe\">\n",
       "  <thead>\n",
       "    <tr style=\"text-align: right;\">\n",
       "      <th></th>\n",
       "      <th>Segmento</th>\n",
       "      <th>Variacao_rs</th>\n",
       "    </tr>\n",
       "  </thead>\n",
       "  <tbody>\n",
       "    <tr>\n",
       "      <th>0</th>\n",
       "      <td>Alimentos / Agronegócio</td>\n",
       "      <td>407833683.09</td>\n",
       "    </tr>\n",
       "    <tr>\n",
       "      <th>1</th>\n",
       "      <td>Combustíveis</td>\n",
       "      <td>388705223.96</td>\n",
       "    </tr>\n",
       "    <tr>\n",
       "      <th>2</th>\n",
       "      <td>Construção Civil</td>\n",
       "      <td>37525872.38</td>\n",
       "    </tr>\n",
       "    <tr>\n",
       "      <th>3</th>\n",
       "      <td>Educação</td>\n",
       "      <td>72295838.99</td>\n",
       "    </tr>\n",
       "    <tr>\n",
       "      <th>4</th>\n",
       "      <td>Energia / Agronegócio</td>\n",
       "      <td>138800759.60</td>\n",
       "    </tr>\n",
       "    <tr>\n",
       "      <th>5</th>\n",
       "      <td>Energia / Petróleo</td>\n",
       "      <td>5243195684.74</td>\n",
       "    </tr>\n",
       "    <tr>\n",
       "      <th>6</th>\n",
       "      <td>Energia Elétrica</td>\n",
       "      <td>700384086.62</td>\n",
       "    </tr>\n",
       "    <tr>\n",
       "      <th>7</th>\n",
       "      <td>Investimentos</td>\n",
       "      <td>416092244.42</td>\n",
       "    </tr>\n",
       "    <tr>\n",
       "      <th>8</th>\n",
       "      <td>Logística / Transporte</td>\n",
       "      <td>233902674.79</td>\n",
       "    </tr>\n",
       "    <tr>\n",
       "      <th>9</th>\n",
       "      <td>Meios de Pagamento</td>\n",
       "      <td>43657683.38</td>\n",
       "    </tr>\n",
       "    <tr>\n",
       "      <th>10</th>\n",
       "      <td>Mineração</td>\n",
       "      <td>177515970.30</td>\n",
       "    </tr>\n",
       "    <tr>\n",
       "      <th>11</th>\n",
       "      <td>Moda / Varejo</td>\n",
       "      <td>41021792.09</td>\n",
       "    </tr>\n",
       "    <tr>\n",
       "      <th>12</th>\n",
       "      <td>Papel e Celulose</td>\n",
       "      <td>722946282.71</td>\n",
       "    </tr>\n",
       "    <tr>\n",
       "      <th>13</th>\n",
       "      <td>Petróleo</td>\n",
       "      <td>850093147.52</td>\n",
       "    </tr>\n",
       "    <tr>\n",
       "      <th>14</th>\n",
       "      <td>Química</td>\n",
       "      <td>69054317.64</td>\n",
       "    </tr>\n",
       "    <tr>\n",
       "      <th>15</th>\n",
       "      <td>Saúde</td>\n",
       "      <td>453917907.01</td>\n",
       "    </tr>\n",
       "    <tr>\n",
       "      <th>16</th>\n",
       "      <td>Saúde / Varejo</td>\n",
       "      <td>202352473.74</td>\n",
       "    </tr>\n",
       "    <tr>\n",
       "      <th>17</th>\n",
       "      <td>Serviços Financeiros</td>\n",
       "      <td>3740512018.78</td>\n",
       "    </tr>\n",
       "    <tr>\n",
       "      <th>18</th>\n",
       "      <td>Shopping Centers</td>\n",
       "      <td>117732680.08</td>\n",
       "    </tr>\n",
       "    <tr>\n",
       "      <th>19</th>\n",
       "      <td>Siderurgia</td>\n",
       "      <td>489935930.93</td>\n",
       "    </tr>\n",
       "    <tr>\n",
       "      <th>20</th>\n",
       "      <td>Tecnologia / Internet</td>\n",
       "      <td>15598886.65</td>\n",
       "    </tr>\n",
       "    <tr>\n",
       "      <th>21</th>\n",
       "      <td>Telecomunicações</td>\n",
       "      <td>292938114.42</td>\n",
       "    </tr>\n",
       "    <tr>\n",
       "      <th>22</th>\n",
       "      <td>Transporte Aéreo</td>\n",
       "      <td>65452205.55</td>\n",
       "    </tr>\n",
       "    <tr>\n",
       "      <th>23</th>\n",
       "      <td>Varejo</td>\n",
       "      <td>6340916.22</td>\n",
       "    </tr>\n",
       "    <tr>\n",
       "      <th>24</th>\n",
       "      <td>Varejo / Tecnologia</td>\n",
       "      <td>28493619.27</td>\n",
       "    </tr>\n",
       "  </tbody>\n",
       "</table>\n",
       "</div>"
      ],
      "text/plain": [
       "                   Segmento   Variacao_rs\n",
       "0   Alimentos / Agronegócio  407833683.09\n",
       "1              Combustíveis  388705223.96\n",
       "2          Construção Civil   37525872.38\n",
       "3                  Educação   72295838.99\n",
       "4     Energia / Agronegócio  138800759.60\n",
       "5        Energia / Petróleo 5243195684.74\n",
       "6          Energia Elétrica  700384086.62\n",
       "7             Investimentos  416092244.42\n",
       "8    Logística / Transporte  233902674.79\n",
       "9        Meios de Pagamento   43657683.38\n",
       "10                Mineração  177515970.30\n",
       "11            Moda / Varejo   41021792.09\n",
       "12         Papel e Celulose  722946282.71\n",
       "13                 Petróleo  850093147.52\n",
       "14                  Química   69054317.64\n",
       "15                    Saúde  453917907.01\n",
       "16           Saúde / Varejo  202352473.74\n",
       "17     Serviços Financeiros 3740512018.78\n",
       "18         Shopping Centers  117732680.08\n",
       "19               Siderurgia  489935930.93\n",
       "20    Tecnologia / Internet   15598886.65\n",
       "21         Telecomunicações  292938114.42\n",
       "22         Transporte Aéreo   65452205.55\n",
       "23                   Varejo    6340916.22\n",
       "24      Varejo / Tecnologia   28493619.27"
      ]
     },
     "execution_count": 21,
     "metadata": {},
     "output_type": "execute_result"
    }
   ],
   "source": [
    "df_analise_segmento = df_principal_subiu.groupby('Segmento')['Variacao_rs'].sum().reset_index()\n",
    "df_analise_segmento"
   ]
  },
  {
   "cell_type": "code",
   "execution_count": 22,
   "id": "0f03b36c",
   "metadata": {},
   "outputs": [
    {
     "data": {
      "text/html": [
       "<div>\n",
       "<style scoped>\n",
       "    .dataframe tbody tr th:only-of-type {\n",
       "        vertical-align: middle;\n",
       "    }\n",
       "\n",
       "    .dataframe tbody tr th {\n",
       "        vertical-align: top;\n",
       "    }\n",
       "\n",
       "    .dataframe thead th {\n",
       "        text-align: right;\n",
       "    }\n",
       "</style>\n",
       "<table border=\"1\" class=\"dataframe\">\n",
       "  <thead>\n",
       "    <tr style=\"text-align: right;\">\n",
       "      <th></th>\n",
       "      <th>Resultado</th>\n",
       "      <th>Variacao_rs</th>\n",
       "    </tr>\n",
       "  </thead>\n",
       "  <tbody>\n",
       "    <tr>\n",
       "      <th>0</th>\n",
       "      <td>Desceu</td>\n",
       "      <td>-6891816486.99</td>\n",
       "    </tr>\n",
       "    <tr>\n",
       "      <th>1</th>\n",
       "      <td>Estável</td>\n",
       "      <td>0.00</td>\n",
       "    </tr>\n",
       "    <tr>\n",
       "      <th>2</th>\n",
       "      <td>Subiu</td>\n",
       "      <td>14956300014.89</td>\n",
       "    </tr>\n",
       "  </tbody>\n",
       "</table>\n",
       "</div>"
      ],
      "text/plain": [
       "  Resultado    Variacao_rs\n",
       "0    Desceu -6891816486.99\n",
       "1   Estável           0.00\n",
       "2     Subiu 14956300014.89"
      ]
     },
     "execution_count": 22,
     "metadata": {},
     "output_type": "execute_result"
    }
   ],
   "source": [
    "df_analise_saldo = df_principal.groupby('Resultado')['Variacao_rs'].sum().reset_index()\n",
    "df_analise_saldo"
   ]
  },
  {
   "cell_type": "code",
   "execution_count": 23,
   "id": "e06ac35e",
   "metadata": {},
   "outputs": [
    {
     "data": {
      "text/html": [
       "<div>\n",
       "<style scoped>\n",
       "    .dataframe tbody tr th:only-of-type {\n",
       "        vertical-align: middle;\n",
       "    }\n",
       "\n",
       "    .dataframe tbody tr th {\n",
       "        vertical-align: top;\n",
       "    }\n",
       "\n",
       "    .dataframe thead th {\n",
       "        text-align: right;\n",
       "    }\n",
       "</style>\n",
       "<table border=\"1\" class=\"dataframe\">\n",
       "  <thead>\n",
       "    <tr style=\"text-align: right;\">\n",
       "      <th></th>\n",
       "      <th>Cat_idade</th>\n",
       "      <th>Variacao_rs</th>\n",
       "    </tr>\n",
       "  </thead>\n",
       "  <tbody>\n",
       "    <tr>\n",
       "      <th>0</th>\n",
       "      <td>Entre 50 e 100</td>\n",
       "      <td>8578375237.11</td>\n",
       "    </tr>\n",
       "    <tr>\n",
       "      <th>1</th>\n",
       "      <td>Mais de 100</td>\n",
       "      <td>-202408309.86</td>\n",
       "    </tr>\n",
       "    <tr>\n",
       "      <th>2</th>\n",
       "      <td>Menos de 50</td>\n",
       "      <td>-311483399.34</td>\n",
       "    </tr>\n",
       "  </tbody>\n",
       "</table>\n",
       "</div>"
      ],
      "text/plain": [
       "        Cat_idade   Variacao_rs\n",
       "0  Entre 50 e 100 8578375237.11\n",
       "1     Mais de 100 -202408309.86\n",
       "2     Menos de 50 -311483399.34"
      ]
     },
     "execution_count": 23,
     "metadata": {},
     "output_type": "execute_result"
    }
   ],
   "source": [
    "df_analise_idade = df_principal.groupby('Cat_idade')['Variacao_rs'].sum().reset_index()\n",
    "df_analise_idade\n"
   ]
  },
  {
   "cell_type": "code",
   "execution_count": 24,
   "id": "d41c008f",
   "metadata": {},
   "outputs": [
    {
     "data": {
      "text/html": [
       "<div>\n",
       "<style scoped>\n",
       "    .dataframe tbody tr th:only-of-type {\n",
       "        vertical-align: middle;\n",
       "    }\n",
       "\n",
       "    .dataframe tbody tr th {\n",
       "        vertical-align: top;\n",
       "    }\n",
       "\n",
       "    .dataframe thead th {\n",
       "        text-align: right;\n",
       "    }\n",
       "</style>\n",
       "<table border=\"1\" class=\"dataframe\">\n",
       "  <thead>\n",
       "    <tr style=\"text-align: right;\">\n",
       "      <th></th>\n",
       "      <th>Cat_idade</th>\n",
       "      <th>count</th>\n",
       "    </tr>\n",
       "  </thead>\n",
       "  <tbody>\n",
       "    <tr>\n",
       "      <th>0</th>\n",
       "      <td>Menos de 50</td>\n",
       "      <td>43</td>\n",
       "    </tr>\n",
       "    <tr>\n",
       "      <th>1</th>\n",
       "      <td>Entre 50 e 100</td>\n",
       "      <td>33</td>\n",
       "    </tr>\n",
       "    <tr>\n",
       "      <th>2</th>\n",
       "      <td>Mais de 100</td>\n",
       "      <td>7</td>\n",
       "    </tr>\n",
       "  </tbody>\n",
       "</table>\n",
       "</div>"
      ],
      "text/plain": [
       "        Cat_idade  count\n",
       "0     Menos de 50     43\n",
       "1  Entre 50 e 100     33\n",
       "2     Mais de 100      7"
      ]
     },
     "execution_count": 24,
     "metadata": {},
     "output_type": "execute_result"
    }
   ],
   "source": [
    "category_counts = df_principal['Cat_idade'].value_counts().reset_index()\n",
    "category_counts"
   ]
  },
  {
   "cell_type": "code",
   "execution_count": 25,
   "id": "c7f04631",
   "metadata": {},
   "outputs": [
    {
     "data": {
      "application/vnd.plotly.v1+json": {
       "config": {
        "plotlyServerURL": "https://plot.ly"
       },
       "data": [
        {
         "alignmentgroup": "True",
         "hovertemplate": "Resultado=%{x}<br>Variacao_rs=%{text}<extra></extra>",
         "legendgroup": "",
         "marker": {
          "color": "#636efa",
          "pattern": {
           "shape": ""
          }
         },
         "name": "",
         "offsetgroup": "",
         "orientation": "v",
         "showlegend": false,
         "text": [
          -6891816486.985515,
          0,
          14956300014.893822
         ],
         "textposition": "auto",
         "type": "bar",
         "x": [
          "Desceu",
          "Estável",
          "Subiu"
         ],
         "xaxis": "x",
         "y": [
          -6891816486.985515,
          0,
          14956300014.893822
         ],
         "yaxis": "y"
        }
       ],
       "layout": {
        "barmode": "relative",
        "legend": {
         "tracegroupgap": 0
        },
        "template": {
         "data": {
          "bar": [
           {
            "error_x": {
             "color": "#2a3f5f"
            },
            "error_y": {
             "color": "#2a3f5f"
            },
            "marker": {
             "line": {
              "color": "#E5ECF6",
              "width": 0.5
             },
             "pattern": {
              "fillmode": "overlay",
              "size": 10,
              "solidity": 0.2
             }
            },
            "type": "bar"
           }
          ],
          "barpolar": [
           {
            "marker": {
             "line": {
              "color": "#E5ECF6",
              "width": 0.5
             },
             "pattern": {
              "fillmode": "overlay",
              "size": 10,
              "solidity": 0.2
             }
            },
            "type": "barpolar"
           }
          ],
          "carpet": [
           {
            "aaxis": {
             "endlinecolor": "#2a3f5f",
             "gridcolor": "white",
             "linecolor": "white",
             "minorgridcolor": "white",
             "startlinecolor": "#2a3f5f"
            },
            "baxis": {
             "endlinecolor": "#2a3f5f",
             "gridcolor": "white",
             "linecolor": "white",
             "minorgridcolor": "white",
             "startlinecolor": "#2a3f5f"
            },
            "type": "carpet"
           }
          ],
          "choropleth": [
           {
            "colorbar": {
             "outlinewidth": 0,
             "ticks": ""
            },
            "type": "choropleth"
           }
          ],
          "contour": [
           {
            "colorbar": {
             "outlinewidth": 0,
             "ticks": ""
            },
            "colorscale": [
             [
              0,
              "#0d0887"
             ],
             [
              0.1111111111111111,
              "#46039f"
             ],
             [
              0.2222222222222222,
              "#7201a8"
             ],
             [
              0.3333333333333333,
              "#9c179e"
             ],
             [
              0.4444444444444444,
              "#bd3786"
             ],
             [
              0.5555555555555556,
              "#d8576b"
             ],
             [
              0.6666666666666666,
              "#ed7953"
             ],
             [
              0.7777777777777778,
              "#fb9f3a"
             ],
             [
              0.8888888888888888,
              "#fdca26"
             ],
             [
              1,
              "#f0f921"
             ]
            ],
            "type": "contour"
           }
          ],
          "contourcarpet": [
           {
            "colorbar": {
             "outlinewidth": 0,
             "ticks": ""
            },
            "type": "contourcarpet"
           }
          ],
          "heatmap": [
           {
            "colorbar": {
             "outlinewidth": 0,
             "ticks": ""
            },
            "colorscale": [
             [
              0,
              "#0d0887"
             ],
             [
              0.1111111111111111,
              "#46039f"
             ],
             [
              0.2222222222222222,
              "#7201a8"
             ],
             [
              0.3333333333333333,
              "#9c179e"
             ],
             [
              0.4444444444444444,
              "#bd3786"
             ],
             [
              0.5555555555555556,
              "#d8576b"
             ],
             [
              0.6666666666666666,
              "#ed7953"
             ],
             [
              0.7777777777777778,
              "#fb9f3a"
             ],
             [
              0.8888888888888888,
              "#fdca26"
             ],
             [
              1,
              "#f0f921"
             ]
            ],
            "type": "heatmap"
           }
          ],
          "heatmapgl": [
           {
            "colorbar": {
             "outlinewidth": 0,
             "ticks": ""
            },
            "colorscale": [
             [
              0,
              "#0d0887"
             ],
             [
              0.1111111111111111,
              "#46039f"
             ],
             [
              0.2222222222222222,
              "#7201a8"
             ],
             [
              0.3333333333333333,
              "#9c179e"
             ],
             [
              0.4444444444444444,
              "#bd3786"
             ],
             [
              0.5555555555555556,
              "#d8576b"
             ],
             [
              0.6666666666666666,
              "#ed7953"
             ],
             [
              0.7777777777777778,
              "#fb9f3a"
             ],
             [
              0.8888888888888888,
              "#fdca26"
             ],
             [
              1,
              "#f0f921"
             ]
            ],
            "type": "heatmapgl"
           }
          ],
          "histogram": [
           {
            "marker": {
             "pattern": {
              "fillmode": "overlay",
              "size": 10,
              "solidity": 0.2
             }
            },
            "type": "histogram"
           }
          ],
          "histogram2d": [
           {
            "colorbar": {
             "outlinewidth": 0,
             "ticks": ""
            },
            "colorscale": [
             [
              0,
              "#0d0887"
             ],
             [
              0.1111111111111111,
              "#46039f"
             ],
             [
              0.2222222222222222,
              "#7201a8"
             ],
             [
              0.3333333333333333,
              "#9c179e"
             ],
             [
              0.4444444444444444,
              "#bd3786"
             ],
             [
              0.5555555555555556,
              "#d8576b"
             ],
             [
              0.6666666666666666,
              "#ed7953"
             ],
             [
              0.7777777777777778,
              "#fb9f3a"
             ],
             [
              0.8888888888888888,
              "#fdca26"
             ],
             [
              1,
              "#f0f921"
             ]
            ],
            "type": "histogram2d"
           }
          ],
          "histogram2dcontour": [
           {
            "colorbar": {
             "outlinewidth": 0,
             "ticks": ""
            },
            "colorscale": [
             [
              0,
              "#0d0887"
             ],
             [
              0.1111111111111111,
              "#46039f"
             ],
             [
              0.2222222222222222,
              "#7201a8"
             ],
             [
              0.3333333333333333,
              "#9c179e"
             ],
             [
              0.4444444444444444,
              "#bd3786"
             ],
             [
              0.5555555555555556,
              "#d8576b"
             ],
             [
              0.6666666666666666,
              "#ed7953"
             ],
             [
              0.7777777777777778,
              "#fb9f3a"
             ],
             [
              0.8888888888888888,
              "#fdca26"
             ],
             [
              1,
              "#f0f921"
             ]
            ],
            "type": "histogram2dcontour"
           }
          ],
          "mesh3d": [
           {
            "colorbar": {
             "outlinewidth": 0,
             "ticks": ""
            },
            "type": "mesh3d"
           }
          ],
          "parcoords": [
           {
            "line": {
             "colorbar": {
              "outlinewidth": 0,
              "ticks": ""
             }
            },
            "type": "parcoords"
           }
          ],
          "pie": [
           {
            "automargin": true,
            "type": "pie"
           }
          ],
          "scatter": [
           {
            "fillpattern": {
             "fillmode": "overlay",
             "size": 10,
             "solidity": 0.2
            },
            "type": "scatter"
           }
          ],
          "scatter3d": [
           {
            "line": {
             "colorbar": {
              "outlinewidth": 0,
              "ticks": ""
             }
            },
            "marker": {
             "colorbar": {
              "outlinewidth": 0,
              "ticks": ""
             }
            },
            "type": "scatter3d"
           }
          ],
          "scattercarpet": [
           {
            "marker": {
             "colorbar": {
              "outlinewidth": 0,
              "ticks": ""
             }
            },
            "type": "scattercarpet"
           }
          ],
          "scattergeo": [
           {
            "marker": {
             "colorbar": {
              "outlinewidth": 0,
              "ticks": ""
             }
            },
            "type": "scattergeo"
           }
          ],
          "scattergl": [
           {
            "marker": {
             "colorbar": {
              "outlinewidth": 0,
              "ticks": ""
             }
            },
            "type": "scattergl"
           }
          ],
          "scattermapbox": [
           {
            "marker": {
             "colorbar": {
              "outlinewidth": 0,
              "ticks": ""
             }
            },
            "type": "scattermapbox"
           }
          ],
          "scatterpolar": [
           {
            "marker": {
             "colorbar": {
              "outlinewidth": 0,
              "ticks": ""
             }
            },
            "type": "scatterpolar"
           }
          ],
          "scatterpolargl": [
           {
            "marker": {
             "colorbar": {
              "outlinewidth": 0,
              "ticks": ""
             }
            },
            "type": "scatterpolargl"
           }
          ],
          "scatterternary": [
           {
            "marker": {
             "colorbar": {
              "outlinewidth": 0,
              "ticks": ""
             }
            },
            "type": "scatterternary"
           }
          ],
          "surface": [
           {
            "colorbar": {
             "outlinewidth": 0,
             "ticks": ""
            },
            "colorscale": [
             [
              0,
              "#0d0887"
             ],
             [
              0.1111111111111111,
              "#46039f"
             ],
             [
              0.2222222222222222,
              "#7201a8"
             ],
             [
              0.3333333333333333,
              "#9c179e"
             ],
             [
              0.4444444444444444,
              "#bd3786"
             ],
             [
              0.5555555555555556,
              "#d8576b"
             ],
             [
              0.6666666666666666,
              "#ed7953"
             ],
             [
              0.7777777777777778,
              "#fb9f3a"
             ],
             [
              0.8888888888888888,
              "#fdca26"
             ],
             [
              1,
              "#f0f921"
             ]
            ],
            "type": "surface"
           }
          ],
          "table": [
           {
            "cells": {
             "fill": {
              "color": "#EBF0F8"
             },
             "line": {
              "color": "white"
             }
            },
            "header": {
             "fill": {
              "color": "#C8D4E3"
             },
             "line": {
              "color": "white"
             }
            },
            "type": "table"
           }
          ]
         },
         "layout": {
          "annotationdefaults": {
           "arrowcolor": "#2a3f5f",
           "arrowhead": 0,
           "arrowwidth": 1
          },
          "autotypenumbers": "strict",
          "coloraxis": {
           "colorbar": {
            "outlinewidth": 0,
            "ticks": ""
           }
          },
          "colorscale": {
           "diverging": [
            [
             0,
             "#8e0152"
            ],
            [
             0.1,
             "#c51b7d"
            ],
            [
             0.2,
             "#de77ae"
            ],
            [
             0.3,
             "#f1b6da"
            ],
            [
             0.4,
             "#fde0ef"
            ],
            [
             0.5,
             "#f7f7f7"
            ],
            [
             0.6,
             "#e6f5d0"
            ],
            [
             0.7,
             "#b8e186"
            ],
            [
             0.8,
             "#7fbc41"
            ],
            [
             0.9,
             "#4d9221"
            ],
            [
             1,
             "#276419"
            ]
           ],
           "sequential": [
            [
             0,
             "#0d0887"
            ],
            [
             0.1111111111111111,
             "#46039f"
            ],
            [
             0.2222222222222222,
             "#7201a8"
            ],
            [
             0.3333333333333333,
             "#9c179e"
            ],
            [
             0.4444444444444444,
             "#bd3786"
            ],
            [
             0.5555555555555556,
             "#d8576b"
            ],
            [
             0.6666666666666666,
             "#ed7953"
            ],
            [
             0.7777777777777778,
             "#fb9f3a"
            ],
            [
             0.8888888888888888,
             "#fdca26"
            ],
            [
             1,
             "#f0f921"
            ]
           ],
           "sequentialminus": [
            [
             0,
             "#0d0887"
            ],
            [
             0.1111111111111111,
             "#46039f"
            ],
            [
             0.2222222222222222,
             "#7201a8"
            ],
            [
             0.3333333333333333,
             "#9c179e"
            ],
            [
             0.4444444444444444,
             "#bd3786"
            ],
            [
             0.5555555555555556,
             "#d8576b"
            ],
            [
             0.6666666666666666,
             "#ed7953"
            ],
            [
             0.7777777777777778,
             "#fb9f3a"
            ],
            [
             0.8888888888888888,
             "#fdca26"
            ],
            [
             1,
             "#f0f921"
            ]
           ]
          },
          "colorway": [
           "#636efa",
           "#EF553B",
           "#00cc96",
           "#ab63fa",
           "#FFA15A",
           "#19d3f3",
           "#FF6692",
           "#B6E880",
           "#FF97FF",
           "#FECB52"
          ],
          "font": {
           "color": "#2a3f5f"
          },
          "geo": {
           "bgcolor": "white",
           "lakecolor": "white",
           "landcolor": "#E5ECF6",
           "showlakes": true,
           "showland": true,
           "subunitcolor": "white"
          },
          "hoverlabel": {
           "align": "left"
          },
          "hovermode": "closest",
          "mapbox": {
           "style": "light"
          },
          "paper_bgcolor": "white",
          "plot_bgcolor": "#E5ECF6",
          "polar": {
           "angularaxis": {
            "gridcolor": "white",
            "linecolor": "white",
            "ticks": ""
           },
           "bgcolor": "#E5ECF6",
           "radialaxis": {
            "gridcolor": "white",
            "linecolor": "white",
            "ticks": ""
           }
          },
          "scene": {
           "xaxis": {
            "backgroundcolor": "#E5ECF6",
            "gridcolor": "white",
            "gridwidth": 2,
            "linecolor": "white",
            "showbackground": true,
            "ticks": "",
            "zerolinecolor": "white"
           },
           "yaxis": {
            "backgroundcolor": "#E5ECF6",
            "gridcolor": "white",
            "gridwidth": 2,
            "linecolor": "white",
            "showbackground": true,
            "ticks": "",
            "zerolinecolor": "white"
           },
           "zaxis": {
            "backgroundcolor": "#E5ECF6",
            "gridcolor": "white",
            "gridwidth": 2,
            "linecolor": "white",
            "showbackground": true,
            "ticks": "",
            "zerolinecolor": "white"
           }
          },
          "shapedefaults": {
           "line": {
            "color": "#2a3f5f"
           }
          },
          "ternary": {
           "aaxis": {
            "gridcolor": "white",
            "linecolor": "white",
            "ticks": ""
           },
           "baxis": {
            "gridcolor": "white",
            "linecolor": "white",
            "ticks": ""
           },
           "bgcolor": "#E5ECF6",
           "caxis": {
            "gridcolor": "white",
            "linecolor": "white",
            "ticks": ""
           }
          },
          "title": {
           "x": 0.05
          },
          "xaxis": {
           "automargin": true,
           "gridcolor": "white",
           "linecolor": "white",
           "ticks": "",
           "title": {
            "standoff": 15
           },
           "zerolinecolor": "white",
           "zerolinewidth": 2
          },
          "yaxis": {
           "automargin": true,
           "gridcolor": "white",
           "linecolor": "white",
           "ticks": "",
           "title": {
            "standoff": 15
           },
           "zerolinecolor": "white",
           "zerolinewidth": 2
          }
         }
        },
        "title": {
         "text": "Variação reais por resultado"
        },
        "xaxis": {
         "anchor": "y",
         "domain": [
          0,
          1
         ],
         "title": {
          "text": "Resultado"
         }
        },
        "yaxis": {
         "anchor": "x",
         "domain": [
          0,
          1
         ],
         "title": {
          "text": "Variacao_rs"
         }
        }
       }
      }
     },
     "metadata": {},
     "output_type": "display_data"
    }
   ],
   "source": [
    "fig = px.bar(df_analise_saldo, x='Resultado', y='Variacao_rs', text='Variacao_rs', title='Variação reais por resultado')\n",
    "fig.show()"
   ]
  },
  {
   "cell_type": "code",
   "execution_count": 26,
   "id": "f2452e6d",
   "metadata": {},
   "outputs": [
    {
     "data": {
      "application/vnd.plotly.v1+json": {
       "config": {
        "plotlyServerURL": "https://plot.ly"
       },
       "data": [
        {
         "domain": {
          "x": [
           0,
           1
          ],
          "y": [
           0,
           1
          ]
         },
         "hovertemplate": "Cat_idade=%{label}<br>count=%{value}<extra></extra>",
         "labels": [
          "Menos de 50",
          "Entre 50 e 100",
          "Mais de 100"
         ],
         "legendgroup": "",
         "name": "",
         "showlegend": true,
         "type": "pie",
         "values": [
          43,
          33,
          7
         ]
        }
       ],
       "layout": {
        "legend": {
         "tracegroupgap": 0
        },
        "template": {
         "data": {
          "bar": [
           {
            "error_x": {
             "color": "#2a3f5f"
            },
            "error_y": {
             "color": "#2a3f5f"
            },
            "marker": {
             "line": {
              "color": "#E5ECF6",
              "width": 0.5
             },
             "pattern": {
              "fillmode": "overlay",
              "size": 10,
              "solidity": 0.2
             }
            },
            "type": "bar"
           }
          ],
          "barpolar": [
           {
            "marker": {
             "line": {
              "color": "#E5ECF6",
              "width": 0.5
             },
             "pattern": {
              "fillmode": "overlay",
              "size": 10,
              "solidity": 0.2
             }
            },
            "type": "barpolar"
           }
          ],
          "carpet": [
           {
            "aaxis": {
             "endlinecolor": "#2a3f5f",
             "gridcolor": "white",
             "linecolor": "white",
             "minorgridcolor": "white",
             "startlinecolor": "#2a3f5f"
            },
            "baxis": {
             "endlinecolor": "#2a3f5f",
             "gridcolor": "white",
             "linecolor": "white",
             "minorgridcolor": "white",
             "startlinecolor": "#2a3f5f"
            },
            "type": "carpet"
           }
          ],
          "choropleth": [
           {
            "colorbar": {
             "outlinewidth": 0,
             "ticks": ""
            },
            "type": "choropleth"
           }
          ],
          "contour": [
           {
            "colorbar": {
             "outlinewidth": 0,
             "ticks": ""
            },
            "colorscale": [
             [
              0,
              "#0d0887"
             ],
             [
              0.1111111111111111,
              "#46039f"
             ],
             [
              0.2222222222222222,
              "#7201a8"
             ],
             [
              0.3333333333333333,
              "#9c179e"
             ],
             [
              0.4444444444444444,
              "#bd3786"
             ],
             [
              0.5555555555555556,
              "#d8576b"
             ],
             [
              0.6666666666666666,
              "#ed7953"
             ],
             [
              0.7777777777777778,
              "#fb9f3a"
             ],
             [
              0.8888888888888888,
              "#fdca26"
             ],
             [
              1,
              "#f0f921"
             ]
            ],
            "type": "contour"
           }
          ],
          "contourcarpet": [
           {
            "colorbar": {
             "outlinewidth": 0,
             "ticks": ""
            },
            "type": "contourcarpet"
           }
          ],
          "heatmap": [
           {
            "colorbar": {
             "outlinewidth": 0,
             "ticks": ""
            },
            "colorscale": [
             [
              0,
              "#0d0887"
             ],
             [
              0.1111111111111111,
              "#46039f"
             ],
             [
              0.2222222222222222,
              "#7201a8"
             ],
             [
              0.3333333333333333,
              "#9c179e"
             ],
             [
              0.4444444444444444,
              "#bd3786"
             ],
             [
              0.5555555555555556,
              "#d8576b"
             ],
             [
              0.6666666666666666,
              "#ed7953"
             ],
             [
              0.7777777777777778,
              "#fb9f3a"
             ],
             [
              0.8888888888888888,
              "#fdca26"
             ],
             [
              1,
              "#f0f921"
             ]
            ],
            "type": "heatmap"
           }
          ],
          "heatmapgl": [
           {
            "colorbar": {
             "outlinewidth": 0,
             "ticks": ""
            },
            "colorscale": [
             [
              0,
              "#0d0887"
             ],
             [
              0.1111111111111111,
              "#46039f"
             ],
             [
              0.2222222222222222,
              "#7201a8"
             ],
             [
              0.3333333333333333,
              "#9c179e"
             ],
             [
              0.4444444444444444,
              "#bd3786"
             ],
             [
              0.5555555555555556,
              "#d8576b"
             ],
             [
              0.6666666666666666,
              "#ed7953"
             ],
             [
              0.7777777777777778,
              "#fb9f3a"
             ],
             [
              0.8888888888888888,
              "#fdca26"
             ],
             [
              1,
              "#f0f921"
             ]
            ],
            "type": "heatmapgl"
           }
          ],
          "histogram": [
           {
            "marker": {
             "pattern": {
              "fillmode": "overlay",
              "size": 10,
              "solidity": 0.2
             }
            },
            "type": "histogram"
           }
          ],
          "histogram2d": [
           {
            "colorbar": {
             "outlinewidth": 0,
             "ticks": ""
            },
            "colorscale": [
             [
              0,
              "#0d0887"
             ],
             [
              0.1111111111111111,
              "#46039f"
             ],
             [
              0.2222222222222222,
              "#7201a8"
             ],
             [
              0.3333333333333333,
              "#9c179e"
             ],
             [
              0.4444444444444444,
              "#bd3786"
             ],
             [
              0.5555555555555556,
              "#d8576b"
             ],
             [
              0.6666666666666666,
              "#ed7953"
             ],
             [
              0.7777777777777778,
              "#fb9f3a"
             ],
             [
              0.8888888888888888,
              "#fdca26"
             ],
             [
              1,
              "#f0f921"
             ]
            ],
            "type": "histogram2d"
           }
          ],
          "histogram2dcontour": [
           {
            "colorbar": {
             "outlinewidth": 0,
             "ticks": ""
            },
            "colorscale": [
             [
              0,
              "#0d0887"
             ],
             [
              0.1111111111111111,
              "#46039f"
             ],
             [
              0.2222222222222222,
              "#7201a8"
             ],
             [
              0.3333333333333333,
              "#9c179e"
             ],
             [
              0.4444444444444444,
              "#bd3786"
             ],
             [
              0.5555555555555556,
              "#d8576b"
             ],
             [
              0.6666666666666666,
              "#ed7953"
             ],
             [
              0.7777777777777778,
              "#fb9f3a"
             ],
             [
              0.8888888888888888,
              "#fdca26"
             ],
             [
              1,
              "#f0f921"
             ]
            ],
            "type": "histogram2dcontour"
           }
          ],
          "mesh3d": [
           {
            "colorbar": {
             "outlinewidth": 0,
             "ticks": ""
            },
            "type": "mesh3d"
           }
          ],
          "parcoords": [
           {
            "line": {
             "colorbar": {
              "outlinewidth": 0,
              "ticks": ""
             }
            },
            "type": "parcoords"
           }
          ],
          "pie": [
           {
            "automargin": true,
            "type": "pie"
           }
          ],
          "scatter": [
           {
            "fillpattern": {
             "fillmode": "overlay",
             "size": 10,
             "solidity": 0.2
            },
            "type": "scatter"
           }
          ],
          "scatter3d": [
           {
            "line": {
             "colorbar": {
              "outlinewidth": 0,
              "ticks": ""
             }
            },
            "marker": {
             "colorbar": {
              "outlinewidth": 0,
              "ticks": ""
             }
            },
            "type": "scatter3d"
           }
          ],
          "scattercarpet": [
           {
            "marker": {
             "colorbar": {
              "outlinewidth": 0,
              "ticks": ""
             }
            },
            "type": "scattercarpet"
           }
          ],
          "scattergeo": [
           {
            "marker": {
             "colorbar": {
              "outlinewidth": 0,
              "ticks": ""
             }
            },
            "type": "scattergeo"
           }
          ],
          "scattergl": [
           {
            "marker": {
             "colorbar": {
              "outlinewidth": 0,
              "ticks": ""
             }
            },
            "type": "scattergl"
           }
          ],
          "scattermapbox": [
           {
            "marker": {
             "colorbar": {
              "outlinewidth": 0,
              "ticks": ""
             }
            },
            "type": "scattermapbox"
           }
          ],
          "scatterpolar": [
           {
            "marker": {
             "colorbar": {
              "outlinewidth": 0,
              "ticks": ""
             }
            },
            "type": "scatterpolar"
           }
          ],
          "scatterpolargl": [
           {
            "marker": {
             "colorbar": {
              "outlinewidth": 0,
              "ticks": ""
             }
            },
            "type": "scatterpolargl"
           }
          ],
          "scatterternary": [
           {
            "marker": {
             "colorbar": {
              "outlinewidth": 0,
              "ticks": ""
             }
            },
            "type": "scatterternary"
           }
          ],
          "surface": [
           {
            "colorbar": {
             "outlinewidth": 0,
             "ticks": ""
            },
            "colorscale": [
             [
              0,
              "#0d0887"
             ],
             [
              0.1111111111111111,
              "#46039f"
             ],
             [
              0.2222222222222222,
              "#7201a8"
             ],
             [
              0.3333333333333333,
              "#9c179e"
             ],
             [
              0.4444444444444444,
              "#bd3786"
             ],
             [
              0.5555555555555556,
              "#d8576b"
             ],
             [
              0.6666666666666666,
              "#ed7953"
             ],
             [
              0.7777777777777778,
              "#fb9f3a"
             ],
             [
              0.8888888888888888,
              "#fdca26"
             ],
             [
              1,
              "#f0f921"
             ]
            ],
            "type": "surface"
           }
          ],
          "table": [
           {
            "cells": {
             "fill": {
              "color": "#EBF0F8"
             },
             "line": {
              "color": "white"
             }
            },
            "header": {
             "fill": {
              "color": "#C8D4E3"
             },
             "line": {
              "color": "white"
             }
            },
            "type": "table"
           }
          ]
         },
         "layout": {
          "annotationdefaults": {
           "arrowcolor": "#2a3f5f",
           "arrowhead": 0,
           "arrowwidth": 1
          },
          "autotypenumbers": "strict",
          "coloraxis": {
           "colorbar": {
            "outlinewidth": 0,
            "ticks": ""
           }
          },
          "colorscale": {
           "diverging": [
            [
             0,
             "#8e0152"
            ],
            [
             0.1,
             "#c51b7d"
            ],
            [
             0.2,
             "#de77ae"
            ],
            [
             0.3,
             "#f1b6da"
            ],
            [
             0.4,
             "#fde0ef"
            ],
            [
             0.5,
             "#f7f7f7"
            ],
            [
             0.6,
             "#e6f5d0"
            ],
            [
             0.7,
             "#b8e186"
            ],
            [
             0.8,
             "#7fbc41"
            ],
            [
             0.9,
             "#4d9221"
            ],
            [
             1,
             "#276419"
            ]
           ],
           "sequential": [
            [
             0,
             "#0d0887"
            ],
            [
             0.1111111111111111,
             "#46039f"
            ],
            [
             0.2222222222222222,
             "#7201a8"
            ],
            [
             0.3333333333333333,
             "#9c179e"
            ],
            [
             0.4444444444444444,
             "#bd3786"
            ],
            [
             0.5555555555555556,
             "#d8576b"
            ],
            [
             0.6666666666666666,
             "#ed7953"
            ],
            [
             0.7777777777777778,
             "#fb9f3a"
            ],
            [
             0.8888888888888888,
             "#fdca26"
            ],
            [
             1,
             "#f0f921"
            ]
           ],
           "sequentialminus": [
            [
             0,
             "#0d0887"
            ],
            [
             0.1111111111111111,
             "#46039f"
            ],
            [
             0.2222222222222222,
             "#7201a8"
            ],
            [
             0.3333333333333333,
             "#9c179e"
            ],
            [
             0.4444444444444444,
             "#bd3786"
            ],
            [
             0.5555555555555556,
             "#d8576b"
            ],
            [
             0.6666666666666666,
             "#ed7953"
            ],
            [
             0.7777777777777778,
             "#fb9f3a"
            ],
            [
             0.8888888888888888,
             "#fdca26"
            ],
            [
             1,
             "#f0f921"
            ]
           ]
          },
          "colorway": [
           "#636efa",
           "#EF553B",
           "#00cc96",
           "#ab63fa",
           "#FFA15A",
           "#19d3f3",
           "#FF6692",
           "#B6E880",
           "#FF97FF",
           "#FECB52"
          ],
          "font": {
           "color": "#2a3f5f"
          },
          "geo": {
           "bgcolor": "white",
           "lakecolor": "white",
           "landcolor": "#E5ECF6",
           "showlakes": true,
           "showland": true,
           "subunitcolor": "white"
          },
          "hoverlabel": {
           "align": "left"
          },
          "hovermode": "closest",
          "mapbox": {
           "style": "light"
          },
          "paper_bgcolor": "white",
          "plot_bgcolor": "#E5ECF6",
          "polar": {
           "angularaxis": {
            "gridcolor": "white",
            "linecolor": "white",
            "ticks": ""
           },
           "bgcolor": "#E5ECF6",
           "radialaxis": {
            "gridcolor": "white",
            "linecolor": "white",
            "ticks": ""
           }
          },
          "scene": {
           "xaxis": {
            "backgroundcolor": "#E5ECF6",
            "gridcolor": "white",
            "gridwidth": 2,
            "linecolor": "white",
            "showbackground": true,
            "ticks": "",
            "zerolinecolor": "white"
           },
           "yaxis": {
            "backgroundcolor": "#E5ECF6",
            "gridcolor": "white",
            "gridwidth": 2,
            "linecolor": "white",
            "showbackground": true,
            "ticks": "",
            "zerolinecolor": "white"
           },
           "zaxis": {
            "backgroundcolor": "#E5ECF6",
            "gridcolor": "white",
            "gridwidth": 2,
            "linecolor": "white",
            "showbackground": true,
            "ticks": "",
            "zerolinecolor": "white"
           }
          },
          "shapedefaults": {
           "line": {
            "color": "#2a3f5f"
           }
          },
          "ternary": {
           "aaxis": {
            "gridcolor": "white",
            "linecolor": "white",
            "ticks": ""
           },
           "baxis": {
            "gridcolor": "white",
            "linecolor": "white",
            "ticks": ""
           },
           "bgcolor": "#E5ECF6",
           "caxis": {
            "gridcolor": "white",
            "linecolor": "white",
            "ticks": ""
           }
          },
          "title": {
           "x": 0.05
          },
          "xaxis": {
           "automargin": true,
           "gridcolor": "white",
           "linecolor": "white",
           "ticks": "",
           "title": {
            "standoff": 15
           },
           "zerolinecolor": "white",
           "zerolinewidth": 2
          },
          "yaxis": {
           "automargin": true,
           "gridcolor": "white",
           "linecolor": "white",
           "ticks": "",
           "title": {
            "standoff": 15
           },
           "zerolinecolor": "white",
           "zerolinewidth": 2
          }
         }
        },
        "title": {
         "text": "Variação reais por resultado"
        }
       }
      }
     },
     "metadata": {},
     "output_type": "display_data"
    }
   ],
   "source": [
    "fig = px.pie(category_counts, names='Cat_idade', values='count', title='Variação reais por resultado')\n",
    "fig.show()"
   ]
  }
 ],
 "metadata": {
  "kernelspec": {
   "display_name": "Python 3 (ipykernel)",
   "language": "python",
   "name": "python3"
  },
  "language_info": {
   "codemirror_mode": {
    "name": "ipython",
    "version": 3
   },
   "file_extension": ".py",
   "mimetype": "text/x-python",
   "name": "python",
   "nbconvert_exporter": "python",
   "pygments_lexer": "ipython3",
   "version": "3.12.2"
  }
 },
 "nbformat": 4,
 "nbformat_minor": 5
}
